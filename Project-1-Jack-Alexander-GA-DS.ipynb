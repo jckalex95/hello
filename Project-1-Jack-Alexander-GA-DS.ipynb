{
 "cells": [
  {
   "cell_type": "markdown",
   "metadata": {},
   "source": [
    "# Project 1: Data Science & Python Fundamentals\n",
    "\n",
    "_Authors: Preriit Souda _\n",
    "\n",
    "---"
   ]
  },
  {
   "cell_type": "markdown",
   "metadata": {},
   "source": [
    "**Welcome to the first assignment of DataScience Fundamentals.**\n",
    "\n",
    "All of the questions below can be answered using the content we studied till date. You already know it. Relax and get started. You will breeze through this assignment. \n",
    "\n",
    "Use of pseudocode can be helpful in your process. \n",
    "\n",
    "If you need any help, feel free to ping the instructional team. \n",
    "\n",
    "Please submit this assignment in a week's time (17 May 2022, 23:59 BST). If you need additional time, please contact Instructional Associates. \n",
    "\n",
    "All the Best. "
   ]
  },
  {
   "cell_type": "markdown",
   "metadata": {},
   "source": [
    "### 1) Real World Situation: \n",
    "\n",
    "You have been invited to advise a local ethinic restaurant chain (6 restaurants in London). The chain serves indian food and had 10% yoy growth for last 6 years. Lately, its sales have been falling. \n",
    "\n",
    "Restaurant owner has asked for your help. To get started, can you define the objectives of this work and suggest data sources you would need, why you would need and probable problems you might encounter in getting hold of your desired datasets.\n",
    "\n"
   ]
  },
  {
   "cell_type": "code",
   "execution_count": 1,
   "metadata": {},
   "outputs": [],
   "source": [
    "#A: \n",
    "Objective: Explore the potential cause of the flatlining sales across this restaurant chain.\n",
    "\n",
    "Data Required:\n",
    "    1. Total sales broken up by time/day/month/year and list of 6 restaraunts.\n",
    "    2. Sales broken down by item on menu.\n",
    "    3. Number of customers entering restaurant. \n",
    "    4. Capacity of restaraunts \n",
    "    5. Time customers remain in restaurant.\n",
    "    6. Time to serve food \n",
    "    7. Customer satisfaction (lates / food complaints/ social media postings).\n",
    "    8. Staff turnover / staff absences\n",
    "    9. Stock issue by product offer \n",
    "\n",
    "Why needed:\n",
    "    1. Peaks and troughs in day to day sales (Breakfast / Lunch / Dinner times) and spikes during festivals such as Diwali or Christmas\n",
    "    2. Top selling / lowest selling items on menu (improve / delist former) - guide product development on what is most popular\n",
    "    3. Determine footfall into restaurants \n",
    "    4. If at capacity / then turning away potential customers\n",
    "    5. AVG time customer remain can help forecast demand\n",
    "    6. AVG time to serve customer can help forecast supply\n",
    "    7. Disastified customer = no return sale / poor review = less likely organic-customer sales\n",
    "    8. Chef. Waiter ect.. absence can lead to constricted output / early closures / turning customers away \n",
    "    9. Out of stock issues (especially on popular products) will hurt sales\n",
    "\n",
    "Sources:\n",
    "    1. Social (Twitter / Facebook mentions of brand name ect...)\n",
    "    2. Sales data in trasaction database (cloud based AWS/GCP/Azure ect..)\n",
    "    3. Wifi - tracking when customers join wifi (Timestamp when joined vs. timestampe when leaving)\n",
    "    4. Should be kepy in building / managment / fire-safety plans somewhere \n",
    "    5. Wifi - tracking when customers join wifi (Timestamp when joined vs. timestampe when leaving)\n",
    "            OR\n",
    "        Hire 3rd party makreting company to measure AVG customer time spent inside\n",
    "    6. Timestamp of when order received (chef given by waiter) vs. timestamp of when order ready to be served \n",
    "    7. CRM system should be logging instance of customer lates / customer feedback scores\n",
    "    8. HR software / shift scheduling should be logged somewhere\n",
    "    9. Stock ordering / managment system... again should be logged somewhere\n",
    "        \n",
    "    \n",
    "    "
   ]
  },
  {
   "cell_type": "markdown",
   "metadata": {},
   "source": [
    "### 2) Please list important steps in Data Science Worflow?"
   ]
  },
  {
   "cell_type": "code",
   "execution_count": 2,
   "metadata": {},
   "outputs": [],
   "source": [
    "#A: \n",
    "1. Frame \n",
    "2. Prepare \n",
    "3. Analyse \n",
    "4. Interpret\n",
    "5. Communicate"
   ]
  },
  {
   "cell_type": "markdown",
   "metadata": {},
   "source": [
    "### 3) What are the two categories of Supervised Learning? \n",
    "\n"
   ]
  },
  {
   "cell_type": "code",
   "execution_count": 3,
   "metadata": {},
   "outputs": [],
   "source": [
    "#A: \n",
    "1. Classification\n",
    "2. Regression"
   ]
  },
  {
   "cell_type": "markdown",
   "metadata": {},
   "source": [
    "---\n",
    "\n",
    "### 4) Write a function that takes the height and width of a triangle and returns the area."
   ]
  },
  {
   "cell_type": "code",
   "execution_count": 153,
   "metadata": {},
   "outputs": [
    {
     "name": "stdout",
     "output_type": "stream",
     "text": [
      "Please provide triangle height and width\n",
      "5\n",
      "6\n",
      "Triangle areas is 15.0\n"
     ]
    }
   ],
   "source": [
    "print('Please provide triangle height and width')\n",
    "height = int(input())\n",
    "length = int(input())\n",
    "\n",
    "\n",
    "triangle_area = (height*length)/2\n",
    "print(f'Triangle areas is {triangle_area}')"
   ]
  },
  {
   "cell_type": "markdown",
   "metadata": {},
   "source": [
    "### 5) Iterate from 1 to 15, printing whether the number is odd or even.\n",
    "\n",
    "Hint: Look at operators. A lesser used operator. "
   ]
  },
  {
   "cell_type": "code",
   "execution_count": 154,
   "metadata": {},
   "outputs": [
    {
     "name": "stdout",
     "output_type": "stream",
     "text": [
      "odd\n",
      "1\n",
      "even\n",
      "2\n",
      "odd\n",
      "3\n",
      "even\n",
      "4\n",
      "odd\n",
      "5\n",
      "even\n",
      "6\n",
      "odd\n",
      "7\n",
      "even\n",
      "8\n",
      "odd\n",
      "9\n",
      "even\n",
      "10\n",
      "odd\n",
      "11\n",
      "even\n",
      "12\n",
      "odd\n",
      "13\n",
      "even\n",
      "14\n",
      "odd\n",
      "15\n"
     ]
    }
   ],
   "source": [
    "list = [1,2,3,4,5,6,7,8,9,10,11,12,13,14,15]\n",
    "\n",
    "for i in list:\n",
    "    if (i%2 == 0):\n",
    "        print('even')\n",
    "    else:\n",
    "        print('odd')\n",
    "    print(str(i))"
   ]
  },
  {
   "cell_type": "markdown",
   "metadata": {},
   "source": [
    "### 6) Write a small program which converts Miles to Kilometers \n",
    "\n",
    "Ask the user to enter miles, check whether it is a float, do the calculation, and the program returns kilometers which is printed. Use try and except block to handle wrong data types. \n",
    "\n",
    "FYI: 1 Mile = 1.6 Kilometers"
   ]
  },
  {
   "cell_type": "code",
   "execution_count": 171,
   "metadata": {},
   "outputs": [
    {
     "name": "stdout",
     "output_type": "stream",
     "text": [
      "enter your distance in miles:\n",
      "4.5\n",
      "<class 'str'>\n",
      "<class 'float'>\n",
      "your distnace in Km is:7.2\n"
     ]
    }
   ],
   "source": [
    "print('enter your distance in miles:')\n",
    "user_input = input()\n",
    "print(type(user_input))\n",
    "\n",
    "if type(user_input) == float():\n",
    "    result = (user_input * 1.6)\n",
    "    print(f'your distnace in Km is:{result}')\n",
    "else: \n",
    "    try:\n",
    "        new_input = float(user_input)\n",
    "        result = (new_input * 1.6)\n",
    "        print(type(result))\n",
    "        print(f'your distnace in Km is:{round(result, 2)}')\n",
    "    except:\n",
    "        ('Data type must be a decimal number.')\n"
   ]
  },
  {
   "cell_type": "markdown",
   "metadata": {},
   "source": [
    "### 7) Write a program giving recommendations basis weather conditions\n",
    "\n",
    "Create a variable Temperature and print out these recommendations based on the temperature:\n",
    "                 \n",
    "1) The temperature is higher than 90 degrees: Avoid getting out.          \n",
    "2) The temperature is between 89 and 70: Bring an umbrella.            \n",
    "3) The temperature is between 69 and 45: Wear a T-shirt.        \n",
    "4) The temperature is lower than 44: Bring a jacket.           "
   ]
  },
  {
   "cell_type": "code",
   "execution_count": 5,
   "metadata": {},
   "outputs": [
    {
     "name": "stdout",
     "output_type": "stream",
     "text": [
      "Bring a jacket\n"
     ]
    }
   ],
   "source": [
    "temp = 10\n",
    "\n",
    "if temp > 90:\n",
    "        print(\"Avoid getting out.\")\n",
    "        \n",
    "elif 70 < temp < 89 :\n",
    "        print(\"Bring an umbrella.\")\n",
    "\n",
    "elif 45 < temp < 69 :\n",
    "        print(\" Wear a T-shirt.\")\n",
    "        \n",
    "elif temp < 44:\n",
    "        print(\"Bring a jacket\")\n",
    "\n",
    "else:\n",
    "        print(\"No temp found\")\n"
   ]
  },
  {
   "cell_type": "markdown",
   "metadata": {},
   "source": [
    "### 8) Write a program to convert score to grades\n",
    "\n",
    "Write a program to prompt the user for a score between 0 to 100. If the score is out of range, print an error. If the score is between 0 and 100, use the following slabs(score, grade): \n",
    "     \n",
    " greater than 90 A     \n",
    "<90 and >=80 B     \n",
    "<80 and >=70 B    \n",
    "<70 and >=60 C    \n",
    "<60 and >=50 D    \n",
    "<50 E    \n"
   ]
  },
  {
   "cell_type": "code",
   "execution_count": 7,
   "metadata": {},
   "outputs": [
    {
     "name": "stdout",
     "output_type": "stream",
     "text": [
      "Please enter your score to receive your grade, scores are between 0-100\n",
      "50\n",
      "Grade D\n"
     ]
    }
   ],
   "source": [
    "print('Please enter your score to receive your grade, scores are between 0-100')\n",
    "score = int(input())\n",
    "\n",
    "if 90 <= score < 100 :\n",
    "        print(\"Grade A\")        \n",
    "elif 80 <= score < 90 :\n",
    "        print(\"Grade B\")\n",
    "elif 70 <= score < 80 :\n",
    "        print(\"Grade B\")        \n",
    "elif 60 <= score < 70 :\n",
    "        print(\"Grade C\")        \n",
    "elif 50 <= score < 60 :\n",
    "        print(\"Grade D\")\n",
    "elif 0 <= score < 50 :\n",
    "        print(\"Grade E\")\n",
    "else:\n",
    "        print(\"Please select a number between 0 to 100\")\n"
   ]
  },
  {
   "cell_type": "markdown",
   "metadata": {},
   "source": [
    "---\n",
    "\n",
    "### 9) Iterate through the following list of animals and print each one in all caps.\n",
    "\n",
    "animals = ['duck', 'rat', 'boar', 'slug', 'mammoth', 'gazelle']"
   ]
  },
  {
   "cell_type": "code",
   "execution_count": 52,
   "metadata": {},
   "outputs": [
    {
     "name": "stdout",
     "output_type": "stream",
     "text": [
      "DUCK\n",
      "RAT\n",
      "BOAR\n",
      "SLUG\n",
      "MAMMOTH\n",
      "GAZELLE\n"
     ]
    }
   ],
   "source": [
    "animals = ['duck', 'rat', 'boar', 'slug', 'mammoth', 'gazelle']\n",
    "\n",
    "for x in animals:\n",
    "      print(x.upper())\n",
    "    "
   ]
  },
  {
   "cell_type": "markdown",
   "metadata": {
    "collapsed": true
   },
   "source": [
    "### 10) Write a function that takes a word as an argument and returns the number of vowels in the word.\n",
    "\n",
    "Try it out on three words."
   ]
  },
  {
   "cell_type": "code",
   "execution_count": 139,
   "metadata": {},
   "outputs": [
    {
     "name": "stdout",
     "output_type": "stream",
     "text": [
      "2\n",
      "4\n",
      "2\n"
     ]
    }
   ],
   "source": [
    "word1 = 'strawberry'\n",
    "word2 ='watermelon'\n",
    "word3 ='mango'\n",
    "\n",
    "def demo_function(word):  \n",
    "    vowels = ['a','e','i','o','u']\n",
    "    return sum(word.lower().count(v) for v in vowels)\n",
    "\n",
    "print(demo_function(word1))\n",
    "print(demo_function(word2))\n",
    "print(demo_function(word3))\n"
   ]
  },
  {
   "cell_type": "markdown",
   "metadata": {},
   "source": [
    "### 11) Extracting part of a string \n",
    "\n",
    "We have a string which reads as follows: \"From alex.chicote@generalassemb.ly Sat Jul 19 18:46:90\"      \n",
    "We want to extract generalassemb.ly from this string. Can you do this? \n",
    "\n",
    "Hint: Look at a string method called find and use it in conjunction with index; space is indicated by ' '\n",
    "https://www.w3schools.com/python/ref_string_find.asp"
   ]
  },
  {
   "cell_type": "code",
   "execution_count": 14,
   "metadata": {},
   "outputs": [
    {
     "name": "stdout",
     "output_type": "stream",
     "text": [
      "17\n",
      "34\n",
      "@generalassemb.ly\n"
     ]
    }
   ],
   "source": [
    "test = \"From alex.chicote@generalassemb.ly Sat Jul 19 18:46:90\"\n",
    "\n",
    "x = test.find(\"@\")\n",
    "y = test.find(\" \",x)\n",
    "\n",
    "print(x)\n",
    "print(y)\n",
    "print(test[x:y])"
   ]
  },
  {
   "cell_type": "markdown",
   "metadata": {},
   "source": [
    "### 12) Creating a function called ChopChop \n",
    "\n",
    "Write a function called ChopChop that takes a list, removes the first and the last elements and returns back the list \n"
   ]
  },
  {
   "cell_type": "code",
   "execution_count": 87,
   "metadata": {},
   "outputs": [
    {
     "name": "stdout",
     "output_type": "stream",
     "text": [
      "['second', 'third']\n"
     ]
    }
   ],
   "source": [
    "\n",
    "def ChopChop():\n",
    "    demo_list = ['first','second','third','fourth']\n",
    "    demo_list = demo_list[1:-1]\n",
    "    return(demo_list)\n",
    "\n",
    "print(ChopChop())\n",
    "\n",
    "\n"
   ]
  },
  {
   "cell_type": "markdown",
   "metadata": {},
   "source": [
    "### 13) Multiples of 3 and 5\n",
    "\n",
    "If we list all of the natural numbers below 10 that are multiples of 3 or 5, we get 3, 5, 6, and 9. The sum of these multiples is 23. Find the sum of all the multiples of 3 and 5 below 1,000. Afterward, write a brief explanation walking through your code's logic in markdown."
   ]
  },
  {
   "cell_type": "code",
   "execution_count": 119,
   "metadata": {},
   "outputs": [
    {
     "name": "stdout",
     "output_type": "stream",
     "text": [
      "range(0, 1001)\n",
      "[0, 3, 5, 6, 9, 10, 12, 15, 18, 20, 21, 24, 25, 27, 30, 33, 35, 36, 39, 40, 42, 45, 48, 50, 51, 54, 55, 57, 60, 63, 65, 66, 69, 70, 72, 75, 78, 80, 81, 84, 85, 87, 90, 93, 95, 96, 99, 100, 102, 105, 108, 110, 111, 114, 115, 117, 120, 123, 125, 126, 129, 130, 132, 135, 138, 140, 141, 144, 145, 147, 150, 153, 155, 156, 159, 160, 162, 165, 168, 170, 171, 174, 175, 177, 180, 183, 185, 186, 189, 190, 192, 195, 198, 200, 201, 204, 205, 207, 210, 213, 215, 216, 219, 220, 222, 225, 228, 230, 231, 234, 235, 237, 240, 243, 245, 246, 249, 250, 252, 255, 258, 260, 261, 264, 265, 267, 270, 273, 275, 276, 279, 280, 282, 285, 288, 290, 291, 294, 295, 297, 300, 303, 305, 306, 309, 310, 312, 315, 318, 320, 321, 324, 325, 327, 330, 333, 335, 336, 339, 340, 342, 345, 348, 350, 351, 354, 355, 357, 360, 363, 365, 366, 369, 370, 372, 375, 378, 380, 381, 384, 385, 387, 390, 393, 395, 396, 399, 400, 402, 405, 408, 410, 411, 414, 415, 417, 420, 423, 425, 426, 429, 430, 432, 435, 438, 440, 441, 444, 445, 447, 450, 453, 455, 456, 459, 460, 462, 465, 468, 470, 471, 474, 475, 477, 480, 483, 485, 486, 489, 490, 492, 495, 498, 500, 501, 504, 505, 507, 510, 513, 515, 516, 519, 520, 522, 525, 528, 530, 531, 534, 535, 537, 540, 543, 545, 546, 549, 550, 552, 555, 558, 560, 561, 564, 565, 567, 570, 573, 575, 576, 579, 580, 582, 585, 588, 590, 591, 594, 595, 597, 600, 603, 605, 606, 609, 610, 612, 615, 618, 620, 621, 624, 625, 627, 630, 633, 635, 636, 639, 640, 642, 645, 648, 650, 651, 654, 655, 657, 660, 663, 665, 666, 669, 670, 672, 675, 678, 680, 681, 684, 685, 687, 690, 693, 695, 696, 699, 700, 702, 705, 708, 710, 711, 714, 715, 717, 720, 723, 725, 726, 729, 730, 732, 735, 738, 740, 741, 744, 745, 747, 750, 753, 755, 756, 759, 760, 762, 765, 768, 770, 771, 774, 775, 777, 780, 783, 785, 786, 789, 790, 792, 795, 798, 800, 801, 804, 805, 807, 810, 813, 815, 816, 819, 820, 822, 825, 828, 830, 831, 834, 835, 837, 840, 843, 845, 846, 849, 850, 852, 855, 858, 860, 861, 864, 865, 867, 870, 873, 875, 876, 879, 880, 882, 885, 888, 890, 891, 894, 895, 897, 900, 903, 905, 906, 909, 910, 912, 915, 918, 920, 921, 924, 925, 927, 930, 933, 935, 936, 939, 940, 942, 945, 948, 950, 951, 954, 955, 957, 960, 963, 965, 966, 969, 970, 972, 975, 978, 980, 981, 984, 985, 987, 990, 993, 995, 996, 999, 1000]\n",
      "468\n",
      "Your answers is: 234168\n"
     ]
    }
   ],
   "source": [
    "x = range(1001)\n",
    "y = []\n",
    "print(x)\n",
    "\n",
    "for n in x:\n",
    "    if (n%3 == 0):\n",
    "        y.append(n)\n",
    "    elif (n%5 == 0):\n",
    "        y.append(n)\n",
    "    else:\n",
    "        pass\n",
    "print(y)\n",
    "y_total = sum(y)\n",
    "y_count = len(y)\n",
    "print(y_count)\n",
    "print(f'Your answers is: {y_total}')\n",
    "\n",
    "#1) Define range and set an empty list\n",
    "#2) for loop to test if number in range is mod=0 for 3/5 (therefore a multiple of five)\n",
    "#3) If number meets test conditon append to empty list\n",
    "#4) Print the full list of appended numbers\n",
    "#5) Sum appended list as an aggregate value"
   ]
  },
  {
   "cell_type": "markdown",
   "metadata": {},
   "source": [
    "### 14) FizzBuzz\n",
    "\n",
    "Write a program that prints all of the numbers from 1 to 100. For multiples of 3, instead of the number, print \"Fizz;\" for multiples of 5, print \"Buzz.\" For numbers that are multiples of both 3 and 5, print \"FizzBuzz.\" Afterward, write a brief explanation walking through your code's logic in markdown."
   ]
  },
  {
   "cell_type": "code",
   "execution_count": 110,
   "metadata": {},
   "outputs": [
    {
     "name": "stdout",
     "output_type": "stream",
     "text": [
      "range(1, 101)\n",
      "[1, 2, 'Fizz', 4, 'Buzz', 'Fizz', 7, 8, 'Fizz', 'Buzz', 11, 'Fizz', 13, 14, 'FizzBuzz', 16, 17, 'Fizz', 19, 'Buzz', 'Fizz', 22, 23, 'Fizz', 'Buzz', 26, 'Fizz', 28, 29, 'FizzBuzz', 31, 32, 'Fizz', 34, 'Buzz', 'Fizz', 37, 38, 'Fizz', 'Buzz', 41, 'Fizz', 43, 44, 'FizzBuzz', 46, 47, 'Fizz', 49, 'Buzz', 'Fizz', 52, 53, 'Fizz', 'Buzz', 56, 'Fizz', 58, 59, 'FizzBuzz', 61, 62, 'Fizz', 64, 'Buzz', 'Fizz', 67, 68, 'Fizz', 'Buzz', 71, 'Fizz', 73, 74, 'FizzBuzz', 76, 77, 'Fizz', 79, 'Buzz', 'Fizz', 82, 83, 'Fizz', 'Buzz', 86, 'Fizz', 88, 89, 'FizzBuzz', 91, 92, 'Fizz', 94, 'Buzz', 'Fizz', 97, 98, 'Fizz', 'Buzz']\n"
     ]
    }
   ],
   "source": [
    "x = range(1,101)\n",
    "y = []\n",
    "print(x)\n",
    "\n",
    "for n in x:\n",
    "    if (n%3 == 0 and n%5 == 0):\n",
    "        y.append('FizzBuzz')\n",
    "    elif (n%3 == 0):\n",
    "        y.append('Fizz')\n",
    "    elif (n%5 == 0):\n",
    "        y.append('Buzz')\n",
    "    else:\n",
    "        y.append(n)\n",
    "print(y)\n",
    "\n",
    "#1) Define range and set an empty list\n",
    "#2) for loop to test if number in range is mod=0 for 3/5 (therefore a multiple of five)\n",
    "#3) Additional check which includes 'and' for both mod3/5 condition\n",
    "#4) Add numbers meeting test value to the empty list\n",
    "#5) Print appended list. \n"
   ]
  },
  {
   "cell_type": "markdown",
   "metadata": {
    "collapsed": true
   },
   "source": [
    "### Use of Git Bash \n",
    "\n",
    "If you are using Git Bash to submit this notebook, please send screenshots of each step (along with your notebook). You might able to garner bonus fractional-points for the use of Git Bash. \n",
    "\n",
    "Please note that this is not a compulsory challenge and does not guarrantee an additional point. "
   ]
  },
  {
   "cell_type": "markdown",
   "metadata": {},
   "source": [
    "## That's all. You are a star! "
   ]
  }
 ],
 "metadata": {
  "anaconda-cloud": {},
  "kernelspec": {
   "display_name": "Python 3",
   "language": "python",
   "name": "python3"
  },
  "language_info": {
   "codemirror_mode": {
    "name": "ipython",
    "version": 3
   },
   "file_extension": ".py",
   "mimetype": "text/x-python",
   "name": "python",
   "nbconvert_exporter": "python",
   "pygments_lexer": "ipython3",
   "version": "3.8.8"
  }
 },
 "nbformat": 4,
 "nbformat_minor": 2
}
