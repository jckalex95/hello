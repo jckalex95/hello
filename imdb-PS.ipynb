{
 "cells": [
  {
   "cell_type": "markdown",
   "metadata": {},
   "source": [
    "<img src=\"http://imgur.com/1ZcRyrc.png\" style=\"float: left; margin: 20px; height: 55px\">\n",
    "\n",
    "# Option 2: Analyzing IMDb Data\n",
    "\n",
    "_Author: Preriit Souda_\n",
    "\n",
    "---"
   ]
  },
  {
   "cell_type": "markdown",
   "metadata": {},
   "source": [
    "For option 2, you will complete a serious of exercises exploring movie rating data from IMDb.\n",
    "\n",
    "For these exercises, you will be conducting basic exploratory data analysis on IMDB's movie data. \n",
    "\n",
    "This process will help you practice your data analysis skills while becoming comfortable with Pandas."
   ]
  },
  {
   "cell_type": "markdown",
   "metadata": {},
   "source": [
    "**Q1- Import the required modules**"
   ]
  },
  {
   "cell_type": "code",
   "execution_count": 5,
   "metadata": {},
   "outputs": [],
   "source": [
    "import pandas as pd\n",
    "import numpy as np\n",
    "import seaborn as sns\n",
    "import matplotlib.pyplot as plt\n",
    "\n",
    "%matplotlib inline"
   ]
  },
  {
   "cell_type": "markdown",
   "metadata": {},
   "source": [
    "**Q2- Read in 'imdb_1000PS.csv' and store it in a DataFrame named imdb**."
   ]
  },
  {
   "cell_type": "code",
   "execution_count": 6,
   "metadata": {},
   "outputs": [],
   "source": [
    "#A: \n",
    "imdb = pd.read_csv(\"C:/Users/j.alexander1/Desktop/PYTHON/GeneralAssembly/CLASS MATERIALS/Class 8 & Project 2/data/imdb_1000PS.csv\")"
   ]
  },
  {
   "cell_type": "markdown",
   "metadata": {},
   "source": [
    "**Q3- Use head function to show 5 rows**"
   ]
  },
  {
   "cell_type": "code",
   "execution_count": 7,
   "metadata": {
    "scrolled": false
   },
   "outputs": [
    {
     "data": {
      "text/html": [
       "<div>\n",
       "<style scoped>\n",
       "    .dataframe tbody tr th:only-of-type {\n",
       "        vertical-align: middle;\n",
       "    }\n",
       "\n",
       "    .dataframe tbody tr th {\n",
       "        vertical-align: top;\n",
       "    }\n",
       "\n",
       "    .dataframe thead th {\n",
       "        text-align: right;\n",
       "    }\n",
       "</style>\n",
       "<table border=\"1\" class=\"dataframe\">\n",
       "  <thead>\n",
       "    <tr style=\"text-align: right;\">\n",
       "      <th></th>\n",
       "      <th>star_rating</th>\n",
       "      <th>title</th>\n",
       "      <th>content_rating</th>\n",
       "      <th>genre</th>\n",
       "      <th>duration</th>\n",
       "      <th>actors_list</th>\n",
       "      <th>actor1</th>\n",
       "      <th>actor2</th>\n",
       "      <th>actor3</th>\n",
       "    </tr>\n",
       "  </thead>\n",
       "  <tbody>\n",
       "    <tr>\n",
       "      <th>0</th>\n",
       "      <td>9.3</td>\n",
       "      <td>The Shawshank Redemption</td>\n",
       "      <td>R</td>\n",
       "      <td>Crime</td>\n",
       "      <td>142</td>\n",
       "      <td>[u'Tim Robbins', u'Morgan Freeman', u'Bob Gunt...</td>\n",
       "      <td>Tim Robbins</td>\n",
       "      <td>Morgan Freeman</td>\n",
       "      <td>Bob Gunton</td>\n",
       "    </tr>\n",
       "    <tr>\n",
       "      <th>1</th>\n",
       "      <td>9.2</td>\n",
       "      <td>The Godfather</td>\n",
       "      <td>R</td>\n",
       "      <td>Crime</td>\n",
       "      <td>175</td>\n",
       "      <td>[u'Marlon Brando', u'Al Pacino', u'James Caan']</td>\n",
       "      <td>Marlon Brando</td>\n",
       "      <td>Al Pacino</td>\n",
       "      <td>James Caan</td>\n",
       "    </tr>\n",
       "    <tr>\n",
       "      <th>2</th>\n",
       "      <td>9.1</td>\n",
       "      <td>The Godfather: Part II</td>\n",
       "      <td>R</td>\n",
       "      <td>Crime</td>\n",
       "      <td>200</td>\n",
       "      <td>[u'Al Pacino', u'Robert De Niro', u'Robert Duv...</td>\n",
       "      <td>Al Pacino</td>\n",
       "      <td>Robert De Niro</td>\n",
       "      <td>Robert Duvall</td>\n",
       "    </tr>\n",
       "    <tr>\n",
       "      <th>3</th>\n",
       "      <td>9.0</td>\n",
       "      <td>The Dark Knight</td>\n",
       "      <td>PG-13</td>\n",
       "      <td>Action</td>\n",
       "      <td>152</td>\n",
       "      <td>[u'Christian Bale', u'Heath Ledger', u'Aaron E...</td>\n",
       "      <td>Christian Bale</td>\n",
       "      <td>Heath Ledger</td>\n",
       "      <td>Aaron Eckhart</td>\n",
       "    </tr>\n",
       "    <tr>\n",
       "      <th>4</th>\n",
       "      <td>8.9</td>\n",
       "      <td>Pulp Fiction</td>\n",
       "      <td>R</td>\n",
       "      <td>Crime</td>\n",
       "      <td>154</td>\n",
       "      <td>[u'John Travolta', u'Uma Thurman', u'Samuel L....</td>\n",
       "      <td>John Travolta</td>\n",
       "      <td>Uma Thurman</td>\n",
       "      <td>Samuel L. Jackson</td>\n",
       "    </tr>\n",
       "  </tbody>\n",
       "</table>\n",
       "</div>"
      ],
      "text/plain": [
       "   star_rating                     title content_rating   genre  duration  \\\n",
       "0          9.3  The Shawshank Redemption              R   Crime       142   \n",
       "1          9.2             The Godfather              R   Crime       175   \n",
       "2          9.1    The Godfather: Part II              R   Crime       200   \n",
       "3          9.0           The Dark Knight          PG-13  Action       152   \n",
       "4          8.9              Pulp Fiction              R   Crime       154   \n",
       "\n",
       "                                         actors_list          actor1  \\\n",
       "0  [u'Tim Robbins', u'Morgan Freeman', u'Bob Gunt...     Tim Robbins   \n",
       "1    [u'Marlon Brando', u'Al Pacino', u'James Caan']   Marlon Brando   \n",
       "2  [u'Al Pacino', u'Robert De Niro', u'Robert Duv...       Al Pacino   \n",
       "3  [u'Christian Bale', u'Heath Ledger', u'Aaron E...  Christian Bale   \n",
       "4  [u'John Travolta', u'Uma Thurman', u'Samuel L....   John Travolta   \n",
       "\n",
       "            actor2              actor3  \n",
       "0   Morgan Freeman          Bob Gunton  \n",
       "1        Al Pacino          James Caan  \n",
       "2   Robert De Niro       Robert Duvall  \n",
       "3     Heath Ledger       Aaron Eckhart  \n",
       "4      Uma Thurman   Samuel L. Jackson  "
      ]
     },
     "execution_count": 7,
     "metadata": {},
     "output_type": "execute_result"
    }
   ],
   "source": [
    "#A: \n",
    "\n",
    "imdb.head(5)"
   ]
  },
  {
   "cell_type": "markdown",
   "metadata": {},
   "source": [
    "**Q4- Show randomly selected 15 rows of data**"
   ]
  },
  {
   "cell_type": "code",
   "execution_count": 8,
   "metadata": {},
   "outputs": [
    {
     "data": {
      "text/html": [
       "<div>\n",
       "<style scoped>\n",
       "    .dataframe tbody tr th:only-of-type {\n",
       "        vertical-align: middle;\n",
       "    }\n",
       "\n",
       "    .dataframe tbody tr th {\n",
       "        vertical-align: top;\n",
       "    }\n",
       "\n",
       "    .dataframe thead th {\n",
       "        text-align: right;\n",
       "    }\n",
       "</style>\n",
       "<table border=\"1\" class=\"dataframe\">\n",
       "  <thead>\n",
       "    <tr style=\"text-align: right;\">\n",
       "      <th></th>\n",
       "      <th>star_rating</th>\n",
       "      <th>title</th>\n",
       "      <th>content_rating</th>\n",
       "      <th>genre</th>\n",
       "      <th>duration</th>\n",
       "      <th>actors_list</th>\n",
       "      <th>actor1</th>\n",
       "      <th>actor2</th>\n",
       "      <th>actor3</th>\n",
       "    </tr>\n",
       "  </thead>\n",
       "  <tbody>\n",
       "    <tr>\n",
       "      <th>468</th>\n",
       "      <td>7.9</td>\n",
       "      <td>E.T. the Extra-Terrestrial</td>\n",
       "      <td>PG</td>\n",
       "      <td>Family</td>\n",
       "      <td>115</td>\n",
       "      <td>[u'Henry Thomas', u'Drew Barrymore', u'Peter C...</td>\n",
       "      <td>Henry Thomas</td>\n",
       "      <td>Drew Barrymore</td>\n",
       "      <td>Peter Coyote</td>\n",
       "    </tr>\n",
       "    <tr>\n",
       "      <th>672</th>\n",
       "      <td>7.7</td>\n",
       "      <td>In a Better World</td>\n",
       "      <td>R</td>\n",
       "      <td>Drama</td>\n",
       "      <td>119</td>\n",
       "      <td>[u'Mikael Persbrandt', u'Trine Dyrholm', u'Mar...</td>\n",
       "      <td>Mikael Persbrandt</td>\n",
       "      <td>Trine Dyrholm</td>\n",
       "      <td>Markus Rygaard</td>\n",
       "    </tr>\n",
       "    <tr>\n",
       "      <th>404</th>\n",
       "      <td>7.9</td>\n",
       "      <td>The Remains of the Day</td>\n",
       "      <td>PG</td>\n",
       "      <td>Drama</td>\n",
       "      <td>134</td>\n",
       "      <td>[u'Anthony Hopkins', u'Emma Thompson', u'John ...</td>\n",
       "      <td>Anthony Hopkins</td>\n",
       "      <td>Emma Thompson</td>\n",
       "      <td>John Haycraft</td>\n",
       "    </tr>\n",
       "    <tr>\n",
       "      <th>819</th>\n",
       "      <td>7.6</td>\n",
       "      <td>Jacob's Ladder</td>\n",
       "      <td>R</td>\n",
       "      <td>Drama</td>\n",
       "      <td>113</td>\n",
       "      <td>[u'Tim Robbins', u'Elizabeth Pe\\xf1a', u'Danny...</td>\n",
       "      <td>Tim Robbins</td>\n",
       "      <td>Elizabeth Pe\\xf1a</td>\n",
       "      <td>Danny Aiello</td>\n",
       "    </tr>\n",
       "    <tr>\n",
       "      <th>822</th>\n",
       "      <td>7.5</td>\n",
       "      <td>Good Night, and Good Luck.</td>\n",
       "      <td>PG</td>\n",
       "      <td>Drama</td>\n",
       "      <td>93</td>\n",
       "      <td>[u'David Strathairn', u'George Clooney', u'Pat...</td>\n",
       "      <td>David Strathairn</td>\n",
       "      <td>George Clooney</td>\n",
       "      <td>Patricia Clarkson</td>\n",
       "    </tr>\n",
       "    <tr>\n",
       "      <th>779</th>\n",
       "      <td>7.6</td>\n",
       "      <td>Interview with the Vampire: The Vampire Chroni...</td>\n",
       "      <td>R</td>\n",
       "      <td>Horror</td>\n",
       "      <td>123</td>\n",
       "      <td>[u'Brad Pitt', u'Tom Cruise', u'Antonio Bander...</td>\n",
       "      <td>Brad Pitt</td>\n",
       "      <td>Tom Cruise</td>\n",
       "      <td>Antonio Banderas</td>\n",
       "    </tr>\n",
       "    <tr>\n",
       "      <th>702</th>\n",
       "      <td>7.6</td>\n",
       "      <td>Jin ling shi san chai</td>\n",
       "      <td>R</td>\n",
       "      <td>Drama</td>\n",
       "      <td>146</td>\n",
       "      <td>[u'Christian Bale', u'Ni Ni', u'Xinyi Zhang']</td>\n",
       "      <td>Christian Bale</td>\n",
       "      <td>Ni Ni</td>\n",
       "      <td>Xinyi Zhang</td>\n",
       "    </tr>\n",
       "    <tr>\n",
       "      <th>800</th>\n",
       "      <td>7.6</td>\n",
       "      <td>Field of Dreams</td>\n",
       "      <td>PG</td>\n",
       "      <td>Drama</td>\n",
       "      <td>107</td>\n",
       "      <td>[u'Kevin Costner', u'James Earl Jones', u'Ray ...</td>\n",
       "      <td>Kevin Costner</td>\n",
       "      <td>James Earl Jones</td>\n",
       "      <td>Ray Liotta</td>\n",
       "    </tr>\n",
       "    <tr>\n",
       "      <th>18</th>\n",
       "      <td>8.7</td>\n",
       "      <td>Goodfellas</td>\n",
       "      <td>R</td>\n",
       "      <td>Biography</td>\n",
       "      <td>146</td>\n",
       "      <td>[u'Robert De Niro', u'Ray Liotta', u'Joe Pesci']</td>\n",
       "      <td>Robert De Niro</td>\n",
       "      <td>Ray Liotta</td>\n",
       "      <td>Joe Pesci</td>\n",
       "    </tr>\n",
       "    <tr>\n",
       "      <th>262</th>\n",
       "      <td>8.1</td>\n",
       "      <td>The Hustler</td>\n",
       "      <td>UNRATED</td>\n",
       "      <td>Drama</td>\n",
       "      <td>134</td>\n",
       "      <td>[u'Paul Newman', u'Jackie Gleason', u'Piper La...</td>\n",
       "      <td>Paul Newman</td>\n",
       "      <td>Jackie Gleason</td>\n",
       "      <td>Piper Laurie</td>\n",
       "    </tr>\n",
       "    <tr>\n",
       "      <th>625</th>\n",
       "      <td>7.7</td>\n",
       "      <td>Ponyo</td>\n",
       "      <td>G</td>\n",
       "      <td>Animation</td>\n",
       "      <td>101</td>\n",
       "      <td>[u'Cate Blanchett', u'Matt Damon', u'Liam Nees...</td>\n",
       "      <td>Cate Blanchett</td>\n",
       "      <td>Matt Damon</td>\n",
       "      <td>Liam Neeson</td>\n",
       "    </tr>\n",
       "    <tr>\n",
       "      <th>33</th>\n",
       "      <td>8.6</td>\n",
       "      <td>Whiplash</td>\n",
       "      <td>R</td>\n",
       "      <td>Drama</td>\n",
       "      <td>107</td>\n",
       "      <td>[u'Miles Teller', u'J.K. Simmons', u'Melissa B...</td>\n",
       "      <td>Miles Teller</td>\n",
       "      <td>J.K. Simmons</td>\n",
       "      <td>Melissa Benoist</td>\n",
       "    </tr>\n",
       "    <tr>\n",
       "      <th>84</th>\n",
       "      <td>8.4</td>\n",
       "      <td>Requiem for a Dream</td>\n",
       "      <td>R</td>\n",
       "      <td>Drama</td>\n",
       "      <td>102</td>\n",
       "      <td>[u'Ellen Burstyn', u'Jared Leto', u'Jennifer C...</td>\n",
       "      <td>Ellen Burstyn</td>\n",
       "      <td>Jared Leto</td>\n",
       "      <td>Jennifer Connelly</td>\n",
       "    </tr>\n",
       "    <tr>\n",
       "      <th>266</th>\n",
       "      <td>8.1</td>\n",
       "      <td>A Christmas Story</td>\n",
       "      <td>PG</td>\n",
       "      <td>Comedy</td>\n",
       "      <td>94</td>\n",
       "      <td>[u'Peter Billingsley', u'Melinda Dillon', u'Da...</td>\n",
       "      <td>Peter Billingsley</td>\n",
       "      <td>Melinda Dillon</td>\n",
       "      <td>Darren McGavin</td>\n",
       "    </tr>\n",
       "    <tr>\n",
       "      <th>179</th>\n",
       "      <td>8.2</td>\n",
       "      <td>The Princess Bride</td>\n",
       "      <td>PG</td>\n",
       "      <td>Adventure</td>\n",
       "      <td>98</td>\n",
       "      <td>[u'Cary Elwes', u'Mandy Patinkin', u'Robin Wri...</td>\n",
       "      <td>Cary Elwes</td>\n",
       "      <td>Mandy Patinkin</td>\n",
       "      <td>Robin Wright</td>\n",
       "    </tr>\n",
       "  </tbody>\n",
       "</table>\n",
       "</div>"
      ],
      "text/plain": [
       "     star_rating                                              title  \\\n",
       "468          7.9                         E.T. the Extra-Terrestrial   \n",
       "672          7.7                                  In a Better World   \n",
       "404          7.9                             The Remains of the Day   \n",
       "819          7.6                                     Jacob's Ladder   \n",
       "822          7.5                         Good Night, and Good Luck.   \n",
       "779          7.6  Interview with the Vampire: The Vampire Chroni...   \n",
       "702          7.6                              Jin ling shi san chai   \n",
       "800          7.6                                    Field of Dreams   \n",
       "18           8.7                                         Goodfellas   \n",
       "262          8.1                                        The Hustler   \n",
       "625          7.7                                              Ponyo   \n",
       "33           8.6                                           Whiplash   \n",
       "84           8.4                                Requiem for a Dream   \n",
       "266          8.1                                  A Christmas Story   \n",
       "179          8.2                                 The Princess Bride   \n",
       "\n",
       "    content_rating      genre  duration  \\\n",
       "468             PG     Family       115   \n",
       "672              R      Drama       119   \n",
       "404             PG      Drama       134   \n",
       "819              R      Drama       113   \n",
       "822             PG      Drama        93   \n",
       "779              R     Horror       123   \n",
       "702              R      Drama       146   \n",
       "800             PG      Drama       107   \n",
       "18               R  Biography       146   \n",
       "262        UNRATED      Drama       134   \n",
       "625              G  Animation       101   \n",
       "33               R      Drama       107   \n",
       "84               R      Drama       102   \n",
       "266             PG     Comedy        94   \n",
       "179             PG  Adventure        98   \n",
       "\n",
       "                                           actors_list             actor1  \\\n",
       "468  [u'Henry Thomas', u'Drew Barrymore', u'Peter C...       Henry Thomas   \n",
       "672  [u'Mikael Persbrandt', u'Trine Dyrholm', u'Mar...  Mikael Persbrandt   \n",
       "404  [u'Anthony Hopkins', u'Emma Thompson', u'John ...    Anthony Hopkins   \n",
       "819  [u'Tim Robbins', u'Elizabeth Pe\\xf1a', u'Danny...        Tim Robbins   \n",
       "822  [u'David Strathairn', u'George Clooney', u'Pat...   David Strathairn   \n",
       "779  [u'Brad Pitt', u'Tom Cruise', u'Antonio Bander...          Brad Pitt   \n",
       "702      [u'Christian Bale', u'Ni Ni', u'Xinyi Zhang']     Christian Bale   \n",
       "800  [u'Kevin Costner', u'James Earl Jones', u'Ray ...      Kevin Costner   \n",
       "18    [u'Robert De Niro', u'Ray Liotta', u'Joe Pesci']     Robert De Niro   \n",
       "262  [u'Paul Newman', u'Jackie Gleason', u'Piper La...        Paul Newman   \n",
       "625  [u'Cate Blanchett', u'Matt Damon', u'Liam Nees...     Cate Blanchett   \n",
       "33   [u'Miles Teller', u'J.K. Simmons', u'Melissa B...       Miles Teller   \n",
       "84   [u'Ellen Burstyn', u'Jared Leto', u'Jennifer C...      Ellen Burstyn   \n",
       "266  [u'Peter Billingsley', u'Melinda Dillon', u'Da...  Peter Billingsley   \n",
       "179  [u'Cary Elwes', u'Mandy Patinkin', u'Robin Wri...         Cary Elwes   \n",
       "\n",
       "                 actor2              actor3  \n",
       "468      Drew Barrymore        Peter Coyote  \n",
       "672       Trine Dyrholm      Markus Rygaard  \n",
       "404       Emma Thompson       John Haycraft  \n",
       "819   Elizabeth Pe\\xf1a        Danny Aiello  \n",
       "822      George Clooney   Patricia Clarkson  \n",
       "779          Tom Cruise    Antonio Banderas  \n",
       "702               Ni Ni         Xinyi Zhang  \n",
       "800    James Earl Jones          Ray Liotta  \n",
       "18           Ray Liotta           Joe Pesci  \n",
       "262      Jackie Gleason        Piper Laurie  \n",
       "625          Matt Damon         Liam Neeson  \n",
       "33         J.K. Simmons     Melissa Benoist  \n",
       "84           Jared Leto   Jennifer Connelly  \n",
       "266      Melinda Dillon      Darren McGavin  \n",
       "179      Mandy Patinkin        Robin Wright  "
      ]
     },
     "execution_count": 8,
     "metadata": {},
     "output_type": "execute_result"
    }
   ],
   "source": [
    "#A: \n",
    "imdb.sample(15)"
   ]
  },
  {
   "cell_type": "markdown",
   "metadata": {},
   "source": [
    "#### Q5- Check the number of rows and columns."
   ]
  },
  {
   "cell_type": "code",
   "execution_count": 9,
   "metadata": {},
   "outputs": [
    {
     "name": "stdout",
     "output_type": "stream",
     "text": [
      "Rows: 979\n",
      "Columns: 9\n"
     ]
    }
   ],
   "source": [
    "# A:\n",
    "rows = imdb.shape[0]\n",
    "columns = imdb.shape[1]\n",
    "print(f\"Rows: {rows}\") \n",
    "print(f\"Columns: {columns}\")"
   ]
  },
  {
   "cell_type": "code",
   "execution_count": 10,
   "metadata": {},
   "outputs": [
    {
     "name": "stdout",
     "output_type": "stream",
     "text": [
      "(979, 9)\n"
     ]
    }
   ],
   "source": [
    "shape = imdb.shape[0:]\n",
    "print(shape)"
   ]
  },
  {
   "cell_type": "code",
   "execution_count": 11,
   "metadata": {},
   "outputs": [
    {
     "data": {
      "text/plain": [
       "(979, 9)"
      ]
     },
     "execution_count": 11,
     "metadata": {},
     "output_type": "execute_result"
    }
   ],
   "source": [
    "#Or the simpler way.... \n",
    "imdb.shape"
   ]
  },
  {
   "cell_type": "markdown",
   "metadata": {},
   "source": [
    "#### Q6- Check the data type of each column."
   ]
  },
  {
   "cell_type": "code",
   "execution_count": 12,
   "metadata": {},
   "outputs": [
    {
     "data": {
      "text/plain": [
       "star_rating       float64\n",
       "title              object\n",
       "content_rating     object\n",
       "genre              object\n",
       "duration            int64\n",
       "actors_list        object\n",
       "actor1             object\n",
       "actor2             object\n",
       "actor3             object\n",
       "dtype: object"
      ]
     },
     "execution_count": 12,
     "metadata": {},
     "output_type": "execute_result"
    }
   ],
   "source": [
    "# A:\n",
    "imdb.dtypes"
   ]
  },
  {
   "cell_type": "markdown",
   "metadata": {},
   "source": [
    "#### Q7- Calculate the average movie duration."
   ]
  },
  {
   "cell_type": "code",
   "execution_count": 13,
   "metadata": {},
   "outputs": [
    {
     "data": {
      "text/html": [
       "<div>\n",
       "<style scoped>\n",
       "    .dataframe tbody tr th:only-of-type {\n",
       "        vertical-align: middle;\n",
       "    }\n",
       "\n",
       "    .dataframe tbody tr th {\n",
       "        vertical-align: top;\n",
       "    }\n",
       "\n",
       "    .dataframe thead th {\n",
       "        text-align: right;\n",
       "    }\n",
       "</style>\n",
       "<table border=\"1\" class=\"dataframe\">\n",
       "  <thead>\n",
       "    <tr style=\"text-align: right;\">\n",
       "      <th></th>\n",
       "      <th>star_rating</th>\n",
       "      <th>duration</th>\n",
       "    </tr>\n",
       "  </thead>\n",
       "  <tbody>\n",
       "    <tr>\n",
       "      <th>count</th>\n",
       "      <td>979.000000</td>\n",
       "      <td>979.000000</td>\n",
       "    </tr>\n",
       "    <tr>\n",
       "      <th>mean</th>\n",
       "      <td>7.889785</td>\n",
       "      <td>120.979571</td>\n",
       "    </tr>\n",
       "    <tr>\n",
       "      <th>std</th>\n",
       "      <td>0.336069</td>\n",
       "      <td>26.218010</td>\n",
       "    </tr>\n",
       "    <tr>\n",
       "      <th>min</th>\n",
       "      <td>7.400000</td>\n",
       "      <td>64.000000</td>\n",
       "    </tr>\n",
       "    <tr>\n",
       "      <th>25%</th>\n",
       "      <td>7.600000</td>\n",
       "      <td>102.000000</td>\n",
       "    </tr>\n",
       "    <tr>\n",
       "      <th>50%</th>\n",
       "      <td>7.800000</td>\n",
       "      <td>117.000000</td>\n",
       "    </tr>\n",
       "    <tr>\n",
       "      <th>75%</th>\n",
       "      <td>8.100000</td>\n",
       "      <td>134.000000</td>\n",
       "    </tr>\n",
       "    <tr>\n",
       "      <th>max</th>\n",
       "      <td>9.300000</td>\n",
       "      <td>242.000000</td>\n",
       "    </tr>\n",
       "  </tbody>\n",
       "</table>\n",
       "</div>"
      ],
      "text/plain": [
       "       star_rating    duration\n",
       "count   979.000000  979.000000\n",
       "mean      7.889785  120.979571\n",
       "std       0.336069   26.218010\n",
       "min       7.400000   64.000000\n",
       "25%       7.600000  102.000000\n",
       "50%       7.800000  117.000000\n",
       "75%       8.100000  134.000000\n",
       "max       9.300000  242.000000"
      ]
     },
     "execution_count": 13,
     "metadata": {},
     "output_type": "execute_result"
    }
   ],
   "source": [
    "# A:\n",
    "imdb.describe()"
   ]
  },
  {
   "cell_type": "code",
   "execution_count": 14,
   "metadata": {},
   "outputs": [
    {
     "data": {
      "text/plain": [
       "120.97957099080695"
      ]
     },
     "execution_count": 14,
     "metadata": {},
     "output_type": "execute_result"
    }
   ],
   "source": [
    "#Or a more direct method... \n",
    "imdb['duration'].mean()"
   ]
  },
  {
   "cell_type": "markdown",
   "metadata": {},
   "source": [
    "#### Q8- Sort the DataFrame by duration to find the shortest and longest movies."
   ]
  },
  {
   "cell_type": "code",
   "execution_count": 15,
   "metadata": {},
   "outputs": [
    {
     "data": {
      "text/html": [
       "<div>\n",
       "<style scoped>\n",
       "    .dataframe tbody tr th:only-of-type {\n",
       "        vertical-align: middle;\n",
       "    }\n",
       "\n",
       "    .dataframe tbody tr th {\n",
       "        vertical-align: top;\n",
       "    }\n",
       "\n",
       "    .dataframe thead th {\n",
       "        text-align: right;\n",
       "    }\n",
       "</style>\n",
       "<table border=\"1\" class=\"dataframe\">\n",
       "  <thead>\n",
       "    <tr style=\"text-align: right;\">\n",
       "      <th></th>\n",
       "      <th>star_rating</th>\n",
       "      <th>title</th>\n",
       "      <th>content_rating</th>\n",
       "      <th>genre</th>\n",
       "      <th>duration</th>\n",
       "      <th>actors_list</th>\n",
       "      <th>actor1</th>\n",
       "      <th>actor2</th>\n",
       "      <th>actor3</th>\n",
       "    </tr>\n",
       "  </thead>\n",
       "  <tbody>\n",
       "    <tr>\n",
       "      <th>389</th>\n",
       "      <td>8.0</td>\n",
       "      <td>Freaks</td>\n",
       "      <td>UNRATED</td>\n",
       "      <td>Drama</td>\n",
       "      <td>64</td>\n",
       "      <td>[u'Wallace Ford', u'Leila Hyams', u'Olga Bacla...</td>\n",
       "      <td>Wallace Ford</td>\n",
       "      <td>Leila Hyams</td>\n",
       "      <td>Olga Baclanova</td>\n",
       "    </tr>\n",
       "    <tr>\n",
       "      <th>338</th>\n",
       "      <td>8.0</td>\n",
       "      <td>Battleship Potemkin</td>\n",
       "      <td>UNRATED</td>\n",
       "      <td>History</td>\n",
       "      <td>66</td>\n",
       "      <td>[u'Aleksandr Antonov', u'Vladimir Barsky', u'G...</td>\n",
       "      <td>Aleksandr Antonov</td>\n",
       "      <td>Vladimir Barsky</td>\n",
       "      <td>Grigori Aleksandrov</td>\n",
       "    </tr>\n",
       "    <tr>\n",
       "      <th>258</th>\n",
       "      <td>8.1</td>\n",
       "      <td>The Cabinet of Dr. Caligari</td>\n",
       "      <td>UNRATED</td>\n",
       "      <td>Crime</td>\n",
       "      <td>67</td>\n",
       "      <td>[u'Werner Krauss', u'Conrad Veidt', u'Friedric...</td>\n",
       "      <td>Werner Krauss</td>\n",
       "      <td>Conrad Veidt</td>\n",
       "      <td>Friedrich Feher</td>\n",
       "    </tr>\n",
       "    <tr>\n",
       "      <th>293</th>\n",
       "      <td>8.1</td>\n",
       "      <td>Duck Soup</td>\n",
       "      <td>PASSED</td>\n",
       "      <td>Comedy</td>\n",
       "      <td>68</td>\n",
       "      <td>[u'Groucho Marx', u'Harpo Marx', u'Chico Marx']</td>\n",
       "      <td>Groucho Marx</td>\n",
       "      <td>Harpo Marx</td>\n",
       "      <td>Chico Marx</td>\n",
       "    </tr>\n",
       "    <tr>\n",
       "      <th>88</th>\n",
       "      <td>8.4</td>\n",
       "      <td>The Kid</td>\n",
       "      <td>NOT RATED</td>\n",
       "      <td>Comedy</td>\n",
       "      <td>68</td>\n",
       "      <td>[u'Charles Chaplin', u'Edna Purviance', u'Jack...</td>\n",
       "      <td>Charles Chaplin</td>\n",
       "      <td>Edna Purviance</td>\n",
       "      <td>Jackie Coogan</td>\n",
       "    </tr>\n",
       "    <tr>\n",
       "      <th>...</th>\n",
       "      <td>...</td>\n",
       "      <td>...</td>\n",
       "      <td>...</td>\n",
       "      <td>...</td>\n",
       "      <td>...</td>\n",
       "      <td>...</td>\n",
       "      <td>...</td>\n",
       "      <td>...</td>\n",
       "      <td>...</td>\n",
       "    </tr>\n",
       "    <tr>\n",
       "      <th>445</th>\n",
       "      <td>7.9</td>\n",
       "      <td>The Ten Commandments</td>\n",
       "      <td>APPROVED</td>\n",
       "      <td>Adventure</td>\n",
       "      <td>220</td>\n",
       "      <td>[u'Charlton Heston', u'Yul Brynner', u'Anne Ba...</td>\n",
       "      <td>Charlton Heston</td>\n",
       "      <td>Yul Brynner</td>\n",
       "      <td>Anne Baxter</td>\n",
       "    </tr>\n",
       "    <tr>\n",
       "      <th>142</th>\n",
       "      <td>8.3</td>\n",
       "      <td>Lagaan: Once Upon a Time in India</td>\n",
       "      <td>PG</td>\n",
       "      <td>Adventure</td>\n",
       "      <td>224</td>\n",
       "      <td>[u'Aamir Khan', u'Gracy Singh', u'Rachel Shell...</td>\n",
       "      <td>Aamir Khan</td>\n",
       "      <td>Gracy Singh</td>\n",
       "      <td>Rachel Shelley</td>\n",
       "    </tr>\n",
       "    <tr>\n",
       "      <th>78</th>\n",
       "      <td>8.4</td>\n",
       "      <td>Once Upon a Time in America</td>\n",
       "      <td>R</td>\n",
       "      <td>Crime</td>\n",
       "      <td>229</td>\n",
       "      <td>[u'Robert De Niro', u'James Woods', u'Elizabet...</td>\n",
       "      <td>Robert De Niro</td>\n",
       "      <td>James Woods</td>\n",
       "      <td>Elizabeth McGovern</td>\n",
       "    </tr>\n",
       "    <tr>\n",
       "      <th>157</th>\n",
       "      <td>8.2</td>\n",
       "      <td>Gone with the Wind</td>\n",
       "      <td>G</td>\n",
       "      <td>Drama</td>\n",
       "      <td>238</td>\n",
       "      <td>[u'Clark Gable', u'Vivien Leigh', u'Thomas Mit...</td>\n",
       "      <td>Clark Gable</td>\n",
       "      <td>Vivien Leigh</td>\n",
       "      <td>Thomas Mitchell</td>\n",
       "    </tr>\n",
       "    <tr>\n",
       "      <th>476</th>\n",
       "      <td>7.8</td>\n",
       "      <td>Hamlet</td>\n",
       "      <td>PG-13</td>\n",
       "      <td>Drama</td>\n",
       "      <td>242</td>\n",
       "      <td>[u'Kenneth Branagh', u'Julie Christie', u'Dere...</td>\n",
       "      <td>Kenneth Branagh</td>\n",
       "      <td>Julie Christie</td>\n",
       "      <td>Derek Jacobi</td>\n",
       "    </tr>\n",
       "  </tbody>\n",
       "</table>\n",
       "<p>979 rows × 9 columns</p>\n",
       "</div>"
      ],
      "text/plain": [
       "     star_rating                              title content_rating      genre  \\\n",
       "389          8.0                             Freaks        UNRATED      Drama   \n",
       "338          8.0                Battleship Potemkin        UNRATED    History   \n",
       "258          8.1        The Cabinet of Dr. Caligari        UNRATED      Crime   \n",
       "293          8.1                          Duck Soup         PASSED     Comedy   \n",
       "88           8.4                            The Kid      NOT RATED     Comedy   \n",
       "..           ...                                ...            ...        ...   \n",
       "445          7.9               The Ten Commandments       APPROVED  Adventure   \n",
       "142          8.3  Lagaan: Once Upon a Time in India             PG  Adventure   \n",
       "78           8.4        Once Upon a Time in America              R      Crime   \n",
       "157          8.2                 Gone with the Wind              G      Drama   \n",
       "476          7.8                             Hamlet          PG-13      Drama   \n",
       "\n",
       "     duration                                        actors_list  \\\n",
       "389        64  [u'Wallace Ford', u'Leila Hyams', u'Olga Bacla...   \n",
       "338        66  [u'Aleksandr Antonov', u'Vladimir Barsky', u'G...   \n",
       "258        67  [u'Werner Krauss', u'Conrad Veidt', u'Friedric...   \n",
       "293        68    [u'Groucho Marx', u'Harpo Marx', u'Chico Marx']   \n",
       "88         68  [u'Charles Chaplin', u'Edna Purviance', u'Jack...   \n",
       "..        ...                                                ...   \n",
       "445       220  [u'Charlton Heston', u'Yul Brynner', u'Anne Ba...   \n",
       "142       224  [u'Aamir Khan', u'Gracy Singh', u'Rachel Shell...   \n",
       "78        229  [u'Robert De Niro', u'James Woods', u'Elizabet...   \n",
       "157       238  [u'Clark Gable', u'Vivien Leigh', u'Thomas Mit...   \n",
       "476       242  [u'Kenneth Branagh', u'Julie Christie', u'Dere...   \n",
       "\n",
       "                actor1            actor2                actor3  \n",
       "389       Wallace Ford       Leila Hyams        Olga Baclanova  \n",
       "338  Aleksandr Antonov   Vladimir Barsky   Grigori Aleksandrov  \n",
       "258      Werner Krauss      Conrad Veidt       Friedrich Feher  \n",
       "293       Groucho Marx        Harpo Marx            Chico Marx  \n",
       "88     Charles Chaplin    Edna Purviance         Jackie Coogan  \n",
       "..                 ...               ...                   ...  \n",
       "445    Charlton Heston       Yul Brynner           Anne Baxter  \n",
       "142         Aamir Khan       Gracy Singh        Rachel Shelley  \n",
       "78      Robert De Niro       James Woods    Elizabeth McGovern  \n",
       "157        Clark Gable      Vivien Leigh       Thomas Mitchell  \n",
       "476    Kenneth Branagh    Julie Christie          Derek Jacobi  \n",
       "\n",
       "[979 rows x 9 columns]"
      ]
     },
     "execution_count": 15,
     "metadata": {},
     "output_type": "execute_result"
    }
   ],
   "source": [
    "# A:\n",
    "imdb_sorted = imdb.sort_values(by=['duration'], ascending=True)\n",
    "imdb_sorted"
   ]
  },
  {
   "cell_type": "code",
   "execution_count": 16,
   "metadata": {},
   "outputs": [
    {
     "data": {
      "text/html": [
       "<div>\n",
       "<style scoped>\n",
       "    .dataframe tbody tr th:only-of-type {\n",
       "        vertical-align: middle;\n",
       "    }\n",
       "\n",
       "    .dataframe tbody tr th {\n",
       "        vertical-align: top;\n",
       "    }\n",
       "\n",
       "    .dataframe thead th {\n",
       "        text-align: right;\n",
       "    }\n",
       "</style>\n",
       "<table border=\"1\" class=\"dataframe\">\n",
       "  <thead>\n",
       "    <tr style=\"text-align: right;\">\n",
       "      <th></th>\n",
       "      <th>star_rating</th>\n",
       "      <th>title</th>\n",
       "      <th>content_rating</th>\n",
       "      <th>genre</th>\n",
       "      <th>duration</th>\n",
       "      <th>actors_list</th>\n",
       "      <th>actor1</th>\n",
       "      <th>actor2</th>\n",
       "      <th>actor3</th>\n",
       "    </tr>\n",
       "  </thead>\n",
       "  <tbody>\n",
       "    <tr>\n",
       "      <th>476</th>\n",
       "      <td>7.8</td>\n",
       "      <td>Hamlet</td>\n",
       "      <td>PG-13</td>\n",
       "      <td>Drama</td>\n",
       "      <td>242</td>\n",
       "      <td>[u'Kenneth Branagh', u'Julie Christie', u'Dere...</td>\n",
       "      <td>Kenneth Branagh</td>\n",
       "      <td>Julie Christie</td>\n",
       "      <td>Derek Jacobi</td>\n",
       "    </tr>\n",
       "    <tr>\n",
       "      <th>157</th>\n",
       "      <td>8.2</td>\n",
       "      <td>Gone with the Wind</td>\n",
       "      <td>G</td>\n",
       "      <td>Drama</td>\n",
       "      <td>238</td>\n",
       "      <td>[u'Clark Gable', u'Vivien Leigh', u'Thomas Mit...</td>\n",
       "      <td>Clark Gable</td>\n",
       "      <td>Vivien Leigh</td>\n",
       "      <td>Thomas Mitchell</td>\n",
       "    </tr>\n",
       "    <tr>\n",
       "      <th>78</th>\n",
       "      <td>8.4</td>\n",
       "      <td>Once Upon a Time in America</td>\n",
       "      <td>R</td>\n",
       "      <td>Crime</td>\n",
       "      <td>229</td>\n",
       "      <td>[u'Robert De Niro', u'James Woods', u'Elizabet...</td>\n",
       "      <td>Robert De Niro</td>\n",
       "      <td>James Woods</td>\n",
       "      <td>Elizabeth McGovern</td>\n",
       "    </tr>\n",
       "    <tr>\n",
       "      <th>142</th>\n",
       "      <td>8.3</td>\n",
       "      <td>Lagaan: Once Upon a Time in India</td>\n",
       "      <td>PG</td>\n",
       "      <td>Adventure</td>\n",
       "      <td>224</td>\n",
       "      <td>[u'Aamir Khan', u'Gracy Singh', u'Rachel Shell...</td>\n",
       "      <td>Aamir Khan</td>\n",
       "      <td>Gracy Singh</td>\n",
       "      <td>Rachel Shelley</td>\n",
       "    </tr>\n",
       "    <tr>\n",
       "      <th>445</th>\n",
       "      <td>7.9</td>\n",
       "      <td>The Ten Commandments</td>\n",
       "      <td>APPROVED</td>\n",
       "      <td>Adventure</td>\n",
       "      <td>220</td>\n",
       "      <td>[u'Charlton Heston', u'Yul Brynner', u'Anne Ba...</td>\n",
       "      <td>Charlton Heston</td>\n",
       "      <td>Yul Brynner</td>\n",
       "      <td>Anne Baxter</td>\n",
       "    </tr>\n",
       "  </tbody>\n",
       "</table>\n",
       "</div>"
      ],
      "text/plain": [
       "     star_rating                              title content_rating      genre  \\\n",
       "476          7.8                             Hamlet          PG-13      Drama   \n",
       "157          8.2                 Gone with the Wind              G      Drama   \n",
       "78           8.4        Once Upon a Time in America              R      Crime   \n",
       "142          8.3  Lagaan: Once Upon a Time in India             PG  Adventure   \n",
       "445          7.9               The Ten Commandments       APPROVED  Adventure   \n",
       "\n",
       "     duration                                        actors_list  \\\n",
       "476       242  [u'Kenneth Branagh', u'Julie Christie', u'Dere...   \n",
       "157       238  [u'Clark Gable', u'Vivien Leigh', u'Thomas Mit...   \n",
       "78        229  [u'Robert De Niro', u'James Woods', u'Elizabet...   \n",
       "142       224  [u'Aamir Khan', u'Gracy Singh', u'Rachel Shell...   \n",
       "445       220  [u'Charlton Heston', u'Yul Brynner', u'Anne Ba...   \n",
       "\n",
       "              actor1           actor2               actor3  \n",
       "476  Kenneth Branagh   Julie Christie         Derek Jacobi  \n",
       "157      Clark Gable     Vivien Leigh      Thomas Mitchell  \n",
       "78    Robert De Niro      James Woods   Elizabeth McGovern  \n",
       "142       Aamir Khan      Gracy Singh       Rachel Shelley  \n",
       "445  Charlton Heston      Yul Brynner          Anne Baxter  "
      ]
     },
     "execution_count": 16,
     "metadata": {},
     "output_type": "execute_result"
    }
   ],
   "source": [
    "# Or more precisely... \n",
    "imdb_sorted_long = imdb.sort_values(by=['duration'], ascending=False)\n",
    "imdb_sorted_long.head(5)"
   ]
  },
  {
   "cell_type": "code",
   "execution_count": 17,
   "metadata": {},
   "outputs": [
    {
     "data": {
      "text/html": [
       "<div>\n",
       "<style scoped>\n",
       "    .dataframe tbody tr th:only-of-type {\n",
       "        vertical-align: middle;\n",
       "    }\n",
       "\n",
       "    .dataframe tbody tr th {\n",
       "        vertical-align: top;\n",
       "    }\n",
       "\n",
       "    .dataframe thead th {\n",
       "        text-align: right;\n",
       "    }\n",
       "</style>\n",
       "<table border=\"1\" class=\"dataframe\">\n",
       "  <thead>\n",
       "    <tr style=\"text-align: right;\">\n",
       "      <th></th>\n",
       "      <th>star_rating</th>\n",
       "      <th>title</th>\n",
       "      <th>content_rating</th>\n",
       "      <th>genre</th>\n",
       "      <th>duration</th>\n",
       "      <th>actors_list</th>\n",
       "      <th>actor1</th>\n",
       "      <th>actor2</th>\n",
       "      <th>actor3</th>\n",
       "    </tr>\n",
       "  </thead>\n",
       "  <tbody>\n",
       "    <tr>\n",
       "      <th>389</th>\n",
       "      <td>8.0</td>\n",
       "      <td>Freaks</td>\n",
       "      <td>UNRATED</td>\n",
       "      <td>Drama</td>\n",
       "      <td>64</td>\n",
       "      <td>[u'Wallace Ford', u'Leila Hyams', u'Olga Bacla...</td>\n",
       "      <td>Wallace Ford</td>\n",
       "      <td>Leila Hyams</td>\n",
       "      <td>Olga Baclanova</td>\n",
       "    </tr>\n",
       "    <tr>\n",
       "      <th>338</th>\n",
       "      <td>8.0</td>\n",
       "      <td>Battleship Potemkin</td>\n",
       "      <td>UNRATED</td>\n",
       "      <td>History</td>\n",
       "      <td>66</td>\n",
       "      <td>[u'Aleksandr Antonov', u'Vladimir Barsky', u'G...</td>\n",
       "      <td>Aleksandr Antonov</td>\n",
       "      <td>Vladimir Barsky</td>\n",
       "      <td>Grigori Aleksandrov</td>\n",
       "    </tr>\n",
       "    <tr>\n",
       "      <th>258</th>\n",
       "      <td>8.1</td>\n",
       "      <td>The Cabinet of Dr. Caligari</td>\n",
       "      <td>UNRATED</td>\n",
       "      <td>Crime</td>\n",
       "      <td>67</td>\n",
       "      <td>[u'Werner Krauss', u'Conrad Veidt', u'Friedric...</td>\n",
       "      <td>Werner Krauss</td>\n",
       "      <td>Conrad Veidt</td>\n",
       "      <td>Friedrich Feher</td>\n",
       "    </tr>\n",
       "    <tr>\n",
       "      <th>293</th>\n",
       "      <td>8.1</td>\n",
       "      <td>Duck Soup</td>\n",
       "      <td>PASSED</td>\n",
       "      <td>Comedy</td>\n",
       "      <td>68</td>\n",
       "      <td>[u'Groucho Marx', u'Harpo Marx', u'Chico Marx']</td>\n",
       "      <td>Groucho Marx</td>\n",
       "      <td>Harpo Marx</td>\n",
       "      <td>Chico Marx</td>\n",
       "    </tr>\n",
       "    <tr>\n",
       "      <th>88</th>\n",
       "      <td>8.4</td>\n",
       "      <td>The Kid</td>\n",
       "      <td>NOT RATED</td>\n",
       "      <td>Comedy</td>\n",
       "      <td>68</td>\n",
       "      <td>[u'Charles Chaplin', u'Edna Purviance', u'Jack...</td>\n",
       "      <td>Charles Chaplin</td>\n",
       "      <td>Edna Purviance</td>\n",
       "      <td>Jackie Coogan</td>\n",
       "    </tr>\n",
       "  </tbody>\n",
       "</table>\n",
       "</div>"
      ],
      "text/plain": [
       "     star_rating                        title content_rating    genre  \\\n",
       "389          8.0                       Freaks        UNRATED    Drama   \n",
       "338          8.0          Battleship Potemkin        UNRATED  History   \n",
       "258          8.1  The Cabinet of Dr. Caligari        UNRATED    Crime   \n",
       "293          8.1                    Duck Soup         PASSED   Comedy   \n",
       "88           8.4                      The Kid      NOT RATED   Comedy   \n",
       "\n",
       "     duration                                        actors_list  \\\n",
       "389        64  [u'Wallace Ford', u'Leila Hyams', u'Olga Bacla...   \n",
       "338        66  [u'Aleksandr Antonov', u'Vladimir Barsky', u'G...   \n",
       "258        67  [u'Werner Krauss', u'Conrad Veidt', u'Friedric...   \n",
       "293        68    [u'Groucho Marx', u'Harpo Marx', u'Chico Marx']   \n",
       "88         68  [u'Charles Chaplin', u'Edna Purviance', u'Jack...   \n",
       "\n",
       "                actor1            actor2                actor3  \n",
       "389       Wallace Ford       Leila Hyams        Olga Baclanova  \n",
       "338  Aleksandr Antonov   Vladimir Barsky   Grigori Aleksandrov  \n",
       "258      Werner Krauss      Conrad Veidt       Friedrich Feher  \n",
       "293       Groucho Marx        Harpo Marx            Chico Marx  \n",
       "88     Charles Chaplin    Edna Purviance         Jackie Coogan  "
      ]
     },
     "execution_count": 17,
     "metadata": {},
     "output_type": "execute_result"
    }
   ],
   "source": [
    "imdb_sorted_short = imdb.sort_values(by=['duration'], ascending=True)\n",
    "imdb_sorted_short.head(5)"
   ]
  },
  {
   "cell_type": "markdown",
   "metadata": {},
   "source": [
    "#### Q9- Create a histogram of duration and label it accordingly"
   ]
  },
  {
   "cell_type": "code",
   "execution_count": 18,
   "metadata": {},
   "outputs": [
    {
     "data": {
      "text/plain": [
       "Text(0.5, 1.0, 'Duration by Count of Movies')"
      ]
     },
     "execution_count": 18,
     "metadata": {},
     "output_type": "execute_result"
    },
    {
     "data": {
      "image/png": "[encoded data removed]",
      "text/plain": [
       "<Figure size 432x288 with 1 Axes>"
      ]
     },
     "metadata": {
      "needs_background": "light"
     },
     "output_type": "display_data"
    }
   ],
   "source": [
    "# A:\n",
    "\n",
    "imdb.hist(['duration'])\n",
    "\n",
    "plt.xlabel(\"Duration\")\n",
    "plt.ylabel(\"Count of Movies\")\n",
    "plt.title(\"Duration by Count of Movies\")"
   ]
  },
  {
   "cell_type": "markdown",
   "metadata": {},
   "source": [
    "#### Q10- Use a box plot to display the above data."
   ]
  },
  {
   "cell_type": "code",
   "execution_count": 19,
   "metadata": {},
   "outputs": [
    {
     "data": {
      "text/plain": [
       "Text(0.5, 1.0, 'Duration Boxplot')"
      ]
     },
     "execution_count": 19,
     "metadata": {},
     "output_type": "execute_result"
    },
    {
     "data": {
      "image/png": "[encoded data removed]",
      "text/plain": [
       "<Figure size 432x288 with 1 Axes>"
      ]
     },
     "metadata": {
      "needs_background": "light"
     },
     "output_type": "display_data"
    }
   ],
   "source": [
    "# A:\n",
    "\n",
    "imdb.boxplot(['duration'])\n",
    "\n",
    "plt.xlabel(\"Duration\")\n",
    "plt.ylabel(\"Count of Movies\")\n",
    "plt.title(\"Duration Boxplot\")"
   ]
  },
  {
   "cell_type": "markdown",
   "metadata": {},
   "source": [
    "#### Q11- Count how many movies have each of the content ratings."
   ]
  },
  {
   "cell_type": "code",
   "execution_count": 20,
   "metadata": {},
   "outputs": [],
   "source": [
    "#A: \n",
    "frequency_of_ratings = imdb[\"content_rating\"].value_counts()"
   ]
  },
  {
   "cell_type": "code",
   "execution_count": 21,
   "metadata": {},
   "outputs": [
    {
     "name": "stdout",
     "output_type": "stream",
     "text": [
      "R            460\n",
      "PG-13        189\n",
      "PG           123\n",
      "NOT RATED     65\n",
      "APPROVED      47\n",
      "UNRATED       38\n",
      "G             32\n",
      "NC-17          7\n",
      "PASSED         7\n",
      "X              4\n",
      "GP             3\n",
      "TV-MA          1\n",
      "Name: content_rating, dtype: int64\n"
     ]
    }
   ],
   "source": [
    "print(frequency_of_ratings)"
   ]
  },
  {
   "cell_type": "markdown",
   "metadata": {},
   "source": [
    "#### Q12- Use a bar chart to display the above frequency count of content_ratings; add title and labels"
   ]
  },
  {
   "cell_type": "code",
   "execution_count": 22,
   "metadata": {
    "scrolled": true
   },
   "outputs": [
    {
     "data": {
      "text/plain": [
       "Text(0.5, 1.0, 'Count of Movies by Rating')"
      ]
     },
     "execution_count": 22,
     "metadata": {},
     "output_type": "execute_result"
    },
    {
     "data": {
      "image/png": "[encoded data removed]",
      "text/plain": [
       "<Figure size 432x288 with 1 Axes>"
      ]
     },
     "metadata": {
      "needs_background": "light"
     },
     "output_type": "display_data"
    }
   ],
   "source": [
    "#A: \n",
    "frequency_of_ratings.plot.bar()\n",
    "\n",
    "plt.xlabel(\"Rating\")\n",
    "plt.ylabel(\"Count of Movies\")\n",
    "plt.title(\"Count of Movies by Rating\")"
   ]
  },
  {
   "cell_type": "markdown",
   "metadata": {},
   "source": [
    "**Q13- Use pie chart instead of a bar chart to showcase the above data**"
   ]
  },
  {
   "cell_type": "code",
   "execution_count": 23,
   "metadata": {},
   "outputs": [
    {
     "data": {
      "text/plain": [
       "Text(0.5, 1.0, 'Share of Movies by Rating')"
      ]
     },
     "execution_count": 23,
     "metadata": {},
     "output_type": "execute_result"
    },
    {
     "data": {
      "image/png": "[encoded data removed]",
      "text/plain": [
       "<Figure size 432x288 with 1 Axes>"
      ]
     },
     "metadata": {},
     "output_type": "display_data"
    }
   ],
   "source": [
    "#A: \n",
    "frequency_of_ratings.plot.pie()\n",
    "\n",
    "plt.title(\"Share of Movies by Rating\")"
   ]
  },
  {
   "cell_type": "markdown",
   "metadata": {},
   "source": [
    "#### Q14- Convert the following content ratings to \"UNRATED\": NOT RATED, APPROVED, PASSED, GP."
   ]
  },
  {
   "cell_type": "code",
   "execution_count": 24,
   "metadata": {},
   "outputs": [],
   "source": [
    "# A:\n",
    "imdb_content_changes = imdb.replace(to_replace=[\"NOT RATED\", \"APPROVED\", \"PASSED\", \"GP\"], value= \"UNRATED\")"
   ]
  },
  {
   "cell_type": "markdown",
   "metadata": {},
   "source": [
    "**Show the updated counts**"
   ]
  },
  {
   "cell_type": "code",
   "execution_count": 25,
   "metadata": {},
   "outputs": [
    {
     "data": {
      "text/plain": [
       "R          460\n",
       "PG-13      189\n",
       "UNRATED    160\n",
       "PG         123\n",
       "G           32\n",
       "NC-17        7\n",
       "X            4\n",
       "TV-MA        1\n",
       "Name: content_rating, dtype: int64"
      ]
     },
     "execution_count": 25,
     "metadata": {},
     "output_type": "execute_result"
    }
   ],
   "source": [
    "#A: \n",
    "frequency_of_ratings = imdb_content_changes[\"content_rating\"].value_counts()\n",
    "frequency_of_ratings"
   ]
  },
  {
   "cell_type": "markdown",
   "metadata": {},
   "source": [
    "#### Q15- Replace the following ratings X, TV-MA with NC-17"
   ]
  },
  {
   "cell_type": "code",
   "execution_count": 26,
   "metadata": {},
   "outputs": [],
   "source": [
    "#A: \n",
    "imdb_content_changes_version_two = imdb_content_changes.replace(to_replace=[\"X\", \"TV-MA\"], value= \"NC-17\")"
   ]
  },
  {
   "cell_type": "markdown",
   "metadata": {},
   "source": [
    "**Did it work? Show the updated count**"
   ]
  },
  {
   "cell_type": "code",
   "execution_count": 27,
   "metadata": {},
   "outputs": [
    {
     "data": {
      "text/plain": [
       "R          460\n",
       "PG-13      189\n",
       "UNRATED    160\n",
       "PG         123\n",
       "G           32\n",
       "NC-17       12\n",
       "Name: content_rating, dtype: int64"
      ]
     },
     "execution_count": 27,
     "metadata": {},
     "output_type": "execute_result"
    }
   ],
   "source": [
    "#A: \n",
    "frequency_of_ratings = imdb_content_changes_version_two[\"content_rating\"].value_counts()\n",
    "frequency_of_ratings"
   ]
  },
  {
   "cell_type": "markdown",
   "metadata": {},
   "source": [
    "#### Q16- Count the number of missing values in each column."
   ]
  },
  {
   "cell_type": "code",
   "execution_count": 28,
   "metadata": {},
   "outputs": [
    {
     "data": {
      "text/plain": [
       "star_rating       0\n",
       "title             0\n",
       "content_rating    3\n",
       "genre             0\n",
       "duration          0\n",
       "actors_list       0\n",
       "actor1            0\n",
       "actor2            0\n",
       "actor3            0\n",
       "dtype: int64"
      ]
     },
     "execution_count": 28,
     "metadata": {},
     "output_type": "execute_result"
    }
   ],
   "source": [
    "# A:\n",
    "imdb.isna().sum()"
   ]
  },
  {
   "cell_type": "markdown",
   "metadata": {},
   "source": [
    "**Q17- If there are missing values: show the films associated with those. Decide on the ratings appropriate for those films AND then fill them in with those values.**"
   ]
  },
  {
   "cell_type": "code",
   "execution_count": 86,
   "metadata": {},
   "outputs": [],
   "source": [
    "# A:\n",
    "imdb_content_changes_version_three = imdb_content_changes_version_two.fillna(value=\"UNRATED\")"
   ]
  },
  {
   "cell_type": "markdown",
   "metadata": {},
   "source": [
    "**Q18- Show the Frequency count of Content Ratings again**"
   ]
  },
  {
   "cell_type": "code",
   "execution_count": 32,
   "metadata": {},
   "outputs": [
    {
     "data": {
      "text/plain": [
       "R          460\n",
       "PG-13      189\n",
       "UNRATED    163\n",
       "PG         123\n",
       "G           32\n",
       "NC-17       12\n",
       "Name: content_rating, dtype: int64"
      ]
     },
     "execution_count": 32,
     "metadata": {},
     "output_type": "execute_result"
    }
   ],
   "source": [
    "#A: # I decided to make changes to the previous version i've iterated on, rather than or data set.\n",
    "imdb_content_changes_version_three[\"content_rating\"].value_counts()"
   ]
  },
  {
   "cell_type": "markdown",
   "metadata": {},
   "source": [
    "#### Q19- Calculate the average star rating for movies 2 hours or longer, and compare that with the average star rating for movies shorter than 2 hours."
   ]
  },
  {
   "cell_type": "code",
   "execution_count": 33,
   "metadata": {},
   "outputs": [
    {
     "data": {
      "text/plain": [
       "star_rating      7.948899\n",
       "duration       142.458150\n",
       "dtype: float64"
      ]
     },
     "execution_count": 33,
     "metadata": {},
     "output_type": "execute_result"
    }
   ],
   "source": [
    "#A:\n",
    "greater_than_two_hours = imdb[imdb[\"duration\"]>=120].mean()\n",
    "greater_than_two_hours"
   ]
  },
  {
   "cell_type": "code",
   "execution_count": 34,
   "metadata": {},
   "outputs": [
    {
     "data": {
      "text/plain": [
       "star_rating      7.838667\n",
       "duration       102.405714\n",
       "dtype: float64"
      ]
     },
     "execution_count": 34,
     "metadata": {},
     "output_type": "execute_result"
    }
   ],
   "source": [
    "#A: \n",
    "less_than_two_hours = imdb[imdb[\"duration\"]<120].mean()\n",
    "less_than_two_hours"
   ]
  },
  {
   "cell_type": "markdown",
   "metadata": {},
   "source": [
    "#### Q20- Use a visualization to detect whether there is a relationship between duration and star rating. Use a magenta color"
   ]
  },
  {
   "cell_type": "code",
   "execution_count": 35,
   "metadata": {},
   "outputs": [
    {
     "data": {
      "text/plain": [
       "Text(0.5, 1.0, 'Duration Vs. Star Rating')"
      ]
     },
     "execution_count": 35,
     "metadata": {},
     "output_type": "execute_result"
    },
    {
     "data": {
      "image/png": "[encoded data removed]",
      "text/plain": [
       "<Figure size 432x288 with 1 Axes>"
      ]
     },
     "metadata": {
      "needs_background": "light"
     },
     "output_type": "display_data"
    }
   ],
   "source": [
    "#A: \n",
    "x = imdb['duration']\n",
    "y = imdb['star_rating']\n",
    "data_viz = plt.scatter(x, y,color='magenta')\n",
    "\n",
    "plt.xlabel(\"Duration\")\n",
    "plt.ylabel(\"Star Rating\")\n",
    "plt.title(\"Duration Vs. Star Rating\")"
   ]
  },
  {
   "cell_type": "markdown",
   "metadata": {},
   "source": [
    "#### Q21- Calculate the average star rating and duration for each genre.\n",
    "Hint- Use groupby"
   ]
  },
  {
   "cell_type": "code",
   "execution_count": 36,
   "metadata": {
    "scrolled": true
   },
   "outputs": [
    {
     "data": {
      "text/html": [
       "<div>\n",
       "<style scoped>\n",
       "    .dataframe tbody tr th:only-of-type {\n",
       "        vertical-align: middle;\n",
       "    }\n",
       "\n",
       "    .dataframe tbody tr th {\n",
       "        vertical-align: top;\n",
       "    }\n",
       "\n",
       "    .dataframe thead th {\n",
       "        text-align: right;\n",
       "    }\n",
       "</style>\n",
       "<table border=\"1\" class=\"dataframe\">\n",
       "  <thead>\n",
       "    <tr style=\"text-align: right;\">\n",
       "      <th></th>\n",
       "      <th>star_rating</th>\n",
       "      <th>duration</th>\n",
       "    </tr>\n",
       "    <tr>\n",
       "      <th>genre</th>\n",
       "      <th></th>\n",
       "      <th></th>\n",
       "    </tr>\n",
       "  </thead>\n",
       "  <tbody>\n",
       "    <tr>\n",
       "      <th>Action</th>\n",
       "      <td>7.884559</td>\n",
       "      <td>126.485294</td>\n",
       "    </tr>\n",
       "    <tr>\n",
       "      <th>Adventure</th>\n",
       "      <td>7.933333</td>\n",
       "      <td>134.840000</td>\n",
       "    </tr>\n",
       "    <tr>\n",
       "      <th>Animation</th>\n",
       "      <td>7.914516</td>\n",
       "      <td>96.596774</td>\n",
       "    </tr>\n",
       "    <tr>\n",
       "      <th>Biography</th>\n",
       "      <td>7.862338</td>\n",
       "      <td>131.844156</td>\n",
       "    </tr>\n",
       "    <tr>\n",
       "      <th>Comedy</th>\n",
       "      <td>7.822436</td>\n",
       "      <td>107.602564</td>\n",
       "    </tr>\n",
       "    <tr>\n",
       "      <th>Crime</th>\n",
       "      <td>7.916935</td>\n",
       "      <td>122.298387</td>\n",
       "    </tr>\n",
       "    <tr>\n",
       "      <th>Drama</th>\n",
       "      <td>7.902518</td>\n",
       "      <td>126.539568</td>\n",
       "    </tr>\n",
       "    <tr>\n",
       "      <th>Family</th>\n",
       "      <td>7.850000</td>\n",
       "      <td>107.500000</td>\n",
       "    </tr>\n",
       "    <tr>\n",
       "      <th>Fantasy</th>\n",
       "      <td>7.700000</td>\n",
       "      <td>112.000000</td>\n",
       "    </tr>\n",
       "    <tr>\n",
       "      <th>Film-Noir</th>\n",
       "      <td>8.033333</td>\n",
       "      <td>97.333333</td>\n",
       "    </tr>\n",
       "    <tr>\n",
       "      <th>History</th>\n",
       "      <td>8.000000</td>\n",
       "      <td>66.000000</td>\n",
       "    </tr>\n",
       "    <tr>\n",
       "      <th>Horror</th>\n",
       "      <td>7.806897</td>\n",
       "      <td>102.517241</td>\n",
       "    </tr>\n",
       "    <tr>\n",
       "      <th>Mystery</th>\n",
       "      <td>7.975000</td>\n",
       "      <td>115.625000</td>\n",
       "    </tr>\n",
       "    <tr>\n",
       "      <th>Sci-Fi</th>\n",
       "      <td>7.920000</td>\n",
       "      <td>109.000000</td>\n",
       "    </tr>\n",
       "    <tr>\n",
       "      <th>Thriller</th>\n",
       "      <td>7.680000</td>\n",
       "      <td>114.200000</td>\n",
       "    </tr>\n",
       "    <tr>\n",
       "      <th>Western</th>\n",
       "      <td>8.255556</td>\n",
       "      <td>136.666667</td>\n",
       "    </tr>\n",
       "  </tbody>\n",
       "</table>\n",
       "</div>"
      ],
      "text/plain": [
       "           star_rating    duration\n",
       "genre                             \n",
       "Action        7.884559  126.485294\n",
       "Adventure     7.933333  134.840000\n",
       "Animation     7.914516   96.596774\n",
       "Biography     7.862338  131.844156\n",
       "Comedy        7.822436  107.602564\n",
       "Crime         7.916935  122.298387\n",
       "Drama         7.902518  126.539568\n",
       "Family        7.850000  107.500000\n",
       "Fantasy       7.700000  112.000000\n",
       "Film-Noir     8.033333   97.333333\n",
       "History       8.000000   66.000000\n",
       "Horror        7.806897  102.517241\n",
       "Mystery       7.975000  115.625000\n",
       "Sci-Fi        7.920000  109.000000\n",
       "Thriller      7.680000  114.200000\n",
       "Western       8.255556  136.666667"
      ]
     },
     "execution_count": 36,
     "metadata": {},
     "output_type": "execute_result"
    }
   ],
   "source": [
    "#A: \n",
    "averages_by_genre = imdb.groupby(by=\"genre\").mean()\n",
    "\n",
    "averages_by_genre"
   ]
  },
  {
   "cell_type": "markdown",
   "metadata": {},
   "source": [
    "**Q22- Is there any correlation between Star Ratings and Duration?**               \n",
    "**Show correlation table and visualize the correlation table using heatmap**\n"
   ]
  },
  {
   "cell_type": "code",
   "execution_count": 37,
   "metadata": {
    "scrolled": true
   },
   "outputs": [
    {
     "data": {
      "text/plain": [
       "Text(0.5, 1.0, 'Heatmap for Correlations')"
      ]
     },
     "execution_count": 37,
     "metadata": {},
     "output_type": "execute_result"
    },
    {
     "data": {
      "image/png": "[encoded data removed]",
      "text/plain": [
       "<Figure size 432x288 with 2 Axes>"
      ]
     },
     "metadata": {
      "needs_background": "light"
     },
     "output_type": "display_data"
    }
   ],
   "source": [
    "#A: \n",
    "sns.heatmap(imdb.corr(), annot = True)\n",
    "plt.title(\"Heatmap for Correlations\")"
   ]
  },
  {
   "cell_type": "markdown",
   "metadata": {},
   "source": [
    "#### Q23- Visualize the relationship between content rating and duration\n"
   ]
  },
  {
   "cell_type": "code",
   "execution_count": 39,
   "metadata": {
    "scrolled": true
   },
   "outputs": [
    {
     "data": {
      "text/plain": [
       "Text(0.5, 1.0, 'Duration Vs. Star Rating')"
      ]
     },
     "execution_count": 39,
     "metadata": {},
     "output_type": "execute_result"
    },
    {
     "data": {
      "image/png": "[encoded data removed]",
      "text/plain": [
       "<Figure size 432x288 with 1 Axes>"
      ]
     },
     "metadata": {
      "needs_background": "light"
     },
     "output_type": "display_data"
    }
   ],
   "source": [
    "#A: # Unsure on what else to use other than existing scatter graph - correlation is low\n",
    "x = imdb['duration']\n",
    "y = imdb['star_rating']\n",
    "data_viz = plt.scatter(x, y,color='magenta')\n",
    "\n",
    "plt.xlabel(\"Duration\")\n",
    "plt.ylabel(\"Star Rating\")\n",
    "plt.title(\"Duration Vs. Star Rating\")\n"
   ]
  },
  {
   "cell_type": "code",
   "execution_count": 42,
   "metadata": {},
   "outputs": [
    {
     "data": {
      "text/plain": [
       "<AxesSubplot:>"
      ]
     },
     "execution_count": 42,
     "metadata": {},
     "output_type": "execute_result"
    },
    {
     "data": {
      "image/png": "[encoded data removed]",
      "text/plain": [
       "<Figure size 432x288 with 1 Axes>"
      ]
     },
     "metadata": {
      "needs_background": "light"
     },
     "output_type": "display_data"
    }
   ],
   "source": [
    "#A: \n",
    "#Using box plot (Hint- Use box plot function of Pandas)\n",
    "imdb.boxplot(['duration']) "
   ]
  },
  {
   "cell_type": "code",
   "execution_count": 43,
   "metadata": {},
   "outputs": [
    {
     "data": {
      "text/plain": [
       "<AxesSubplot:>"
      ]
     },
     "execution_count": 43,
     "metadata": {},
     "output_type": "execute_result"
    },
    {
     "data": {
      "image/png": "[encoded data removed]",
      "text/plain": [
       "<Figure size 432x288 with 1 Axes>"
      ]
     },
     "metadata": {
      "needs_background": "light"
     },
     "output_type": "display_data"
    }
   ],
   "source": [
    "imdb.boxplot([\"star_rating\"])"
   ]
  },
  {
   "cell_type": "markdown",
   "metadata": {},
   "source": [
    "**Q24- Find the maximum and minimum of star_rating, duration for each of the Content Ratings**.               \n",
    "Needs to be in one table.           \n",
    "Hint: Study groupby functions at pandas.pydata.org"
   ]
  },
  {
   "cell_type": "code",
   "execution_count": 44,
   "metadata": {},
   "outputs": [
    {
     "data": {
      "text/html": [
       "<div>\n",
       "<style scoped>\n",
       "    .dataframe tbody tr th:only-of-type {\n",
       "        vertical-align: middle;\n",
       "    }\n",
       "\n",
       "    .dataframe tbody tr th {\n",
       "        vertical-align: top;\n",
       "    }\n",
       "\n",
       "    .dataframe thead th {\n",
       "        text-align: right;\n",
       "    }\n",
       "</style>\n",
       "<table border=\"1\" class=\"dataframe\">\n",
       "  <thead>\n",
       "    <tr style=\"text-align: right;\">\n",
       "      <th></th>\n",
       "      <th>star_rating</th>\n",
       "      <th>title</th>\n",
       "      <th>genre</th>\n",
       "      <th>duration</th>\n",
       "      <th>actors_list</th>\n",
       "      <th>actor1</th>\n",
       "      <th>actor2</th>\n",
       "      <th>actor3</th>\n",
       "    </tr>\n",
       "    <tr>\n",
       "      <th>content_rating</th>\n",
       "      <th></th>\n",
       "      <th></th>\n",
       "      <th></th>\n",
       "      <th></th>\n",
       "      <th></th>\n",
       "      <th></th>\n",
       "      <th></th>\n",
       "      <th></th>\n",
       "    </tr>\n",
       "  </thead>\n",
       "  <tbody>\n",
       "    <tr>\n",
       "      <th>APPROVED</th>\n",
       "      <td>8.7</td>\n",
       "      <td>Witness for the Prosecution</td>\n",
       "      <td>Western</td>\n",
       "      <td>220</td>\n",
       "      <td>[u'Warren Beatty', u'Faye Dunaway', u'Michael ...</td>\n",
       "      <td>Warren Beatty</td>\n",
       "      <td>u\"Maureen OHara\"</td>\n",
       "      <td>Wendell Corey</td>\n",
       "    </tr>\n",
       "    <tr>\n",
       "      <th>G</th>\n",
       "      <td>8.6</td>\n",
       "      <td>Willy Wonka &amp; the Chocolate Factory</td>\n",
       "      <td>Mystery</td>\n",
       "      <td>238</td>\n",
       "      <td>[u'Topol', u'Norma Crane', u'Leonard Frey']</td>\n",
       "      <td>u\"Paige OHara\"</td>\n",
       "      <td>Vivien Leigh</td>\n",
       "      <td>William Sylvester</td>\n",
       "    </tr>\n",
       "    <tr>\n",
       "      <th>GP</th>\n",
       "      <td>8.1</td>\n",
       "      <td>Patton</td>\n",
       "      <td>Comedy</td>\n",
       "      <td>172</td>\n",
       "      <td>[u'Ruth Gordon', u'Bud Cort', u'Vivian Pickles']</td>\n",
       "      <td>Ruth Gordon</td>\n",
       "      <td>Telly Savalas</td>\n",
       "      <td>Vivian Pickles</td>\n",
       "    </tr>\n",
       "    <tr>\n",
       "      <th>NC-17</th>\n",
       "      <td>7.9</td>\n",
       "      <td>The Evil Dead</td>\n",
       "      <td>Horror</td>\n",
       "      <td>179</td>\n",
       "      <td>[u'Tony Chiu Wai Leung', u'Wei Tang', u'Joan C...</td>\n",
       "      <td>Tony Chiu Wai Leung</td>\n",
       "      <td>Wei Tang</td>\n",
       "      <td>Salim Kechiouche</td>\n",
       "    </tr>\n",
       "    <tr>\n",
       "      <th>NOT RATED</th>\n",
       "      <td>8.9</td>\n",
       "      <td>Underground</td>\n",
       "      <td>Western</td>\n",
       "      <td>189</td>\n",
       "      <td>[u'Yves Montand', u'Charles Vanel', u'Peter va...</td>\n",
       "      <td>Yves Montand</td>\n",
       "      <td>Walter Huston</td>\n",
       "      <td>u\"Shinichi Himori\"</td>\n",
       "    </tr>\n",
       "    <tr>\n",
       "      <th>PASSED</th>\n",
       "      <td>8.6</td>\n",
       "      <td>The Wizard of Oz</td>\n",
       "      <td>Drama</td>\n",
       "      <td>172</td>\n",
       "      <td>[u'Walter Pidgeon', u'Anne Francis', u'Leslie ...</td>\n",
       "      <td>Walter Pidgeon</td>\n",
       "      <td>Virginia Cherrill</td>\n",
       "      <td>Ray Bolger</td>\n",
       "    </tr>\n",
       "    <tr>\n",
       "      <th>PG</th>\n",
       "      <td>8.8</td>\n",
       "      <td>Zelig</td>\n",
       "      <td>Western</td>\n",
       "      <td>224</td>\n",
       "      <td>[u'Zero Mostel', u'Gene Wilder', u'Dick Shawn']</td>\n",
       "      <td>u\"Ryan ONeal\"</td>\n",
       "      <td>u\"Ryan ONeal\"</td>\n",
       "      <td>u\"Catherine OHara\"</td>\n",
       "    </tr>\n",
       "    <tr>\n",
       "      <th>PG-13</th>\n",
       "      <td>9.0</td>\n",
       "      <td>Ying xiong</td>\n",
       "      <td>Western</td>\n",
       "      <td>242</td>\n",
       "      <td>[u'Zooey Deschanel', u'Joseph Gordon-Levitt', ...</td>\n",
       "      <td>Zooey Deschanel</td>\n",
       "      <td>u\"Beverly DAngelo\"</td>\n",
       "      <td>u\"Peter OToole\"</td>\n",
       "    </tr>\n",
       "    <tr>\n",
       "      <th>R</th>\n",
       "      <td>9.3</td>\n",
       "      <td>[Rec]</td>\n",
       "      <td>Western</td>\n",
       "      <td>229</td>\n",
       "      <td>[u'Zbigniew Zamachowski', u'Julie Delpy', u'Ja...</td>\n",
       "      <td>u\"Brian OHalloran\"</td>\n",
       "      <td>u\"Chris ODowd\"</td>\n",
       "      <td>u\"Vincent DOnofrio\"</td>\n",
       "    </tr>\n",
       "    <tr>\n",
       "      <th>TV-MA</th>\n",
       "      <td>8.1</td>\n",
       "      <td>Who's Afraid of Virginia Woolf?</td>\n",
       "      <td>Drama</td>\n",
       "      <td>131</td>\n",
       "      <td>[u'Elizabeth Taylor', u'Richard Burton', u'Geo...</td>\n",
       "      <td>Elizabeth Taylor</td>\n",
       "      <td>Richard Burton</td>\n",
       "      <td>George Segal</td>\n",
       "    </tr>\n",
       "    <tr>\n",
       "      <th>UNRATED</th>\n",
       "      <td>8.7</td>\n",
       "      <td>Zulu</td>\n",
       "      <td>Mystery</td>\n",
       "      <td>207</td>\n",
       "      <td>[u'Werner Krauss', u'Conrad Veidt', u'Friedric...</td>\n",
       "      <td>Werner Krauss</td>\n",
       "      <td>u\"Judith ODea\"</td>\n",
       "      <td>William Holden</td>\n",
       "    </tr>\n",
       "    <tr>\n",
       "      <th>X</th>\n",
       "      <td>8.4</td>\n",
       "      <td>Suspiria</td>\n",
       "      <td>Horror</td>\n",
       "      <td>136</td>\n",
       "      <td>[u'Malcolm McDowell', u'Patrick Magee', u'Mich...</td>\n",
       "      <td>Malcolm McDowell</td>\n",
       "      <td>Stefania Casini</td>\n",
       "      <td>Sylvia Miles</td>\n",
       "    </tr>\n",
       "  </tbody>\n",
       "</table>\n",
       "</div>"
      ],
      "text/plain": [
       "                star_rating                                title    genre  \\\n",
       "content_rating                                                              \n",
       "APPROVED                8.7          Witness for the Prosecution  Western   \n",
       "G                       8.6  Willy Wonka & the Chocolate Factory  Mystery   \n",
       "GP                      8.1                               Patton   Comedy   \n",
       "NC-17                   7.9                        The Evil Dead   Horror   \n",
       "NOT RATED               8.9                          Underground  Western   \n",
       "PASSED                  8.6                     The Wizard of Oz    Drama   \n",
       "PG                      8.8                                Zelig  Western   \n",
       "PG-13                   9.0                           Ying xiong  Western   \n",
       "R                       9.3                                [Rec]  Western   \n",
       "TV-MA                   8.1      Who's Afraid of Virginia Woolf?    Drama   \n",
       "UNRATED                 8.7                                 Zulu  Mystery   \n",
       "X                       8.4                             Suspiria   Horror   \n",
       "\n",
       "                duration                                        actors_list  \\\n",
       "content_rating                                                                \n",
       "APPROVED             220  [u'Warren Beatty', u'Faye Dunaway', u'Michael ...   \n",
       "G                    238        [u'Topol', u'Norma Crane', u'Leonard Frey']   \n",
       "GP                   172   [u'Ruth Gordon', u'Bud Cort', u'Vivian Pickles']   \n",
       "NC-17                179  [u'Tony Chiu Wai Leung', u'Wei Tang', u'Joan C...   \n",
       "NOT RATED            189  [u'Yves Montand', u'Charles Vanel', u'Peter va...   \n",
       "PASSED               172  [u'Walter Pidgeon', u'Anne Francis', u'Leslie ...   \n",
       "PG                   224    [u'Zero Mostel', u'Gene Wilder', u'Dick Shawn']   \n",
       "PG-13                242  [u'Zooey Deschanel', u'Joseph Gordon-Levitt', ...   \n",
       "R                    229  [u'Zbigniew Zamachowski', u'Julie Delpy', u'Ja...   \n",
       "TV-MA                131  [u'Elizabeth Taylor', u'Richard Burton', u'Geo...   \n",
       "UNRATED              207  [u'Werner Krauss', u'Conrad Veidt', u'Friedric...   \n",
       "X                    136  [u'Malcolm McDowell', u'Patrick Magee', u'Mich...   \n",
       "\n",
       "                             actor1               actor2                actor3  \n",
       "content_rating                                                                  \n",
       "APPROVED              Warren Beatty     u\"Maureen OHara\"         Wendell Corey  \n",
       "G                    u\"Paige OHara\"         Vivien Leigh     William Sylvester  \n",
       "GP                      Ruth Gordon        Telly Savalas        Vivian Pickles  \n",
       "NC-17           Tony Chiu Wai Leung             Wei Tang      Salim Kechiouche  \n",
       "NOT RATED              Yves Montand        Walter Huston    u\"Shinichi Himori\"  \n",
       "PASSED               Walter Pidgeon    Virginia Cherrill            Ray Bolger  \n",
       "PG                    u\"Ryan ONeal\"        u\"Ryan ONeal\"    u\"Catherine OHara\"  \n",
       "PG-13               Zooey Deschanel   u\"Beverly DAngelo\"       u\"Peter OToole\"  \n",
       "R                u\"Brian OHalloran\"       u\"Chris ODowd\"   u\"Vincent DOnofrio\"  \n",
       "TV-MA              Elizabeth Taylor       Richard Burton          George Segal  \n",
       "UNRATED               Werner Krauss       u\"Judith ODea\"        William Holden  \n",
       "X                  Malcolm McDowell      Stefania Casini          Sylvia Miles  "
      ]
     },
     "execution_count": 44,
     "metadata": {},
     "output_type": "execute_result"
    }
   ],
   "source": [
    "#A: \n",
    "content_rating_max = imdb.groupby(by=\"content_rating\").max()\n",
    "content_rating_max"
   ]
  },
  {
   "cell_type": "code",
   "execution_count": 45,
   "metadata": {},
   "outputs": [
    {
     "data": {
      "text/html": [
       "<div>\n",
       "<style scoped>\n",
       "    .dataframe tbody tr th:only-of-type {\n",
       "        vertical-align: middle;\n",
       "    }\n",
       "\n",
       "    .dataframe tbody tr th {\n",
       "        vertical-align: top;\n",
       "    }\n",
       "\n",
       "    .dataframe thead th {\n",
       "        text-align: right;\n",
       "    }\n",
       "</style>\n",
       "<table border=\"1\" class=\"dataframe\">\n",
       "  <thead>\n",
       "    <tr style=\"text-align: right;\">\n",
       "      <th></th>\n",
       "      <th>star_rating</th>\n",
       "      <th>title</th>\n",
       "      <th>genre</th>\n",
       "      <th>duration</th>\n",
       "      <th>actors_list</th>\n",
       "      <th>actor1</th>\n",
       "      <th>actor2</th>\n",
       "      <th>actor3</th>\n",
       "    </tr>\n",
       "    <tr>\n",
       "      <th>content_rating</th>\n",
       "      <th></th>\n",
       "      <th></th>\n",
       "      <th></th>\n",
       "      <th></th>\n",
       "      <th></th>\n",
       "      <th></th>\n",
       "      <th></th>\n",
       "      <th></th>\n",
       "    </tr>\n",
       "  </thead>\n",
       "  <tbody>\n",
       "    <tr>\n",
       "      <th>APPROVED</th>\n",
       "      <td>7.5</td>\n",
       "      <td>A Hard Day's Night</td>\n",
       "      <td>Action</td>\n",
       "      <td>78</td>\n",
       "      <td>[u'Adriana Caselotti', u'Harry Stockwell', u'L...</td>\n",
       "      <td>Adriana Caselotti</td>\n",
       "      <td>Anne Bancroft</td>\n",
       "      <td>Adolphe Menjo</td>\n",
       "    </tr>\n",
       "    <tr>\n",
       "      <th>G</th>\n",
       "      <td>7.4</td>\n",
       "      <td>2001: A Space Odyssey</td>\n",
       "      <td>Action</td>\n",
       "      <td>75</td>\n",
       "      <td>[u\"Paige O'Hara\", u'Robby Benson', u'Richard W...</td>\n",
       "      <td>Albert Brooks</td>\n",
       "      <td>Amy Poehler</td>\n",
       "      <td>Alexander Gould</td>\n",
       "    </tr>\n",
       "    <tr>\n",
       "      <th>GP</th>\n",
       "      <td>7.7</td>\n",
       "      <td>Harold and Maude</td>\n",
       "      <td>Action</td>\n",
       "      <td>91</td>\n",
       "      <td>[u'Clint Eastwood', u'Telly Savalas', u'Don Ri...</td>\n",
       "      <td>Clint Eastwood</td>\n",
       "      <td>Bud Cort</td>\n",
       "      <td>Don Rickles</td>\n",
       "    </tr>\n",
       "    <tr>\n",
       "      <th>NC-17</th>\n",
       "      <td>7.4</td>\n",
       "      <td>Bad Education</td>\n",
       "      <td>Comedy</td>\n",
       "      <td>85</td>\n",
       "      <td>[u'Beno\\xeet Poelvoorde', u'Jacqueline Poelvoo...</td>\n",
       "      <td>Beno\\xeet Poelvoorde</td>\n",
       "      <td>Ad\\xe8le Exarchopoulos</td>\n",
       "      <td>Elisabeth Shue</td>\n",
       "    </tr>\n",
       "    <tr>\n",
       "      <th>NOT RATED</th>\n",
       "      <td>7.5</td>\n",
       "      <td>12 Angry Men</td>\n",
       "      <td>Action</td>\n",
       "      <td>68</td>\n",
       "      <td>[u'Aamir Khan', u'Saif Ali Khan', u'Akshaye Kh...</td>\n",
       "      <td>Aamir Khan</td>\n",
       "      <td>Aki Maeda</td>\n",
       "      <td>Akio \\xd4tsuka</td>\n",
       "    </tr>\n",
       "    <tr>\n",
       "      <th>PASSED</th>\n",
       "      <td>7.7</td>\n",
       "      <td>City Lights</td>\n",
       "      <td>Action</td>\n",
       "      <td>68</td>\n",
       "      <td>[u'Charles Chaplin', u'Virginia Cherrill', u'F...</td>\n",
       "      <td>Charles Chaplin</td>\n",
       "      <td>Anne Francis</td>\n",
       "      <td>Chico Marx</td>\n",
       "    </tr>\n",
       "    <tr>\n",
       "      <th>PG</th>\n",
       "      <td>7.4</td>\n",
       "      <td>A Bridge Too Far</td>\n",
       "      <td>Action</td>\n",
       "      <td>76</td>\n",
       "      <td>[u\"Peter O'Toole\", u'Alec Guinness', u'Anthony...</td>\n",
       "      <td>Aamir Khan</td>\n",
       "      <td>Aamir Khan</td>\n",
       "      <td>Adil Hussain</td>\n",
       "    </tr>\n",
       "    <tr>\n",
       "      <th>PG-13</th>\n",
       "      <td>7.4</td>\n",
       "      <td>(500) Days of Summer</td>\n",
       "      <td>Action</td>\n",
       "      <td>78</td>\n",
       "      <td>[u'Aamir Khan', u'Madhavan', u'Mona Singh']</td>\n",
       "      <td>Aamir Khan</td>\n",
       "      <td>Abigail Breslin</td>\n",
       "      <td>Aaron Eckhart</td>\n",
       "    </tr>\n",
       "    <tr>\n",
       "      <th>R</th>\n",
       "      <td>7.4</td>\n",
       "      <td>12 Years a Slave</td>\n",
       "      <td>Action</td>\n",
       "      <td>69</td>\n",
       "      <td>[u\"Brian O'Halloran\", u'Jeff Anderson', u'Mari...</td>\n",
       "      <td>Aaron Eckhart</td>\n",
       "      <td>Akira Terao</td>\n",
       "      <td>Adam Bryant</td>\n",
       "    </tr>\n",
       "    <tr>\n",
       "      <th>TV-MA</th>\n",
       "      <td>8.1</td>\n",
       "      <td>Who's Afraid of Virginia Woolf?</td>\n",
       "      <td>Drama</td>\n",
       "      <td>131</td>\n",
       "      <td>[u'Elizabeth Taylor', u'Richard Burton', u'Geo...</td>\n",
       "      <td>Elizabeth Taylor</td>\n",
       "      <td>Richard Burton</td>\n",
       "      <td>George Segal</td>\n",
       "    </tr>\n",
       "    <tr>\n",
       "      <th>UNRATED</th>\n",
       "      <td>7.4</td>\n",
       "      <td>All Quiet on the Western Front</td>\n",
       "      <td>Action</td>\n",
       "      <td>64</td>\n",
       "      <td>[u'Aleksandr Antonov', u'Vladimir Barsky', u'G...</td>\n",
       "      <td>Aleksandr Antonov</td>\n",
       "      <td>Audrey Hepburn</td>\n",
       "      <td>Akemi Yamaguchi</td>\n",
       "    </tr>\n",
       "    <tr>\n",
       "      <th>X</th>\n",
       "      <td>7.5</td>\n",
       "      <td>A Clockwork Orange</td>\n",
       "      <td>Comedy</td>\n",
       "      <td>84</td>\n",
       "      <td>[u'Bruce Campbell', u'Sarah Berry', u'Dan Hicks']</td>\n",
       "      <td>Bruce Campbell</td>\n",
       "      <td>Jon Voight</td>\n",
       "      <td>Dan Hicks</td>\n",
       "    </tr>\n",
       "  </tbody>\n",
       "</table>\n",
       "</div>"
      ],
      "text/plain": [
       "                star_rating                            title   genre  \\\n",
       "content_rating                                                         \n",
       "APPROVED                7.5               A Hard Day's Night  Action   \n",
       "G                       7.4            2001: A Space Odyssey  Action   \n",
       "GP                      7.7                 Harold and Maude  Action   \n",
       "NC-17                   7.4                    Bad Education  Comedy   \n",
       "NOT RATED               7.5                     12 Angry Men  Action   \n",
       "PASSED                  7.7                      City Lights  Action   \n",
       "PG                      7.4                 A Bridge Too Far  Action   \n",
       "PG-13                   7.4             (500) Days of Summer  Action   \n",
       "R                       7.4                 12 Years a Slave  Action   \n",
       "TV-MA                   8.1  Who's Afraid of Virginia Woolf?   Drama   \n",
       "UNRATED                 7.4   All Quiet on the Western Front  Action   \n",
       "X                       7.5               A Clockwork Orange  Comedy   \n",
       "\n",
       "                duration                                        actors_list  \\\n",
       "content_rating                                                                \n",
       "APPROVED              78  [u'Adriana Caselotti', u'Harry Stockwell', u'L...   \n",
       "G                     75  [u\"Paige O'Hara\", u'Robby Benson', u'Richard W...   \n",
       "GP                    91  [u'Clint Eastwood', u'Telly Savalas', u'Don Ri...   \n",
       "NC-17                 85  [u'Beno\\xeet Poelvoorde', u'Jacqueline Poelvoo...   \n",
       "NOT RATED             68  [u'Aamir Khan', u'Saif Ali Khan', u'Akshaye Kh...   \n",
       "PASSED                68  [u'Charles Chaplin', u'Virginia Cherrill', u'F...   \n",
       "PG                    76  [u\"Peter O'Toole\", u'Alec Guinness', u'Anthony...   \n",
       "PG-13                 78        [u'Aamir Khan', u'Madhavan', u'Mona Singh']   \n",
       "R                     69  [u\"Brian O'Halloran\", u'Jeff Anderson', u'Mari...   \n",
       "TV-MA                131  [u'Elizabeth Taylor', u'Richard Burton', u'Geo...   \n",
       "UNRATED               64  [u'Aleksandr Antonov', u'Vladimir Barsky', u'G...   \n",
       "X                     84  [u'Bruce Campbell', u'Sarah Berry', u'Dan Hicks']   \n",
       "\n",
       "                              actor1                   actor2  \\\n",
       "content_rating                                                  \n",
       "APPROVED           Adriana Caselotti            Anne Bancroft   \n",
       "G                      Albert Brooks              Amy Poehler   \n",
       "GP                    Clint Eastwood                 Bud Cort   \n",
       "NC-17           Beno\\xeet Poelvoorde   Ad\\xe8le Exarchopoulos   \n",
       "NOT RATED                 Aamir Khan                Aki Maeda   \n",
       "PASSED               Charles Chaplin             Anne Francis   \n",
       "PG                        Aamir Khan               Aamir Khan   \n",
       "PG-13                     Aamir Khan          Abigail Breslin   \n",
       "R                      Aaron Eckhart              Akira Terao   \n",
       "TV-MA               Elizabeth Taylor           Richard Burton   \n",
       "UNRATED            Aleksandr Antonov           Audrey Hepburn   \n",
       "X                     Bruce Campbell               Jon Voight   \n",
       "\n",
       "                          actor3  \n",
       "content_rating                    \n",
       "APPROVED           Adolphe Menjo  \n",
       "G                Alexander Gould  \n",
       "GP                   Don Rickles  \n",
       "NC-17             Elisabeth Shue  \n",
       "NOT RATED         Akio \\xd4tsuka  \n",
       "PASSED                Chico Marx  \n",
       "PG                  Adil Hussain  \n",
       "PG-13              Aaron Eckhart  \n",
       "R                    Adam Bryant  \n",
       "TV-MA               George Segal  \n",
       "UNRATED          Akemi Yamaguchi  \n",
       "X                      Dan Hicks  "
      ]
     },
     "execution_count": 45,
     "metadata": {},
     "output_type": "execute_result"
    }
   ],
   "source": [
    "content_rating_min = imdb.groupby(by=\"content_rating\").min()\n",
    "content_rating_min"
   ]
  },
  {
   "cell_type": "markdown",
   "metadata": {},
   "source": [
    "#### Q25- Determine the top rated movie (by star rating) for each genre. Show title, star rating and content rating in the same table\n",
    "Hint- Use sortby, groupby and first "
   ]
  },
  {
   "cell_type": "code",
   "execution_count": 48,
   "metadata": {
    "scrolled": true
   },
   "outputs": [
    {
     "data": {
      "text/html": [
       "<div>\n",
       "<style scoped>\n",
       "    .dataframe tbody tr th:only-of-type {\n",
       "        vertical-align: middle;\n",
       "    }\n",
       "\n",
       "    .dataframe tbody tr th {\n",
       "        vertical-align: top;\n",
       "    }\n",
       "\n",
       "    .dataframe thead th {\n",
       "        text-align: right;\n",
       "    }\n",
       "</style>\n",
       "<table border=\"1\" class=\"dataframe\">\n",
       "  <thead>\n",
       "    <tr style=\"text-align: right;\">\n",
       "      <th></th>\n",
       "      <th>star_rating</th>\n",
       "      <th>title</th>\n",
       "      <th>content_rating</th>\n",
       "      <th>duration</th>\n",
       "      <th>actors_list</th>\n",
       "      <th>actor1</th>\n",
       "      <th>actor2</th>\n",
       "      <th>actor3</th>\n",
       "    </tr>\n",
       "    <tr>\n",
       "      <th>genre</th>\n",
       "      <th></th>\n",
       "      <th></th>\n",
       "      <th></th>\n",
       "      <th></th>\n",
       "      <th></th>\n",
       "      <th></th>\n",
       "      <th></th>\n",
       "      <th></th>\n",
       "    </tr>\n",
       "  </thead>\n",
       "  <tbody>\n",
       "    <tr>\n",
       "      <th>Action</th>\n",
       "      <td>9.0</td>\n",
       "      <td>Yojimbo</td>\n",
       "      <td>UNRATED</td>\n",
       "      <td>205</td>\n",
       "      <td>[u'Ziyi Zhang', u'Takeshi Kaneshiro', u'Andy L...</td>\n",
       "      <td>Ziyi Zhang</td>\n",
       "      <td>\\xc9dgar Ram\\xedrez</td>\n",
       "      <td>u\"Dan OHerlihy\"</td>\n",
       "    </tr>\n",
       "    <tr>\n",
       "      <th>Adventure</th>\n",
       "      <td>8.9</td>\n",
       "      <td>True Grit</td>\n",
       "      <td>UNRATED</td>\n",
       "      <td>224</td>\n",
       "      <td>[u'Yves Montand', u'Charles Vanel', u'Peter va...</td>\n",
       "      <td>u\"Ryan ONeal\"</td>\n",
       "      <td>Yul Brynner</td>\n",
       "      <td>Viggo Mortensen</td>\n",
       "    </tr>\n",
       "    <tr>\n",
       "      <th>Animation</th>\n",
       "      <td>8.6</td>\n",
       "      <td>Wreck-It Ralph</td>\n",
       "      <td>UNRATED</td>\n",
       "      <td>134</td>\n",
       "      <td>[u'Y\\xf4ji Matsuda', u'Yuriko Ishida', u'Y\\xfb...</td>\n",
       "      <td>u\"Paige OHara\"</td>\n",
       "      <td>Zachary Levi</td>\n",
       "      <td>u\"Catherine OHara\"</td>\n",
       "    </tr>\n",
       "    <tr>\n",
       "      <th>Biography</th>\n",
       "      <td>8.9</td>\n",
       "      <td>Walk the Line</td>\n",
       "      <td>UNRATED</td>\n",
       "      <td>202</td>\n",
       "      <td>[u'Will Smith', u'Thandie Newton', u'Jaden Smi...</td>\n",
       "      <td>Will Smith</td>\n",
       "      <td>Will Patton</td>\n",
       "      <td>u\"Peter OToole\"</td>\n",
       "    </tr>\n",
       "    <tr>\n",
       "      <th>Comedy</th>\n",
       "      <td>8.6</td>\n",
       "      <td>Zombieland</td>\n",
       "      <td>X</td>\n",
       "      <td>187</td>\n",
       "      <td>[u'Zooey Deschanel', u'Joseph Gordon-Levitt', ...</td>\n",
       "      <td>u\"Brian OHalloran\"</td>\n",
       "      <td>u\"Maureen OHara\"</td>\n",
       "      <td>u\"Catherine OHara\"</td>\n",
       "    </tr>\n",
       "    <tr>\n",
       "      <th>Crime</th>\n",
       "      <td>9.3</td>\n",
       "      <td>Zodiac</td>\n",
       "      <td>X</td>\n",
       "      <td>229</td>\n",
       "      <td>[u'Yeong-ae Lee', u'Min-sik Choi', u'Shi-hoo K...</td>\n",
       "      <td>Yeong-ae Lee</td>\n",
       "      <td>Willem Dafoe</td>\n",
       "      <td>u\"Beverly DAngelo\"</td>\n",
       "    </tr>\n",
       "    <tr>\n",
       "      <th>Drama</th>\n",
       "      <td>8.9</td>\n",
       "      <td>Zulu</td>\n",
       "      <td>X</td>\n",
       "      <td>242</td>\n",
       "      <td>[u'William Holden', u'Gloria Swanson', u'Erich...</td>\n",
       "      <td>William Holden</td>\n",
       "      <td>u\"Ryan ONeal\"</td>\n",
       "      <td>u\"Vincent DOnofrio\"</td>\n",
       "    </tr>\n",
       "    <tr>\n",
       "      <th>Family</th>\n",
       "      <td>7.9</td>\n",
       "      <td>Willy Wonka &amp; the Chocolate Factory</td>\n",
       "      <td>PG</td>\n",
       "      <td>115</td>\n",
       "      <td>[u'Henry Thomas', u'Drew Barrymore', u'Peter C...</td>\n",
       "      <td>Henry Thomas</td>\n",
       "      <td>Jack Albertson</td>\n",
       "      <td>Peter Ostrum</td>\n",
       "    </tr>\n",
       "    <tr>\n",
       "      <th>Fantasy</th>\n",
       "      <td>7.7</td>\n",
       "      <td>The City of Lost Children</td>\n",
       "      <td>R</td>\n",
       "      <td>112</td>\n",
       "      <td>[u'Ron Perlman', u'Daniel Emilfork', u'Judith ...</td>\n",
       "      <td>Ron Perlman</td>\n",
       "      <td>Daniel Emilfork</td>\n",
       "      <td>Judith Vittet</td>\n",
       "    </tr>\n",
       "    <tr>\n",
       "      <th>Film-Noir</th>\n",
       "      <td>8.3</td>\n",
       "      <td>The Third Man</td>\n",
       "      <td>UNRATED</td>\n",
       "      <td>111</td>\n",
       "      <td>[u'Orson Welles', u'Joseph Cotten', u'Alida Va...</td>\n",
       "      <td>Orson Welles</td>\n",
       "      <td>Joseph Cotten</td>\n",
       "      <td>Michael Chekhov</td>\n",
       "    </tr>\n",
       "    <tr>\n",
       "      <th>History</th>\n",
       "      <td>8.0</td>\n",
       "      <td>Battleship Potemkin</td>\n",
       "      <td>UNRATED</td>\n",
       "      <td>66</td>\n",
       "      <td>[u'Aleksandr Antonov', u'Vladimir Barsky', u'G...</td>\n",
       "      <td>Aleksandr Antonov</td>\n",
       "      <td>Vladimir Barsky</td>\n",
       "      <td>Grigori Aleksandrov</td>\n",
       "    </tr>\n",
       "    <tr>\n",
       "      <th>Horror</th>\n",
       "      <td>8.6</td>\n",
       "      <td>[Rec]</td>\n",
       "      <td>X</td>\n",
       "      <td>146</td>\n",
       "      <td>[u'Simone Signoret', u'V\\xe9ra Clouzot', u'Pau...</td>\n",
       "      <td>Simone Signoret</td>\n",
       "      <td>u\"Judith ODea\"</td>\n",
       "      <td>Vera Miles</td>\n",
       "    </tr>\n",
       "    <tr>\n",
       "      <th>Mystery</th>\n",
       "      <td>8.6</td>\n",
       "      <td>Vertigo</td>\n",
       "      <td>UNRATED</td>\n",
       "      <td>160</td>\n",
       "      <td>[u'Rufus Sewell', u'Kiefer Sutherland', u'Jenn...</td>\n",
       "      <td>Rufus Sewell</td>\n",
       "      <td>Michelle Monaghan</td>\n",
       "      <td>William Sylvester</td>\n",
       "    </tr>\n",
       "    <tr>\n",
       "      <th>Sci-Fi</th>\n",
       "      <td>8.2</td>\n",
       "      <td>The Day the Earth Stood Still</td>\n",
       "      <td>R</td>\n",
       "      <td>132</td>\n",
       "      <td>[u'Sandra Bullock', u'George Clooney', u'Ed Ha...</td>\n",
       "      <td>Sandra Bullock</td>\n",
       "      <td>Rutger Hauer</td>\n",
       "      <td>Sean Young</td>\n",
       "    </tr>\n",
       "    <tr>\n",
       "      <th>Thriller</th>\n",
       "      <td>8.0</td>\n",
       "      <td>The Man Who Knew Too Much</td>\n",
       "      <td>R</td>\n",
       "      <td>120</td>\n",
       "      <td>[u'Teresa Wright', u'Joseph Cotten', u'Macdona...</td>\n",
       "      <td>Teresa Wright</td>\n",
       "      <td>Kathy Bates</td>\n",
       "      <td>Richard Farnsworth</td>\n",
       "    </tr>\n",
       "    <tr>\n",
       "      <th>Western</th>\n",
       "      <td>8.9</td>\n",
       "      <td>Unforgiven</td>\n",
       "      <td>R</td>\n",
       "      <td>175</td>\n",
       "      <td>[u'John Wayne', u'Dean Martin', u'Ricky Nelson']</td>\n",
       "      <td>John Wayne</td>\n",
       "      <td>Verna Bloom</td>\n",
       "      <td>Thomas Mitchell</td>\n",
       "    </tr>\n",
       "  </tbody>\n",
       "</table>\n",
       "</div>"
      ],
      "text/plain": [
       "           star_rating                                title content_rating  \\\n",
       "genre                                                                        \n",
       "Action             9.0                              Yojimbo        UNRATED   \n",
       "Adventure          8.9                            True Grit        UNRATED   \n",
       "Animation          8.6                       Wreck-It Ralph        UNRATED   \n",
       "Biography          8.9                        Walk the Line        UNRATED   \n",
       "Comedy             8.6                           Zombieland              X   \n",
       "Crime              9.3                               Zodiac              X   \n",
       "Drama              8.9                                 Zulu              X   \n",
       "Family             7.9  Willy Wonka & the Chocolate Factory             PG   \n",
       "Fantasy            7.7            The City of Lost Children              R   \n",
       "Film-Noir          8.3                        The Third Man        UNRATED   \n",
       "History            8.0                  Battleship Potemkin        UNRATED   \n",
       "Horror             8.6                                [Rec]              X   \n",
       "Mystery            8.6                              Vertigo        UNRATED   \n",
       "Sci-Fi             8.2        The Day the Earth Stood Still              R   \n",
       "Thriller           8.0            The Man Who Knew Too Much              R   \n",
       "Western            8.9                           Unforgiven              R   \n",
       "\n",
       "           duration                                        actors_list  \\\n",
       "genre                                                                    \n",
       "Action          205  [u'Ziyi Zhang', u'Takeshi Kaneshiro', u'Andy L...   \n",
       "Adventure       224  [u'Yves Montand', u'Charles Vanel', u'Peter va...   \n",
       "Animation       134  [u'Y\\xf4ji Matsuda', u'Yuriko Ishida', u'Y\\xfb...   \n",
       "Biography       202  [u'Will Smith', u'Thandie Newton', u'Jaden Smi...   \n",
       "Comedy          187  [u'Zooey Deschanel', u'Joseph Gordon-Levitt', ...   \n",
       "Crime           229  [u'Yeong-ae Lee', u'Min-sik Choi', u'Shi-hoo K...   \n",
       "Drama           242  [u'William Holden', u'Gloria Swanson', u'Erich...   \n",
       "Family          115  [u'Henry Thomas', u'Drew Barrymore', u'Peter C...   \n",
       "Fantasy         112  [u'Ron Perlman', u'Daniel Emilfork', u'Judith ...   \n",
       "Film-Noir       111  [u'Orson Welles', u'Joseph Cotten', u'Alida Va...   \n",
       "History          66  [u'Aleksandr Antonov', u'Vladimir Barsky', u'G...   \n",
       "Horror          146  [u'Simone Signoret', u'V\\xe9ra Clouzot', u'Pau...   \n",
       "Mystery         160  [u'Rufus Sewell', u'Kiefer Sutherland', u'Jenn...   \n",
       "Sci-Fi          132  [u'Sandra Bullock', u'George Clooney', u'Ed Ha...   \n",
       "Thriller        120  [u'Teresa Wright', u'Joseph Cotten', u'Macdona...   \n",
       "Western         175   [u'John Wayne', u'Dean Martin', u'Ricky Nelson']   \n",
       "\n",
       "                       actor1                actor2                actor3  \n",
       "genre                                                                      \n",
       "Action             Ziyi Zhang   \\xc9dgar Ram\\xedrez       u\"Dan OHerlihy\"  \n",
       "Adventure       u\"Ryan ONeal\"           Yul Brynner       Viggo Mortensen  \n",
       "Animation      u\"Paige OHara\"          Zachary Levi    u\"Catherine OHara\"  \n",
       "Biography          Will Smith           Will Patton       u\"Peter OToole\"  \n",
       "Comedy     u\"Brian OHalloran\"      u\"Maureen OHara\"    u\"Catherine OHara\"  \n",
       "Crime            Yeong-ae Lee          Willem Dafoe    u\"Beverly DAngelo\"  \n",
       "Drama          William Holden         u\"Ryan ONeal\"   u\"Vincent DOnofrio\"  \n",
       "Family           Henry Thomas        Jack Albertson          Peter Ostrum  \n",
       "Fantasy           Ron Perlman       Daniel Emilfork         Judith Vittet  \n",
       "Film-Noir        Orson Welles         Joseph Cotten       Michael Chekhov  \n",
       "History     Aleksandr Antonov       Vladimir Barsky   Grigori Aleksandrov  \n",
       "Horror        Simone Signoret        u\"Judith ODea\"            Vera Miles  \n",
       "Mystery          Rufus Sewell     Michelle Monaghan     William Sylvester  \n",
       "Sci-Fi         Sandra Bullock          Rutger Hauer            Sean Young  \n",
       "Thriller        Teresa Wright           Kathy Bates    Richard Farnsworth  \n",
       "Western            John Wayne           Verna Bloom       Thomas Mitchell  "
      ]
     },
     "execution_count": 48,
     "metadata": {},
     "output_type": "execute_result"
    }
   ],
   "source": [
    "#A: \n",
    "genre = imdb.groupby(by=\"genre\").max()\n",
    "genre\n"
   ]
  },
  {
   "cell_type": "markdown",
   "metadata": {},
   "source": [
    "#### Q26- Calculate the average star rating for all genres and plot the results"
   ]
  },
  {
   "cell_type": "code",
   "execution_count": 49,
   "metadata": {},
   "outputs": [
    {
     "data": {
      "text/html": [
       "<div>\n",
       "<style scoped>\n",
       "    .dataframe tbody tr th:only-of-type {\n",
       "        vertical-align: middle;\n",
       "    }\n",
       "\n",
       "    .dataframe tbody tr th {\n",
       "        vertical-align: top;\n",
       "    }\n",
       "\n",
       "    .dataframe thead th {\n",
       "        text-align: right;\n",
       "    }\n",
       "</style>\n",
       "<table border=\"1\" class=\"dataframe\">\n",
       "  <thead>\n",
       "    <tr style=\"text-align: right;\">\n",
       "      <th></th>\n",
       "      <th>star_rating</th>\n",
       "      <th>duration</th>\n",
       "    </tr>\n",
       "    <tr>\n",
       "      <th>genre</th>\n",
       "      <th></th>\n",
       "      <th></th>\n",
       "    </tr>\n",
       "  </thead>\n",
       "  <tbody>\n",
       "    <tr>\n",
       "      <th>Action</th>\n",
       "      <td>7.884559</td>\n",
       "      <td>126.485294</td>\n",
       "    </tr>\n",
       "    <tr>\n",
       "      <th>Adventure</th>\n",
       "      <td>7.933333</td>\n",
       "      <td>134.840000</td>\n",
       "    </tr>\n",
       "    <tr>\n",
       "      <th>Animation</th>\n",
       "      <td>7.914516</td>\n",
       "      <td>96.596774</td>\n",
       "    </tr>\n",
       "    <tr>\n",
       "      <th>Biography</th>\n",
       "      <td>7.862338</td>\n",
       "      <td>131.844156</td>\n",
       "    </tr>\n",
       "    <tr>\n",
       "      <th>Comedy</th>\n",
       "      <td>7.822436</td>\n",
       "      <td>107.602564</td>\n",
       "    </tr>\n",
       "    <tr>\n",
       "      <th>Crime</th>\n",
       "      <td>7.916935</td>\n",
       "      <td>122.298387</td>\n",
       "    </tr>\n",
       "    <tr>\n",
       "      <th>Drama</th>\n",
       "      <td>7.902518</td>\n",
       "      <td>126.539568</td>\n",
       "    </tr>\n",
       "    <tr>\n",
       "      <th>Family</th>\n",
       "      <td>7.850000</td>\n",
       "      <td>107.500000</td>\n",
       "    </tr>\n",
       "    <tr>\n",
       "      <th>Fantasy</th>\n",
       "      <td>7.700000</td>\n",
       "      <td>112.000000</td>\n",
       "    </tr>\n",
       "    <tr>\n",
       "      <th>Film-Noir</th>\n",
       "      <td>8.033333</td>\n",
       "      <td>97.333333</td>\n",
       "    </tr>\n",
       "    <tr>\n",
       "      <th>History</th>\n",
       "      <td>8.000000</td>\n",
       "      <td>66.000000</td>\n",
       "    </tr>\n",
       "    <tr>\n",
       "      <th>Horror</th>\n",
       "      <td>7.806897</td>\n",
       "      <td>102.517241</td>\n",
       "    </tr>\n",
       "    <tr>\n",
       "      <th>Mystery</th>\n",
       "      <td>7.975000</td>\n",
       "      <td>115.625000</td>\n",
       "    </tr>\n",
       "    <tr>\n",
       "      <th>Sci-Fi</th>\n",
       "      <td>7.920000</td>\n",
       "      <td>109.000000</td>\n",
       "    </tr>\n",
       "    <tr>\n",
       "      <th>Thriller</th>\n",
       "      <td>7.680000</td>\n",
       "      <td>114.200000</td>\n",
       "    </tr>\n",
       "    <tr>\n",
       "      <th>Western</th>\n",
       "      <td>8.255556</td>\n",
       "      <td>136.666667</td>\n",
       "    </tr>\n",
       "  </tbody>\n",
       "</table>\n",
       "</div>"
      ],
      "text/plain": [
       "           star_rating    duration\n",
       "genre                             \n",
       "Action        7.884559  126.485294\n",
       "Adventure     7.933333  134.840000\n",
       "Animation     7.914516   96.596774\n",
       "Biography     7.862338  131.844156\n",
       "Comedy        7.822436  107.602564\n",
       "Crime         7.916935  122.298387\n",
       "Drama         7.902518  126.539568\n",
       "Family        7.850000  107.500000\n",
       "Fantasy       7.700000  112.000000\n",
       "Film-Noir     8.033333   97.333333\n",
       "History       8.000000   66.000000\n",
       "Horror        7.806897  102.517241\n",
       "Mystery       7.975000  115.625000\n",
       "Sci-Fi        7.920000  109.000000\n",
       "Thriller      7.680000  114.200000\n",
       "Western       8.255556  136.666667"
      ]
     },
     "execution_count": 49,
     "metadata": {},
     "output_type": "execute_result"
    }
   ],
   "source": [
    "#A:genre_avg \n",
    "genre_avg = imdb.groupby(by=\"genre\").mean(\"star_rating\")                                    \n",
    "genre_avg"
   ]
  },
  {
   "cell_type": "code",
   "execution_count": 50,
   "metadata": {},
   "outputs": [],
   "source": [
    "genre_avg_star_rating = genre_avg[\"star_rating\"]    "
   ]
  },
  {
   "cell_type": "code",
   "execution_count": 87,
   "metadata": {},
   "outputs": [
    {
     "data": {
      "text/plain": [
       "<AxesSubplot:xlabel='genre'>"
      ]
     },
     "execution_count": 87,
     "metadata": {},
     "output_type": "execute_result"
    },
    {
     "data": {
      "image/png": "[encoded data removed]",
      "text/plain": [
       "<Figure size 432x288 with 1 Axes>"
      ]
     },
     "metadata": {
      "needs_background": "light"
     },
     "output_type": "display_data"
    }
   ],
   "source": [
    "#A: \n",
    "genre_avg_star_rating .plot.bar()"
   ]
  },
  {
   "cell_type": "markdown",
   "metadata": {
    "collapsed": true
   },
   "source": [
    "#### Q27: YOUR TURN: Create 3 of your own questions and answer those below. Mention the question you are answering, explain the code followed by the answer"
   ]
  },
  {
   "cell_type": "markdown",
   "metadata": {},
   "source": [
    "#Q1 Top rated movie with Harrison ford as lead actor"
   ]
  },
  {
   "cell_type": "code",
   "execution_count": 61,
   "metadata": {
    "scrolled": true
   },
   "outputs": [
    {
     "data": {
      "text/html": [
       "<div>\n",
       "<style scoped>\n",
       "    .dataframe tbody tr th:only-of-type {\n",
       "        vertical-align: middle;\n",
       "    }\n",
       "\n",
       "    .dataframe tbody tr th {\n",
       "        vertical-align: top;\n",
       "    }\n",
       "\n",
       "    .dataframe thead th {\n",
       "        text-align: right;\n",
       "    }\n",
       "</style>\n",
       "<table border=\"1\" class=\"dataframe\">\n",
       "  <thead>\n",
       "    <tr style=\"text-align: right;\">\n",
       "      <th></th>\n",
       "      <th>star_rating</th>\n",
       "      <th>title</th>\n",
       "      <th>content_rating</th>\n",
       "      <th>genre</th>\n",
       "      <th>duration</th>\n",
       "      <th>actors_list</th>\n",
       "      <th>actor1</th>\n",
       "      <th>actor2</th>\n",
       "      <th>actor3</th>\n",
       "    </tr>\n",
       "  </thead>\n",
       "  <tbody>\n",
       "    <tr>\n",
       "      <th>37</th>\n",
       "      <td>8.6</td>\n",
       "      <td>Raiders of the Lost Ark</td>\n",
       "      <td>PG</td>\n",
       "      <td>Action</td>\n",
       "      <td>115</td>\n",
       "      <td>[u'Harrison Ford', u'Karen Allen', u'Paul Free...</td>\n",
       "      <td>Harrison Ford</td>\n",
       "      <td>Karen Allen</td>\n",
       "      <td>Paul Freeman</td>\n",
       "    </tr>\n",
       "  </tbody>\n",
       "</table>\n",
       "</div>"
      ],
      "text/plain": [
       "    star_rating                    title content_rating   genre  duration  \\\n",
       "37          8.6  Raiders of the Lost Ark             PG  Action       115   \n",
       "\n",
       "                                          actors_list         actor1  \\\n",
       "37  [u'Harrison Ford', u'Karen Allen', u'Paul Free...  Harrison Ford   \n",
       "\n",
       "          actor2         actor3  \n",
       "37   Karen Allen   Paul Freeman  "
      ]
     },
     "execution_count": 61,
     "metadata": {},
     "output_type": "execute_result"
    }
   ],
   "source": [
    "harrison_top = imdb[imdb[\"actor1\"]==\"Harrison Ford\"]\n",
    "harrison_top.head(1)"
   ]
  },
  {
   "cell_type": "markdown",
   "metadata": {},
   "source": [
    "#Q2 Genre with lowest median start rating "
   ]
  },
  {
   "cell_type": "code",
   "execution_count": 74,
   "metadata": {
    "scrolled": true
   },
   "outputs": [
    {
     "data": {
      "text/html": [
       "<div>\n",
       "<style scoped>\n",
       "    .dataframe tbody tr th:only-of-type {\n",
       "        vertical-align: middle;\n",
       "    }\n",
       "\n",
       "    .dataframe tbody tr th {\n",
       "        vertical-align: top;\n",
       "    }\n",
       "\n",
       "    .dataframe thead th {\n",
       "        text-align: right;\n",
       "    }\n",
       "</style>\n",
       "<table border=\"1\" class=\"dataframe\">\n",
       "  <thead>\n",
       "    <tr style=\"text-align: right;\">\n",
       "      <th></th>\n",
       "      <th>star_rating</th>\n",
       "      <th>duration</th>\n",
       "    </tr>\n",
       "    <tr>\n",
       "      <th>genre</th>\n",
       "      <th></th>\n",
       "      <th></th>\n",
       "    </tr>\n",
       "  </thead>\n",
       "  <tbody>\n",
       "    <tr>\n",
       "      <th>Action</th>\n",
       "      <td>7.80</td>\n",
       "      <td>125.0</td>\n",
       "    </tr>\n",
       "    <tr>\n",
       "      <th>Adventure</th>\n",
       "      <td>7.90</td>\n",
       "      <td>127.0</td>\n",
       "    </tr>\n",
       "    <tr>\n",
       "      <th>Animation</th>\n",
       "      <td>7.90</td>\n",
       "      <td>94.5</td>\n",
       "    </tr>\n",
       "    <tr>\n",
       "      <th>Biography</th>\n",
       "      <td>7.80</td>\n",
       "      <td>127.0</td>\n",
       "    </tr>\n",
       "    <tr>\n",
       "      <th>Comedy</th>\n",
       "      <td>7.80</td>\n",
       "      <td>104.0</td>\n",
       "    </tr>\n",
       "    <tr>\n",
       "      <th>Crime</th>\n",
       "      <td>7.80</td>\n",
       "      <td>118.0</td>\n",
       "    </tr>\n",
       "    <tr>\n",
       "      <th>Drama</th>\n",
       "      <td>7.90</td>\n",
       "      <td>123.0</td>\n",
       "    </tr>\n",
       "    <tr>\n",
       "      <th>Family</th>\n",
       "      <td>7.85</td>\n",
       "      <td>107.5</td>\n",
       "    </tr>\n",
       "    <tr>\n",
       "      <th>Fantasy</th>\n",
       "      <td>7.70</td>\n",
       "      <td>112.0</td>\n",
       "    </tr>\n",
       "    <tr>\n",
       "      <th>Film-Noir</th>\n",
       "      <td>8.10</td>\n",
       "      <td>93.0</td>\n",
       "    </tr>\n",
       "    <tr>\n",
       "      <th>History</th>\n",
       "      <td>8.00</td>\n",
       "      <td>66.0</td>\n",
       "    </tr>\n",
       "    <tr>\n",
       "      <th>Horror</th>\n",
       "      <td>7.70</td>\n",
       "      <td>104.0</td>\n",
       "    </tr>\n",
       "    <tr>\n",
       "      <th>Mystery</th>\n",
       "      <td>8.10</td>\n",
       "      <td>115.0</td>\n",
       "    </tr>\n",
       "    <tr>\n",
       "      <th>Sci-Fi</th>\n",
       "      <td>7.90</td>\n",
       "      <td>113.0</td>\n",
       "    </tr>\n",
       "    <tr>\n",
       "      <th>Thriller</th>\n",
       "      <td>7.60</td>\n",
       "      <td>116.0</td>\n",
       "    </tr>\n",
       "    <tr>\n",
       "      <th>Western</th>\n",
       "      <td>8.30</td>\n",
       "      <td>135.0</td>\n",
       "    </tr>\n",
       "  </tbody>\n",
       "</table>\n",
       "</div>"
      ],
      "text/plain": [
       "           star_rating  duration\n",
       "genre                           \n",
       "Action            7.80     125.0\n",
       "Adventure         7.90     127.0\n",
       "Animation         7.90      94.5\n",
       "Biography         7.80     127.0\n",
       "Comedy            7.80     104.0\n",
       "Crime             7.80     118.0\n",
       "Drama             7.90     123.0\n",
       "Family            7.85     107.5\n",
       "Fantasy           7.70     112.0\n",
       "Film-Noir         8.10      93.0\n",
       "History           8.00      66.0\n",
       "Horror            7.70     104.0\n",
       "Mystery           8.10     115.0\n",
       "Sci-Fi            7.90     113.0\n",
       "Thriller          7.60     116.0\n",
       "Western           8.30     135.0"
      ]
     },
     "execution_count": 74,
     "metadata": {},
     "output_type": "execute_result"
    }
   ],
   "source": [
    "genre_median = imdb.groupby(by=\"genre\").median(\"star_rating\")            \n",
    "genre_median"
   ]
  },
  {
   "cell_type": "code",
   "execution_count": 75,
   "metadata": {},
   "outputs": [
    {
     "data": {
      "text/html": [
       "<div>\n",
       "<style scoped>\n",
       "    .dataframe tbody tr th:only-of-type {\n",
       "        vertical-align: middle;\n",
       "    }\n",
       "\n",
       "    .dataframe tbody tr th {\n",
       "        vertical-align: top;\n",
       "    }\n",
       "\n",
       "    .dataframe thead th {\n",
       "        text-align: right;\n",
       "    }\n",
       "</style>\n",
       "<table border=\"1\" class=\"dataframe\">\n",
       "  <thead>\n",
       "    <tr style=\"text-align: right;\">\n",
       "      <th></th>\n",
       "      <th>star_rating</th>\n",
       "      <th>duration</th>\n",
       "    </tr>\n",
       "    <tr>\n",
       "      <th>genre</th>\n",
       "      <th></th>\n",
       "      <th></th>\n",
       "    </tr>\n",
       "  </thead>\n",
       "  <tbody>\n",
       "    <tr>\n",
       "      <th>Thriller</th>\n",
       "      <td>7.6</td>\n",
       "      <td>116.0</td>\n",
       "    </tr>\n",
       "  </tbody>\n",
       "</table>\n",
       "</div>"
      ],
      "text/plain": [
       "          star_rating  duration\n",
       "genre                          \n",
       "Thriller          7.6     116.0"
      ]
     },
     "execution_count": 75,
     "metadata": {},
     "output_type": "execute_result"
    }
   ],
   "source": [
    "genre_median_sort = genre_median.sort_values(by=['star_rating'], ascending=True)\n",
    "genre_median_sort.head(1)"
   ]
  },
  {
   "cell_type": "markdown",
   "metadata": {},
   "source": [
    "#Q3 Breakdown of genres for films with a +8 rating"
   ]
  },
  {
   "cell_type": "code",
   "execution_count": 88,
   "metadata": {},
   "outputs": [
    {
     "data": {
      "text/html": [
       "<div>\n",
       "<style scoped>\n",
       "    .dataframe tbody tr th:only-of-type {\n",
       "        vertical-align: middle;\n",
       "    }\n",
       "\n",
       "    .dataframe tbody tr th {\n",
       "        vertical-align: top;\n",
       "    }\n",
       "\n",
       "    .dataframe thead th {\n",
       "        text-align: right;\n",
       "    }\n",
       "</style>\n",
       "<table border=\"1\" class=\"dataframe\">\n",
       "  <thead>\n",
       "    <tr style=\"text-align: right;\">\n",
       "      <th></th>\n",
       "      <th>star_rating</th>\n",
       "      <th>title</th>\n",
       "      <th>content_rating</th>\n",
       "      <th>genre</th>\n",
       "      <th>duration</th>\n",
       "      <th>actors_list</th>\n",
       "      <th>actor1</th>\n",
       "      <th>actor2</th>\n",
       "      <th>actor3</th>\n",
       "    </tr>\n",
       "  </thead>\n",
       "  <tbody>\n",
       "    <tr>\n",
       "      <th>0</th>\n",
       "      <td>9.3</td>\n",
       "      <td>The Shawshank Redemption</td>\n",
       "      <td>R</td>\n",
       "      <td>Crime</td>\n",
       "      <td>142</td>\n",
       "      <td>[u'Tim Robbins', u'Morgan Freeman', u'Bob Gunt...</td>\n",
       "      <td>Tim Robbins</td>\n",
       "      <td>Morgan Freeman</td>\n",
       "      <td>Bob Gunton</td>\n",
       "    </tr>\n",
       "    <tr>\n",
       "      <th>1</th>\n",
       "      <td>9.2</td>\n",
       "      <td>The Godfather</td>\n",
       "      <td>R</td>\n",
       "      <td>Crime</td>\n",
       "      <td>175</td>\n",
       "      <td>[u'Marlon Brando', u'Al Pacino', u'James Caan']</td>\n",
       "      <td>Marlon Brando</td>\n",
       "      <td>Al Pacino</td>\n",
       "      <td>James Caan</td>\n",
       "    </tr>\n",
       "    <tr>\n",
       "      <th>2</th>\n",
       "      <td>9.1</td>\n",
       "      <td>The Godfather: Part II</td>\n",
       "      <td>R</td>\n",
       "      <td>Crime</td>\n",
       "      <td>200</td>\n",
       "      <td>[u'Al Pacino', u'Robert De Niro', u'Robert Duv...</td>\n",
       "      <td>Al Pacino</td>\n",
       "      <td>Robert De Niro</td>\n",
       "      <td>Robert Duvall</td>\n",
       "    </tr>\n",
       "    <tr>\n",
       "      <th>3</th>\n",
       "      <td>9.0</td>\n",
       "      <td>The Dark Knight</td>\n",
       "      <td>PG-13</td>\n",
       "      <td>Action</td>\n",
       "      <td>152</td>\n",
       "      <td>[u'Christian Bale', u'Heath Ledger', u'Aaron E...</td>\n",
       "      <td>Christian Bale</td>\n",
       "      <td>Heath Ledger</td>\n",
       "      <td>Aaron Eckhart</td>\n",
       "    </tr>\n",
       "    <tr>\n",
       "      <th>4</th>\n",
       "      <td>8.9</td>\n",
       "      <td>Pulp Fiction</td>\n",
       "      <td>R</td>\n",
       "      <td>Crime</td>\n",
       "      <td>154</td>\n",
       "      <td>[u'John Travolta', u'Uma Thurman', u'Samuel L....</td>\n",
       "      <td>John Travolta</td>\n",
       "      <td>Uma Thurman</td>\n",
       "      <td>Samuel L. Jackson</td>\n",
       "    </tr>\n",
       "    <tr>\n",
       "      <th>...</th>\n",
       "      <td>...</td>\n",
       "      <td>...</td>\n",
       "      <td>...</td>\n",
       "      <td>...</td>\n",
       "      <td>...</td>\n",
       "      <td>...</td>\n",
       "      <td>...</td>\n",
       "      <td>...</td>\n",
       "      <td>...</td>\n",
       "    </tr>\n",
       "    <tr>\n",
       "      <th>389</th>\n",
       "      <td>8.0</td>\n",
       "      <td>Freaks</td>\n",
       "      <td>UNRATED</td>\n",
       "      <td>Drama</td>\n",
       "      <td>64</td>\n",
       "      <td>[u'Wallace Ford', u'Leila Hyams', u'Olga Bacla...</td>\n",
       "      <td>Wallace Ford</td>\n",
       "      <td>Leila Hyams</td>\n",
       "      <td>Olga Baclanova</td>\n",
       "    </tr>\n",
       "    <tr>\n",
       "      <th>390</th>\n",
       "      <td>8.0</td>\n",
       "      <td>Letters from Iwo Jima</td>\n",
       "      <td>R</td>\n",
       "      <td>Drama</td>\n",
       "      <td>141</td>\n",
       "      <td>[u'Ken Watanabe', u'Kazunari Ninomiya', u'Tsuy...</td>\n",
       "      <td>Ken Watanabe</td>\n",
       "      <td>Kazunari Ninomiya</td>\n",
       "      <td>Tsuyoshi Ihara</td>\n",
       "    </tr>\n",
       "    <tr>\n",
       "      <th>391</th>\n",
       "      <td>8.0</td>\n",
       "      <td>Edge of Tomorrow</td>\n",
       "      <td>PG-13</td>\n",
       "      <td>Action</td>\n",
       "      <td>113</td>\n",
       "      <td>[u'Tom Cruise', u'Emily Blunt', u'Bill Paxton']</td>\n",
       "      <td>Tom Cruise</td>\n",
       "      <td>Emily Blunt</td>\n",
       "      <td>Bill Paxton</td>\n",
       "    </tr>\n",
       "    <tr>\n",
       "      <th>392</th>\n",
       "      <td>8.0</td>\n",
       "      <td>Glory</td>\n",
       "      <td>R</td>\n",
       "      <td>Drama</td>\n",
       "      <td>122</td>\n",
       "      <td>[u'Matthew Broderick', u'Denzel Washington', u...</td>\n",
       "      <td>Matthew Broderick</td>\n",
       "      <td>Denzel Washington</td>\n",
       "      <td>Cary Elwes</td>\n",
       "    </tr>\n",
       "    <tr>\n",
       "      <th>393</th>\n",
       "      <td>8.0</td>\n",
       "      <td>The African Queen</td>\n",
       "      <td>PG</td>\n",
       "      <td>Adventure</td>\n",
       "      <td>105</td>\n",
       "      <td>[u'Humphrey Bogart', u'Katharine Hepburn', u'R...</td>\n",
       "      <td>Humphrey Bogart</td>\n",
       "      <td>Katharine Hepburn</td>\n",
       "      <td>Robert Morley</td>\n",
       "    </tr>\n",
       "  </tbody>\n",
       "</table>\n",
       "<p>394 rows × 9 columns</p>\n",
       "</div>"
      ],
      "text/plain": [
       "     star_rating                     title content_rating      genre  \\\n",
       "0            9.3  The Shawshank Redemption              R      Crime   \n",
       "1            9.2             The Godfather              R      Crime   \n",
       "2            9.1    The Godfather: Part II              R      Crime   \n",
       "3            9.0           The Dark Knight          PG-13     Action   \n",
       "4            8.9              Pulp Fiction              R      Crime   \n",
       "..           ...                       ...            ...        ...   \n",
       "389          8.0                    Freaks        UNRATED      Drama   \n",
       "390          8.0     Letters from Iwo Jima              R      Drama   \n",
       "391          8.0          Edge of Tomorrow          PG-13     Action   \n",
       "392          8.0                     Glory              R      Drama   \n",
       "393          8.0         The African Queen             PG  Adventure   \n",
       "\n",
       "     duration                                        actors_list  \\\n",
       "0         142  [u'Tim Robbins', u'Morgan Freeman', u'Bob Gunt...   \n",
       "1         175    [u'Marlon Brando', u'Al Pacino', u'James Caan']   \n",
       "2         200  [u'Al Pacino', u'Robert De Niro', u'Robert Duv...   \n",
       "3         152  [u'Christian Bale', u'Heath Ledger', u'Aaron E...   \n",
       "4         154  [u'John Travolta', u'Uma Thurman', u'Samuel L....   \n",
       "..        ...                                                ...   \n",
       "389        64  [u'Wallace Ford', u'Leila Hyams', u'Olga Bacla...   \n",
       "390       141  [u'Ken Watanabe', u'Kazunari Ninomiya', u'Tsuy...   \n",
       "391       113    [u'Tom Cruise', u'Emily Blunt', u'Bill Paxton']   \n",
       "392       122  [u'Matthew Broderick', u'Denzel Washington', u...   \n",
       "393       105  [u'Humphrey Bogart', u'Katharine Hepburn', u'R...   \n",
       "\n",
       "                actor1              actor2              actor3  \n",
       "0          Tim Robbins      Morgan Freeman          Bob Gunton  \n",
       "1        Marlon Brando           Al Pacino          James Caan  \n",
       "2            Al Pacino      Robert De Niro       Robert Duvall  \n",
       "3       Christian Bale        Heath Ledger       Aaron Eckhart  \n",
       "4        John Travolta         Uma Thurman   Samuel L. Jackson  \n",
       "..                 ...                 ...                 ...  \n",
       "389       Wallace Ford         Leila Hyams      Olga Baclanova  \n",
       "390       Ken Watanabe   Kazunari Ninomiya      Tsuyoshi Ihara  \n",
       "391         Tom Cruise         Emily Blunt         Bill Paxton  \n",
       "392  Matthew Broderick   Denzel Washington          Cary Elwes  \n",
       "393    Humphrey Bogart   Katharine Hepburn       Robert Morley  \n",
       "\n",
       "[394 rows x 9 columns]"
      ]
     },
     "execution_count": 88,
     "metadata": {},
     "output_type": "execute_result"
    }
   ],
   "source": [
    "movies_top = imdb[imdb[\"star_rating\"]>=8]\n",
    "movies_top    "
   ]
  },
  {
   "cell_type": "code",
   "execution_count": 85,
   "metadata": {},
   "outputs": [
    {
     "data": {
      "text/plain": [
       "Text(0.5, 1.0, 'Share of Movies with a +8 Rating by Genre')"
      ]
     },
     "execution_count": 85,
     "metadata": {},
     "output_type": "execute_result"
    },
    {
     "data": {
      "image/png": "[encoded data removed]",
      "text/plain": [
       "<Figure size 432x288 with 1 Axes>"
      ]
     },
     "metadata": {},
     "output_type": "display_data"
    }
   ],
   "source": [
    "frequency_of_movies_top = movies_top[\"genre\"].value_counts()\n",
    "frequency_of_movies_top.plot.pie()\n",
    "plt.title(\"Share of Movies with a +8 Rating by Genre\")"
   ]
  },
  {
   "cell_type": "markdown",
   "metadata": {},
   "source": [
    "## Q28: List top 3 learnings from this data."
   ]
  },
  {
   "cell_type": "markdown",
   "metadata": {},
   "source": [
    "#A: \n",
    "1) Movie duration has low association with movie rating.\n",
    "\n",
    "2) Data on movie duaration is heavily centralised around its mean - 120 minutes. With low relative standard deviation.\n",
    "\n",
    "3) If you want to hit the big leagues (8+ ratings) you're most likely to get there with a 'Drama' genre film."
   ]
  }
 ],
 "metadata": {
  "kernelspec": {
   "display_name": "Python 3",
   "language": "python",
   "name": "python3"
  },
  "language_info": {
   "codemirror_mode": {
    "name": "ipython",
    "version": 3
   },
   "file_extension": ".py",
   "mimetype": "text/x-python",
   "name": "python",
   "nbconvert_exporter": "python",
   "pygments_lexer": "ipython3",
   "version": "3.8.8"
  }
 },
 "nbformat": 4,
 "nbformat_minor": 1
}
