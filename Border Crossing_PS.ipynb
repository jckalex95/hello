{
 "cells": [
  {
   "cell_type": "markdown",
   "metadata": {},
   "source": [
    "<img src=\"http://imgur.com/1ZcRyrc.png\" style=\"float: left; margin: 20px; height: 55px\">\n",
    "\n",
    "# Option 3: Analyzing Border Crossing Data\n",
    "\n",
    "_Author: Preriit Souda_"
   ]
  },
  {
   "cell_type": "markdown",
   "metadata": {},
   "source": [
    "\n",
    "For these exercises, you will conduct basic exploratory data analysis on border crossing data. It contains data from the US govt on border crossings into the US. It’s a modified sample data containing border crossings in the first 12 days of January from 2008-2020.\n",
    "\n",
    "The Border Crossing data set is taken from Kaggle and modified (reduced in size) for ease of use in this course. \n",
    "\n",
    "The dataset includes: Port Name, State, Port Code, Border, Date of crossing, Type of vehicle and Value\n"
   ]
  },
  {
   "cell_type": "markdown",
   "metadata": {},
   "source": [
    "Lets start with all the imports"
   ]
  },
  {
   "cell_type": "code",
   "execution_count": 1,
   "metadata": {},
   "outputs": [],
   "source": [
    "# Imports\n",
    "import pandas as pd\n",
    "import numpy as np\n",
    "import seaborn as sns\n",
    "import matplotlib.pyplot as plt\n",
    "\n",
    "%matplotlib inline"
   ]
  },
  {
   "cell_type": "markdown",
   "metadata": {},
   "source": [
    "**Q1- Read in the file**"
   ]
  },
  {
   "cell_type": "code",
   "execution_count": 2,
   "metadata": {},
   "outputs": [],
   "source": [
    "#A: \n",
    "border = pd.read_csv(\"C:/Users/j.alexander1/Desktop/PYTHON/GeneralAssembly/CLASS MATERIALS/Class 8 & Project 2/data/BorderCrossings_USA_PS.csv\")"
   ]
  },
  {
   "cell_type": "code",
   "execution_count": 3,
   "metadata": {},
   "outputs": [
    {
     "data": {
      "text/plain": [
       "Port Name    object\n",
       "State        object\n",
       "Port Code     int64\n",
       "Border       object\n",
       "Date         object\n",
       "Measure      object\n",
       "Value         int64\n",
       "dtype: object"
      ]
     },
     "execution_count": 3,
     "metadata": {},
     "output_type": "execute_result"
    }
   ],
   "source": [
    "border.dtypes"
   ]
  },
  {
   "cell_type": "markdown",
   "metadata": {},
   "source": [
    "**Q2: Show the first 20 rows, last 10 rows and a sample of 15 rows**"
   ]
  },
  {
   "cell_type": "code",
   "execution_count": 4,
   "metadata": {},
   "outputs": [
    {
     "data": {
      "text/html": [
       "<div>\n",
       "<style scoped>\n",
       "    .dataframe tbody tr th:only-of-type {\n",
       "        vertical-align: middle;\n",
       "    }\n",
       "\n",
       "    .dataframe tbody tr th {\n",
       "        vertical-align: top;\n",
       "    }\n",
       "\n",
       "    .dataframe thead th {\n",
       "        text-align: right;\n",
       "    }\n",
       "</style>\n",
       "<table border=\"1\" class=\"dataframe\">\n",
       "  <thead>\n",
       "    <tr style=\"text-align: right;\">\n",
       "      <th></th>\n",
       "      <th>Port Name</th>\n",
       "      <th>State</th>\n",
       "      <th>Port Code</th>\n",
       "      <th>Border</th>\n",
       "      <th>Date</th>\n",
       "      <th>Measure</th>\n",
       "      <th>Value</th>\n",
       "    </tr>\n",
       "  </thead>\n",
       "  <tbody>\n",
       "    <tr>\n",
       "      <th>168305</th>\n",
       "      <td>Brownsville</td>\n",
       "      <td>TX</td>\n",
       "      <td>2301</td>\n",
       "      <td>US-Mexico Border</td>\n",
       "      <td>03/01/2008</td>\n",
       "      <td>Rail Containers Full</td>\n",
       "      <td>790</td>\n",
       "    </tr>\n",
       "    <tr>\n",
       "      <th>3736</th>\n",
       "      <td>Del Bonita</td>\n",
       "      <td>MT</td>\n",
       "      <td>3322</td>\n",
       "      <td>US-Canada Border</td>\n",
       "      <td>10/01/2019</td>\n",
       "      <td>Truck Containers Full</td>\n",
       "      <td>82</td>\n",
       "    </tr>\n",
       "    <tr>\n",
       "      <th>49489</th>\n",
       "      <td>Portland</td>\n",
       "      <td>ME</td>\n",
       "      <td>101</td>\n",
       "      <td>US-Canada Border</td>\n",
       "      <td>08/01/2015</td>\n",
       "      <td>Rail Containers Empty</td>\n",
       "      <td>0</td>\n",
       "    </tr>\n",
       "    <tr>\n",
       "      <th>54406</th>\n",
       "      <td>Champlain-Rouses Point</td>\n",
       "      <td>NY</td>\n",
       "      <td>712</td>\n",
       "      <td>US-Canada Border</td>\n",
       "      <td>05/01/2015</td>\n",
       "      <td>Personal Vehicles</td>\n",
       "      <td>93346</td>\n",
       "    </tr>\n",
       "    <tr>\n",
       "      <th>29194</th>\n",
       "      <td>Maida</td>\n",
       "      <td>ND</td>\n",
       "      <td>3416</td>\n",
       "      <td>US-Canada Border</td>\n",
       "      <td>02/01/2017</td>\n",
       "      <td>Trucks</td>\n",
       "      <td>65</td>\n",
       "    </tr>\n",
       "    <tr>\n",
       "      <th>84282</th>\n",
       "      <td>Westhope</td>\n",
       "      <td>ND</td>\n",
       "      <td>3419</td>\n",
       "      <td>US-Canada Border</td>\n",
       "      <td>06/01/2013</td>\n",
       "      <td>Truck Containers Empty</td>\n",
       "      <td>328</td>\n",
       "    </tr>\n",
       "    <tr>\n",
       "      <th>110514</th>\n",
       "      <td>Willow Creek</td>\n",
       "      <td>MT</td>\n",
       "      <td>3325</td>\n",
       "      <td>US-Canada Border</td>\n",
       "      <td>10/01/2011</td>\n",
       "      <td>Trains</td>\n",
       "      <td>0</td>\n",
       "    </tr>\n",
       "    <tr>\n",
       "      <th>22957</th>\n",
       "      <td>Naco</td>\n",
       "      <td>AZ</td>\n",
       "      <td>2603</td>\n",
       "      <td>US-Mexico Border</td>\n",
       "      <td>10/01/2017</td>\n",
       "      <td>Truck Containers Empty</td>\n",
       "      <td>173</td>\n",
       "    </tr>\n",
       "    <tr>\n",
       "      <th>156821</th>\n",
       "      <td>Tecate</td>\n",
       "      <td>CA</td>\n",
       "      <td>2505</td>\n",
       "      <td>US-Mexico Border</td>\n",
       "      <td>12/01/2008</td>\n",
       "      <td>Buses</td>\n",
       "      <td>18</td>\n",
       "    </tr>\n",
       "    <tr>\n",
       "      <th>119538</th>\n",
       "      <td>Progreso</td>\n",
       "      <td>TX</td>\n",
       "      <td>2309</td>\n",
       "      <td>US-Mexico Border</td>\n",
       "      <td>03/01/2011</td>\n",
       "      <td>Trucks</td>\n",
       "      <td>4774</td>\n",
       "    </tr>\n",
       "    <tr>\n",
       "      <th>35150</th>\n",
       "      <td>Boundary</td>\n",
       "      <td>WA</td>\n",
       "      <td>3015</td>\n",
       "      <td>US-Canada Border</td>\n",
       "      <td>07/01/2016</td>\n",
       "      <td>Rail Containers Empty</td>\n",
       "      <td>274</td>\n",
       "    </tr>\n",
       "    <tr>\n",
       "      <th>47521</th>\n",
       "      <td>Maida</td>\n",
       "      <td>ND</td>\n",
       "      <td>3416</td>\n",
       "      <td>US-Canada Border</td>\n",
       "      <td>10/01/2015</td>\n",
       "      <td>Train Passengers</td>\n",
       "      <td>0</td>\n",
       "    </tr>\n",
       "    <tr>\n",
       "      <th>70203</th>\n",
       "      <td>Beecher Falls</td>\n",
       "      <td>VT</td>\n",
       "      <td>206</td>\n",
       "      <td>US-Canada Border</td>\n",
       "      <td>05/01/2014</td>\n",
       "      <td>Truck Containers Empty</td>\n",
       "      <td>174</td>\n",
       "    </tr>\n",
       "    <tr>\n",
       "      <th>134003</th>\n",
       "      <td>Bar Harbor</td>\n",
       "      <td>ME</td>\n",
       "      <td>112</td>\n",
       "      <td>US-Canada Border</td>\n",
       "      <td>05/01/2010</td>\n",
       "      <td>Rail Containers Full</td>\n",
       "      <td>0</td>\n",
       "    </tr>\n",
       "    <tr>\n",
       "      <th>62643</th>\n",
       "      <td>Sumas</td>\n",
       "      <td>WA</td>\n",
       "      <td>3009</td>\n",
       "      <td>US-Canada Border</td>\n",
       "      <td>11/01/2014</td>\n",
       "      <td>Personal Vehicle Passengers</td>\n",
       "      <td>144269</td>\n",
       "    </tr>\n",
       "  </tbody>\n",
       "</table>\n",
       "</div>"
      ],
      "text/plain": [
       "                     Port Name State  Port Code            Border        Date  \\\n",
       "168305             Brownsville    TX       2301  US-Mexico Border  03/01/2008   \n",
       "3736                Del Bonita    MT       3322  US-Canada Border  10/01/2019   \n",
       "49489                 Portland    ME        101  US-Canada Border  08/01/2015   \n",
       "54406   Champlain-Rouses Point    NY        712  US-Canada Border  05/01/2015   \n",
       "29194                    Maida    ND       3416  US-Canada Border  02/01/2017   \n",
       "84282                 Westhope    ND       3419  US-Canada Border  06/01/2013   \n",
       "110514            Willow Creek    MT       3325  US-Canada Border  10/01/2011   \n",
       "22957                     Naco    AZ       2603  US-Mexico Border  10/01/2017   \n",
       "156821                  Tecate    CA       2505  US-Mexico Border  12/01/2008   \n",
       "119538                Progreso    TX       2309  US-Mexico Border  03/01/2011   \n",
       "35150                 Boundary    WA       3015  US-Canada Border  07/01/2016   \n",
       "47521                    Maida    ND       3416  US-Canada Border  10/01/2015   \n",
       "70203            Beecher Falls    VT        206  US-Canada Border  05/01/2014   \n",
       "134003              Bar Harbor    ME        112  US-Canada Border  05/01/2010   \n",
       "62643                    Sumas    WA       3009  US-Canada Border  11/01/2014   \n",
       "\n",
       "                            Measure   Value  \n",
       "168305         Rail Containers Full     790  \n",
       "3736          Truck Containers Full      82  \n",
       "49489         Rail Containers Empty       0  \n",
       "54406             Personal Vehicles   93346  \n",
       "29194                        Trucks      65  \n",
       "84282        Truck Containers Empty     328  \n",
       "110514                       Trains       0  \n",
       "22957        Truck Containers Empty     173  \n",
       "156821                        Buses      18  \n",
       "119538                       Trucks    4774  \n",
       "35150         Rail Containers Empty     274  \n",
       "47521              Train Passengers       0  \n",
       "70203        Truck Containers Empty     174  \n",
       "134003         Rail Containers Full       0  \n",
       "62643   Personal Vehicle Passengers  144269  "
      ]
     },
     "execution_count": 4,
     "metadata": {},
     "output_type": "execute_result"
    }
   ],
   "source": [
    "#A: \n",
    "border.sample(15)"
   ]
  },
  {
   "cell_type": "code",
   "execution_count": 5,
   "metadata": {},
   "outputs": [
    {
     "data": {
      "text/html": [
       "<div>\n",
       "<style scoped>\n",
       "    .dataframe tbody tr th:only-of-type {\n",
       "        vertical-align: middle;\n",
       "    }\n",
       "\n",
       "    .dataframe tbody tr th {\n",
       "        vertical-align: top;\n",
       "    }\n",
       "\n",
       "    .dataframe thead th {\n",
       "        text-align: right;\n",
       "    }\n",
       "</style>\n",
       "<table border=\"1\" class=\"dataframe\">\n",
       "  <thead>\n",
       "    <tr style=\"text-align: right;\">\n",
       "      <th></th>\n",
       "      <th>Port Name</th>\n",
       "      <th>State</th>\n",
       "      <th>Port Code</th>\n",
       "      <th>Border</th>\n",
       "      <th>Date</th>\n",
       "      <th>Measure</th>\n",
       "      <th>Value</th>\n",
       "    </tr>\n",
       "  </thead>\n",
       "  <tbody>\n",
       "    <tr>\n",
       "      <th>0</th>\n",
       "      <td>Alcan</td>\n",
       "      <td>AK</td>\n",
       "      <td>3104</td>\n",
       "      <td>US-Canada Border</td>\n",
       "      <td>02/01/2020</td>\n",
       "      <td>Personal Vehicle Passengers</td>\n",
       "      <td>1414</td>\n",
       "    </tr>\n",
       "    <tr>\n",
       "      <th>1</th>\n",
       "      <td>Alcan</td>\n",
       "      <td>AK</td>\n",
       "      <td>3104</td>\n",
       "      <td>US-Canada Border</td>\n",
       "      <td>02/01/2020</td>\n",
       "      <td>Personal Vehicles</td>\n",
       "      <td>763</td>\n",
       "    </tr>\n",
       "    <tr>\n",
       "      <th>2</th>\n",
       "      <td>Alcan</td>\n",
       "      <td>AK</td>\n",
       "      <td>3104</td>\n",
       "      <td>US-Canada Border</td>\n",
       "      <td>02/01/2020</td>\n",
       "      <td>Truck Containers Empty</td>\n",
       "      <td>412</td>\n",
       "    </tr>\n",
       "    <tr>\n",
       "      <th>3</th>\n",
       "      <td>Alcan</td>\n",
       "      <td>AK</td>\n",
       "      <td>3104</td>\n",
       "      <td>US-Canada Border</td>\n",
       "      <td>02/01/2020</td>\n",
       "      <td>Truck Containers Full</td>\n",
       "      <td>122</td>\n",
       "    </tr>\n",
       "    <tr>\n",
       "      <th>4</th>\n",
       "      <td>Alcan</td>\n",
       "      <td>AK</td>\n",
       "      <td>3104</td>\n",
       "      <td>US-Canada Border</td>\n",
       "      <td>02/01/2020</td>\n",
       "      <td>Trucks</td>\n",
       "      <td>545</td>\n",
       "    </tr>\n",
       "    <tr>\n",
       "      <th>5</th>\n",
       "      <td>Alexandria Bay</td>\n",
       "      <td>NY</td>\n",
       "      <td>708</td>\n",
       "      <td>US-Canada Border</td>\n",
       "      <td>02/01/2020</td>\n",
       "      <td>Bus Passengers</td>\n",
       "      <td>1174</td>\n",
       "    </tr>\n",
       "    <tr>\n",
       "      <th>6</th>\n",
       "      <td>Alexandria Bay</td>\n",
       "      <td>NY</td>\n",
       "      <td>708</td>\n",
       "      <td>US-Canada Border</td>\n",
       "      <td>02/01/2020</td>\n",
       "      <td>Buses</td>\n",
       "      <td>36</td>\n",
       "    </tr>\n",
       "    <tr>\n",
       "      <th>7</th>\n",
       "      <td>Alexandria Bay</td>\n",
       "      <td>NY</td>\n",
       "      <td>708</td>\n",
       "      <td>US-Canada Border</td>\n",
       "      <td>02/01/2020</td>\n",
       "      <td>Personal Vehicle Passengers</td>\n",
       "      <td>68630</td>\n",
       "    </tr>\n",
       "    <tr>\n",
       "      <th>8</th>\n",
       "      <td>Alexandria Bay</td>\n",
       "      <td>NY</td>\n",
       "      <td>708</td>\n",
       "      <td>US-Canada Border</td>\n",
       "      <td>02/01/2020</td>\n",
       "      <td>Personal Vehicles</td>\n",
       "      <td>31696</td>\n",
       "    </tr>\n",
       "    <tr>\n",
       "      <th>9</th>\n",
       "      <td>Alexandria Bay</td>\n",
       "      <td>NY</td>\n",
       "      <td>708</td>\n",
       "      <td>US-Canada Border</td>\n",
       "      <td>02/01/2020</td>\n",
       "      <td>Truck Containers Empty</td>\n",
       "      <td>1875</td>\n",
       "    </tr>\n",
       "    <tr>\n",
       "      <th>10</th>\n",
       "      <td>Alexandria Bay</td>\n",
       "      <td>NY</td>\n",
       "      <td>708</td>\n",
       "      <td>US-Canada Border</td>\n",
       "      <td>02/01/2020</td>\n",
       "      <td>Truck Containers Full</td>\n",
       "      <td>13160</td>\n",
       "    </tr>\n",
       "    <tr>\n",
       "      <th>11</th>\n",
       "      <td>Alexandria Bay</td>\n",
       "      <td>NY</td>\n",
       "      <td>708</td>\n",
       "      <td>US-Canada Border</td>\n",
       "      <td>02/01/2020</td>\n",
       "      <td>Trucks</td>\n",
       "      <td>14897</td>\n",
       "    </tr>\n",
       "    <tr>\n",
       "      <th>12</th>\n",
       "      <td>Algonac</td>\n",
       "      <td>MI</td>\n",
       "      <td>3814</td>\n",
       "      <td>US-Canada Border</td>\n",
       "      <td>02/01/2020</td>\n",
       "      <td>Personal Vehicle Passengers</td>\n",
       "      <td>5173</td>\n",
       "    </tr>\n",
       "    <tr>\n",
       "      <th>13</th>\n",
       "      <td>Algonac</td>\n",
       "      <td>MI</td>\n",
       "      <td>3814</td>\n",
       "      <td>US-Canada Border</td>\n",
       "      <td>02/01/2020</td>\n",
       "      <td>Personal Vehicles</td>\n",
       "      <td>2701</td>\n",
       "    </tr>\n",
       "    <tr>\n",
       "      <th>14</th>\n",
       "      <td>Ambrose</td>\n",
       "      <td>ND</td>\n",
       "      <td>3410</td>\n",
       "      <td>US-Canada Border</td>\n",
       "      <td>02/01/2020</td>\n",
       "      <td>Personal Vehicle Passengers</td>\n",
       "      <td>274</td>\n",
       "    </tr>\n",
       "    <tr>\n",
       "      <th>15</th>\n",
       "      <td>Ambrose</td>\n",
       "      <td>ND</td>\n",
       "      <td>3410</td>\n",
       "      <td>US-Canada Border</td>\n",
       "      <td>02/01/2020</td>\n",
       "      <td>Personal Vehicles</td>\n",
       "      <td>129</td>\n",
       "    </tr>\n",
       "    <tr>\n",
       "      <th>16</th>\n",
       "      <td>Ambrose</td>\n",
       "      <td>ND</td>\n",
       "      <td>3410</td>\n",
       "      <td>US-Canada Border</td>\n",
       "      <td>02/01/2020</td>\n",
       "      <td>Truck Containers Empty</td>\n",
       "      <td>2</td>\n",
       "    </tr>\n",
       "    <tr>\n",
       "      <th>17</th>\n",
       "      <td>Ambrose</td>\n",
       "      <td>ND</td>\n",
       "      <td>3410</td>\n",
       "      <td>US-Canada Border</td>\n",
       "      <td>02/01/2020</td>\n",
       "      <td>Trucks</td>\n",
       "      <td>2</td>\n",
       "    </tr>\n",
       "    <tr>\n",
       "      <th>18</th>\n",
       "      <td>Andrade</td>\n",
       "      <td>CA</td>\n",
       "      <td>2502</td>\n",
       "      <td>US-Mexico Border</td>\n",
       "      <td>02/01/2020</td>\n",
       "      <td>Pedestrians</td>\n",
       "      <td>115655</td>\n",
       "    </tr>\n",
       "    <tr>\n",
       "      <th>19</th>\n",
       "      <td>Andrade</td>\n",
       "      <td>CA</td>\n",
       "      <td>2502</td>\n",
       "      <td>US-Mexico Border</td>\n",
       "      <td>02/01/2020</td>\n",
       "      <td>Personal Vehicle Passengers</td>\n",
       "      <td>82972</td>\n",
       "    </tr>\n",
       "  </tbody>\n",
       "</table>\n",
       "</div>"
      ],
      "text/plain": [
       "         Port Name State  Port Code            Border        Date  \\\n",
       "0            Alcan    AK       3104  US-Canada Border  02/01/2020   \n",
       "1            Alcan    AK       3104  US-Canada Border  02/01/2020   \n",
       "2            Alcan    AK       3104  US-Canada Border  02/01/2020   \n",
       "3            Alcan    AK       3104  US-Canada Border  02/01/2020   \n",
       "4            Alcan    AK       3104  US-Canada Border  02/01/2020   \n",
       "5   Alexandria Bay    NY        708  US-Canada Border  02/01/2020   \n",
       "6   Alexandria Bay    NY        708  US-Canada Border  02/01/2020   \n",
       "7   Alexandria Bay    NY        708  US-Canada Border  02/01/2020   \n",
       "8   Alexandria Bay    NY        708  US-Canada Border  02/01/2020   \n",
       "9   Alexandria Bay    NY        708  US-Canada Border  02/01/2020   \n",
       "10  Alexandria Bay    NY        708  US-Canada Border  02/01/2020   \n",
       "11  Alexandria Bay    NY        708  US-Canada Border  02/01/2020   \n",
       "12         Algonac    MI       3814  US-Canada Border  02/01/2020   \n",
       "13         Algonac    MI       3814  US-Canada Border  02/01/2020   \n",
       "14         Ambrose    ND       3410  US-Canada Border  02/01/2020   \n",
       "15         Ambrose    ND       3410  US-Canada Border  02/01/2020   \n",
       "16         Ambrose    ND       3410  US-Canada Border  02/01/2020   \n",
       "17         Ambrose    ND       3410  US-Canada Border  02/01/2020   \n",
       "18         Andrade    CA       2502  US-Mexico Border  02/01/2020   \n",
       "19         Andrade    CA       2502  US-Mexico Border  02/01/2020   \n",
       "\n",
       "                        Measure   Value  \n",
       "0   Personal Vehicle Passengers    1414  \n",
       "1             Personal Vehicles     763  \n",
       "2        Truck Containers Empty     412  \n",
       "3         Truck Containers Full     122  \n",
       "4                        Trucks     545  \n",
       "5                Bus Passengers    1174  \n",
       "6                         Buses      36  \n",
       "7   Personal Vehicle Passengers   68630  \n",
       "8             Personal Vehicles   31696  \n",
       "9        Truck Containers Empty    1875  \n",
       "10        Truck Containers Full   13160  \n",
       "11                       Trucks   14897  \n",
       "12  Personal Vehicle Passengers    5173  \n",
       "13            Personal Vehicles    2701  \n",
       "14  Personal Vehicle Passengers     274  \n",
       "15            Personal Vehicles     129  \n",
       "16       Truck Containers Empty       2  \n",
       "17                       Trucks       2  \n",
       "18                  Pedestrians  115655  \n",
       "19  Personal Vehicle Passengers   82972  "
      ]
     },
     "execution_count": 5,
     "metadata": {},
     "output_type": "execute_result"
    }
   ],
   "source": [
    "border.head(20)"
   ]
  },
  {
   "cell_type": "code",
   "execution_count": 6,
   "metadata": {},
   "outputs": [
    {
     "data": {
      "text/html": [
       "<div>\n",
       "<style scoped>\n",
       "    .dataframe tbody tr th:only-of-type {\n",
       "        vertical-align: middle;\n",
       "    }\n",
       "\n",
       "    .dataframe tbody tr th {\n",
       "        vertical-align: top;\n",
       "    }\n",
       "\n",
       "    .dataframe thead th {\n",
       "        text-align: right;\n",
       "    }\n",
       "</style>\n",
       "<table border=\"1\" class=\"dataframe\">\n",
       "  <thead>\n",
       "    <tr style=\"text-align: right;\">\n",
       "      <th></th>\n",
       "      <th>Port Name</th>\n",
       "      <th>State</th>\n",
       "      <th>Port Code</th>\n",
       "      <th>Border</th>\n",
       "      <th>Date</th>\n",
       "      <th>Measure</th>\n",
       "      <th>Value</th>\n",
       "    </tr>\n",
       "  </thead>\n",
       "  <tbody>\n",
       "    <tr>\n",
       "      <th>187849</th>\n",
       "      <td>Roosville</td>\n",
       "      <td>MT</td>\n",
       "      <td>3318</td>\n",
       "      <td>US-Canada Border</td>\n",
       "      <td>01/01/2007</td>\n",
       "      <td>Trucks</td>\n",
       "      <td>1518</td>\n",
       "    </tr>\n",
       "    <tr>\n",
       "      <th>187850</th>\n",
       "      <td>Sumas</td>\n",
       "      <td>WA</td>\n",
       "      <td>3009</td>\n",
       "      <td>US-Canada Border</td>\n",
       "      <td>01/01/2007</td>\n",
       "      <td>Truck Containers Empty</td>\n",
       "      <td>1102</td>\n",
       "    </tr>\n",
       "    <tr>\n",
       "      <th>187851</th>\n",
       "      <td>Naco</td>\n",
       "      <td>AZ</td>\n",
       "      <td>2603</td>\n",
       "      <td>US-Mexico Border</td>\n",
       "      <td>01/01/2007</td>\n",
       "      <td>Personal Vehicle Passengers</td>\n",
       "      <td>73337</td>\n",
       "    </tr>\n",
       "    <tr>\n",
       "      <th>187852</th>\n",
       "      <td>International Falls-Ranier</td>\n",
       "      <td>MN</td>\n",
       "      <td>3604</td>\n",
       "      <td>US-Canada Border</td>\n",
       "      <td>01/01/2007</td>\n",
       "      <td>Bus Passengers</td>\n",
       "      <td>362</td>\n",
       "    </tr>\n",
       "    <tr>\n",
       "      <th>187853</th>\n",
       "      <td>Sherwood</td>\n",
       "      <td>ND</td>\n",
       "      <td>3414</td>\n",
       "      <td>US-Canada Border</td>\n",
       "      <td>01/01/2007</td>\n",
       "      <td>Train Passengers</td>\n",
       "      <td>0</td>\n",
       "    </tr>\n",
       "    <tr>\n",
       "      <th>187854</th>\n",
       "      <td>Presidio</td>\n",
       "      <td>TX</td>\n",
       "      <td>2403</td>\n",
       "      <td>US-Mexico Border</td>\n",
       "      <td>01/01/2007</td>\n",
       "      <td>Buses</td>\n",
       "      <td>0</td>\n",
       "    </tr>\n",
       "    <tr>\n",
       "      <th>187855</th>\n",
       "      <td>Van Buren</td>\n",
       "      <td>ME</td>\n",
       "      <td>108</td>\n",
       "      <td>US-Canada Border</td>\n",
       "      <td>01/01/2007</td>\n",
       "      <td>Rail Containers Empty</td>\n",
       "      <td>208</td>\n",
       "    </tr>\n",
       "    <tr>\n",
       "      <th>187856</th>\n",
       "      <td>Danville</td>\n",
       "      <td>WA</td>\n",
       "      <td>3012</td>\n",
       "      <td>US-Canada Border</td>\n",
       "      <td>01/01/2007</td>\n",
       "      <td>Bus Passengers</td>\n",
       "      <td>113</td>\n",
       "    </tr>\n",
       "    <tr>\n",
       "      <th>187857</th>\n",
       "      <td>Derby Line</td>\n",
       "      <td>VT</td>\n",
       "      <td>209</td>\n",
       "      <td>US-Canada Border</td>\n",
       "      <td>01/01/2007</td>\n",
       "      <td>Pedestrians</td>\n",
       "      <td>272</td>\n",
       "    </tr>\n",
       "    <tr>\n",
       "      <th>187858</th>\n",
       "      <td>Norton</td>\n",
       "      <td>VT</td>\n",
       "      <td>211</td>\n",
       "      <td>US-Canada Border</td>\n",
       "      <td>01/01/2007</td>\n",
       "      <td>Personal Vehicles</td>\n",
       "      <td>5017</td>\n",
       "    </tr>\n",
       "  </tbody>\n",
       "</table>\n",
       "</div>"
      ],
      "text/plain": [
       "                         Port Name State  Port Code            Border  \\\n",
       "187849                   Roosville    MT       3318  US-Canada Border   \n",
       "187850                       Sumas    WA       3009  US-Canada Border   \n",
       "187851                        Naco    AZ       2603  US-Mexico Border   \n",
       "187852  International Falls-Ranier    MN       3604  US-Canada Border   \n",
       "187853                    Sherwood    ND       3414  US-Canada Border   \n",
       "187854                    Presidio    TX       2403  US-Mexico Border   \n",
       "187855                   Van Buren    ME        108  US-Canada Border   \n",
       "187856                    Danville    WA       3012  US-Canada Border   \n",
       "187857                  Derby Line    VT        209  US-Canada Border   \n",
       "187858                      Norton    VT        211  US-Canada Border   \n",
       "\n",
       "              Date                      Measure  Value  \n",
       "187849  01/01/2007                       Trucks   1518  \n",
       "187850  01/01/2007       Truck Containers Empty   1102  \n",
       "187851  01/01/2007  Personal Vehicle Passengers  73337  \n",
       "187852  01/01/2007               Bus Passengers    362  \n",
       "187853  01/01/2007             Train Passengers      0  \n",
       "187854  01/01/2007                        Buses      0  \n",
       "187855  01/01/2007        Rail Containers Empty    208  \n",
       "187856  01/01/2007               Bus Passengers    113  \n",
       "187857  01/01/2007                  Pedestrians    272  \n",
       "187858  01/01/2007            Personal Vehicles   5017  "
      ]
     },
     "execution_count": 6,
     "metadata": {},
     "output_type": "execute_result"
    }
   ],
   "source": [
    "border.tail(10)"
   ]
  },
  {
   "cell_type": "markdown",
   "metadata": {},
   "source": [
    "**Q3: Find the no. of rows and columns**"
   ]
  },
  {
   "cell_type": "code",
   "execution_count": 7,
   "metadata": {},
   "outputs": [
    {
     "data": {
      "text/plain": [
       "(187859, 7)"
      ]
     },
     "execution_count": 7,
     "metadata": {},
     "output_type": "execute_result"
    }
   ],
   "source": [
    "#A: \n",
    "border.shape"
   ]
  },
  {
   "cell_type": "markdown",
   "metadata": {},
   "source": [
    "**Q4: Find column names**"
   ]
  },
  {
   "cell_type": "code",
   "execution_count": 8,
   "metadata": {},
   "outputs": [
    {
     "data": {
      "text/plain": [
       "Index(['Port Name', 'State', 'Port Code', 'Border', 'Date', 'Measure',\n",
       "       'Value'],\n",
       "      dtype='object')"
      ]
     },
     "execution_count": 8,
     "metadata": {},
     "output_type": "execute_result"
    }
   ],
   "source": [
    "#A: \n",
    "border.columns"
   ]
  },
  {
   "cell_type": "markdown",
   "metadata": {},
   "source": [
    "**Q5- Find the no. of nulls in the data**"
   ]
  },
  {
   "cell_type": "code",
   "execution_count": 9,
   "metadata": {
    "scrolled": true
   },
   "outputs": [
    {
     "data": {
      "text/plain": [
       "Port Name    0\n",
       "State        0\n",
       "Port Code    0\n",
       "Border       0\n",
       "Date         0\n",
       "Measure      0\n",
       "Value        0\n",
       "dtype: int64"
      ]
     },
     "execution_count": 9,
     "metadata": {},
     "output_type": "execute_result"
    }
   ],
   "source": [
    "#A: \n",
    "border.isna().sum()"
   ]
  },
  {
   "cell_type": "markdown",
   "metadata": {},
   "source": [
    "**Q6- Find the number of crossings via Canada and Mexico borders**"
   ]
  },
  {
   "cell_type": "code",
   "execution_count": 10,
   "metadata": {
    "scrolled": true
   },
   "outputs": [
    {
     "data": {
      "text/plain": [
       "US-Canada Border    144786\n",
       "US-Mexico Border     43073\n",
       "Name: Border, dtype: int64"
      ]
     },
     "execution_count": 10,
     "metadata": {},
     "output_type": "execute_result"
    }
   ],
   "source": [
    "#A: \n",
    "frequency_border_type = border[\"Border\"].value_counts()\n",
    "frequency_border_type"
   ]
  },
  {
   "cell_type": "markdown",
   "metadata": {},
   "source": [
    "**Q7- Create a pie chart to show the above data**"
   ]
  },
  {
   "cell_type": "code",
   "execution_count": 33,
   "metadata": {},
   "outputs": [
    {
     "data": {
      "text/plain": [
       "Text(0.5, 1.0, 'Frequnecy of Records by Mexico Vs. Canada')"
      ]
     },
     "execution_count": 33,
     "metadata": {},
     "output_type": "execute_result"
    },
    {
     "data": {
      "image/png": "[encoded data removed]",
      "text/plain": [
       "<Figure size 432x288 with 1 Axes>"
      ]
     },
     "metadata": {},
     "output_type": "display_data"
    }
   ],
   "source": [
    "#A: \n",
    "frequency_border_type.plot.pie()\n",
    "\n",
    "plt.title(\"Frequnecy of Records by Mexico Vs. Canada\")"
   ]
  },
  {
   "cell_type": "markdown",
   "metadata": {},
   "source": [
    "**Q8- Find number of crossing by State**"
   ]
  },
  {
   "cell_type": "code",
   "execution_count": 12,
   "metadata": {
    "scrolled": true
   },
   "outputs": [
    {
     "name": "stdout",
     "output_type": "stream",
     "text": [
      "ND    29778\n",
      "WA    25268\n",
      "MT    20642\n",
      "ME    20616\n",
      "TX    19334\n",
      "MN    12029\n",
      "NY    11819\n",
      "AZ    10243\n",
      "CA    10049\n",
      "VT     8807\n",
      "AK     6603\n",
      "MI     5620\n",
      "ID     3594\n",
      "NM     3447\n",
      "OH       10\n",
      "Name: State, dtype: int64\n"
     ]
    },
    {
     "data": {
      "text/plain": [
       "<AxesSubplot:ylabel='State'>"
      ]
     },
     "execution_count": 12,
     "metadata": {},
     "output_type": "execute_result"
    },
    {
     "data": {
      "image/png": "[encoded data removed]",
      "text/plain": [
       "<Figure size 432x288 with 1 Axes>"
      ]
     },
     "metadata": {},
     "output_type": "display_data"
    }
   ],
   "source": [
    "#A: \n",
    "frequency_state_type = border[\"State\"].value_counts()\n",
    "print(frequency_state_type)\n",
    "frequency_state_type.plot.pie()"
   ]
  },
  {
   "cell_type": "markdown",
   "metadata": {},
   "source": [
    "**Q9- Find top 15 ports of entry into the US**"
   ]
  },
  {
   "cell_type": "code",
   "execution_count": 13,
   "metadata": {
    "scrolled": true
   },
   "outputs": [
    {
     "name": "stdout",
     "output_type": "stream",
     "text": [
      "Eastport                      3593\n",
      "Portal                        1896\n",
      "Calexico East                 1896\n",
      "Champlain-Rouses Point        1896\n",
      "Sumas                         1896\n",
      "Buffalo-Niagara Falls         1896\n",
      "Nogales                       1896\n",
      "Calais                        1896\n",
      "Sweetgrass                    1896\n",
      "International Falls-Ranier    1895\n",
      "El Paso                       1894\n",
      "Jackman                       1892\n",
      "Detroit                       1874\n",
      "Port Huron                    1860\n",
      "Otay Mesa                     1857\n",
      "Name: Port Name, dtype: int64\n"
     ]
    }
   ],
   "source": [
    "#A: \n",
    "frequency_port_type = border[\"Port Name\"].value_counts()\n",
    "print(frequency_port_type.head(15))"
   ]
  },
  {
   "cell_type": "markdown",
   "metadata": {},
   "source": [
    "**Q10- Find top 10 ports for entry into the US via Canada**"
   ]
  },
  {
   "cell_type": "code",
   "execution_count": 14,
   "metadata": {},
   "outputs": [
    {
     "name": "stdout",
     "output_type": "stream",
     "text": [
      "Eastport                      3593\n",
      "Champlain-Rouses Point        1896\n",
      "Sumas                         1896\n",
      "Buffalo-Niagara Falls         1896\n",
      "Portal                        1896\n",
      "Calais                        1896\n",
      "Sweetgrass                    1896\n",
      "International Falls-Ranier    1895\n",
      "Jackman                       1892\n",
      "Detroit                       1874\n",
      "Name: Port Name, dtype: int64\n"
     ]
    }
   ],
   "source": [
    "#A: \n",
    "frequency_port_type_canada = border[border[\"Border\"]==\"US-Canada Border\"][\"Port Name\"].value_counts()\n",
    "print(frequency_port_type_canada.head(10))"
   ]
  },
  {
   "cell_type": "markdown",
   "metadata": {},
   "source": [
    "**Q11- Create a bar chart showcasing top 15 ports to enter US via Mexico**"
   ]
  },
  {
   "cell_type": "code",
   "execution_count": 15,
   "metadata": {},
   "outputs": [
    {
     "data": {
      "text/plain": [
       "<AxesSubplot:>"
      ]
     },
     "execution_count": 15,
     "metadata": {},
     "output_type": "execute_result"
    },
    {
     "data": {
      "image/png": "[encoded data removed]",
      "text/plain": [
       "<Figure size 432x288 with 1 Axes>"
      ]
     },
     "metadata": {
      "needs_background": "light"
     },
     "output_type": "display_data"
    }
   ],
   "source": [
    "#A: \n",
    "frequency_port_type_mexico = border[border[\"Border\"]==\"US-Mexico Border\"][\"Port Name\"].value_counts()\n",
    "mexico_top_fifteen = frequency_port_type_mexico.head(15)\n",
    "mexico_top_fifteen.plot.bar(15)\n"
   ]
  },
  {
   "cell_type": "markdown",
   "metadata": {},
   "source": [
    "**Q12- Find the frequency for each of the modes of entry (i.e. personal vehicle, bus etc)**"
   ]
  },
  {
   "cell_type": "code",
   "execution_count": 16,
   "metadata": {
    "scrolled": true
   },
   "outputs": [
    {
     "name": "stdout",
     "output_type": "stream",
     "text": [
      "Personal Vehicles              17454\n",
      "Personal Vehicle Passengers    17417\n",
      "Trucks                         16943\n",
      "Truck Containers Empty         16830\n",
      "Truck Containers Full          16727\n",
      "Buses                          15514\n",
      "Bus Passengers                 15509\n",
      "Pedestrians                    15398\n",
      "Trains                         14065\n",
      "Rail Containers Empty          14044\n",
      "Rail Containers Full           14005\n",
      "Train Passengers               13953\n",
      "Name: Measure, dtype: int64\n"
     ]
    }
   ],
   "source": [
    "#A: \n",
    "frequency_vehicle_type_canada = border[\"Measure\"].value_counts()\n",
    "print(frequency_vehicle_type_canada)"
   ]
  },
  {
   "cell_type": "markdown",
   "metadata": {},
   "source": [
    "**Q13- Find mean, std deviation, median, min and max for Value**"
   ]
  },
  {
   "cell_type": "code",
   "execution_count": 17,
   "metadata": {},
   "outputs": [
    {
     "data": {
      "text/plain": [
       "count    1.878590e+05\n",
       "mean     2.570261e+04\n",
       "std      1.245167e+05\n",
       "min      0.000000e+00\n",
       "25%      0.000000e+00\n",
       "50%      1.290000e+02\n",
       "75%      2.964000e+03\n",
       "max      2.739652e+06\n",
       "Name: Value, dtype: float64"
      ]
     },
     "execution_count": 17,
     "metadata": {},
     "output_type": "execute_result"
    }
   ],
   "source": [
    "#A: \n",
    "border[\"Value\"].describe()"
   ]
  },
  {
   "cell_type": "code",
   "execution_count": 37,
   "metadata": {},
   "outputs": [
    {
     "name": "stdout",
     "output_type": "stream",
     "text": [
      "25702.611698135304\n",
      "124516.6572576561\n",
      "129.0\n",
      "0\n",
      "2739652\n"
     ]
    }
   ],
   "source": [
    "mean_border = border[\"Value\"].mean()\n",
    "std_border = border[\"Value\"].std()\n",
    "median_border = border[\"Value\"].median()\n",
    "min_border = border[\"Value\"].min()\n",
    "max_border = border[\"Value\"].max()\n",
    "\n",
    "print(mean_border)\n",
    "print(std_border)\n",
    "print(median_border)\n",
    "print(min_border)\n",
    "print(max_border)"
   ]
  },
  {
   "cell_type": "markdown",
   "metadata": {},
   "source": [
    "**Q14- Create a boxplot for the Value- What insights can you gather via this boxplot**"
   ]
  },
  {
   "cell_type": "code",
   "execution_count": 39,
   "metadata": {},
   "outputs": [
    {
     "data": {
      "image/png": "[encoded data removed]",
      "text/plain": [
       "<Figure size 432x288 with 1 Axes>"
      ]
     },
     "metadata": {
      "needs_background": "light"
     },
     "output_type": "display_data"
    }
   ],
   "source": [
    "#A: \n",
    "plt.boxplot(border[\"Value\"])\n",
    "plt.show()"
   ]
  },
  {
   "cell_type": "code",
   "execution_count": 40,
   "metadata": {
    "scrolled": true
   },
   "outputs": [
    {
     "data": {
      "text/plain": [
       "<AxesSubplot:>"
      ]
     },
     "execution_count": 40,
     "metadata": {},
     "output_type": "execute_result"
    },
    {
     "data": {
      "image/png": "[encoded data removed]",
      "text/plain": [
       "<Figure size 432x288 with 1 Axes>"
      ]
     },
     "metadata": {
      "needs_background": "light"
     },
     "output_type": "display_data"
    }
   ],
   "source": [
    "border.boxplot(['Value'])\n",
    "\n",
    "# Values of data seem to have high variance across the data set"
   ]
  },
  {
   "cell_type": "code",
   "execution_count": 43,
   "metadata": {},
   "outputs": [
    {
     "data": {
      "text/plain": [
       "array([[<AxesSubplot:title={'center':'Value'}>]], dtype=object)"
      ]
     },
     "execution_count": 43,
     "metadata": {},
     "output_type": "execute_result"
    },
    {
     "data": {
      "image/png": "[encoded data removed]",
      "text/plain": [
       "<Figure size 432x288 with 1 Axes>"
      ]
     },
     "metadata": {
      "needs_background": "light"
     },
     "output_type": "display_data"
    }
   ],
   "source": [
    "border.hist(\"Value\")"
   ]
  },
  {
   "cell_type": "markdown",
   "metadata": {},
   "source": [
    "**Q15- Find average value bought into the US via each of the different modes**"
   ]
  },
  {
   "cell_type": "code",
   "execution_count": 19,
   "metadata": {
    "scrolled": true
   },
   "outputs": [
    {
     "data": {
      "text/plain": [
       "Measure\n",
       "Bus Passengers                   4201.735895\n",
       "Buses                             262.646255\n",
       "Pedestrians                     37276.480972\n",
       "Personal Vehicle Passengers    144799.234484\n",
       "Personal Vehicles               76065.949582\n",
       "Rail Containers Empty            1065.336514\n",
       "Rail Containers Full             1796.995359\n",
       "Train Passengers                  260.151939\n",
       "Trains                             34.542410\n",
       "Truck Containers Empty           2329.437255\n",
       "Truck Containers Full            6354.191427\n",
       "Trucks                           8610.380452\n",
       "Name: Value, dtype: float64"
      ]
     },
     "execution_count": 19,
     "metadata": {},
     "output_type": "execute_result"
    }
   ],
   "source": [
    "#A: \n",
    "\n",
    "averages_by_measure = border.groupby(by=\"Measure\").mean()\n",
    "averages_by_measure[\"Value\"]\n"
   ]
  },
  {
   "cell_type": "markdown",
   "metadata": {},
   "source": [
    "**Q16- Convert Date to Datetime datatype**"
   ]
  },
  {
   "cell_type": "code",
   "execution_count": 20,
   "metadata": {},
   "outputs": [
    {
     "data": {
      "text/plain": [
       "0         02/01/2020\n",
       "1         02/01/2020\n",
       "2         02/01/2020\n",
       "3         02/01/2020\n",
       "4         02/01/2020\n",
       "             ...    \n",
       "187854    01/01/2007\n",
       "187855    01/01/2007\n",
       "187856    01/01/2007\n",
       "187857    01/01/2007\n",
       "187858    01/01/2007\n",
       "Name: Date, Length: 187859, dtype: object"
      ]
     },
     "execution_count": 20,
     "metadata": {},
     "output_type": "execute_result"
    }
   ],
   "source": [
    "border[\"Date\"]"
   ]
  },
  {
   "cell_type": "code",
   "execution_count": 21,
   "metadata": {},
   "outputs": [
    {
     "data": {
      "text/plain": [
       "0        2020-02-01\n",
       "1        2020-02-01\n",
       "2        2020-02-01\n",
       "3        2020-02-01\n",
       "4        2020-02-01\n",
       "            ...    \n",
       "187854   2007-01-01\n",
       "187855   2007-01-01\n",
       "187856   2007-01-01\n",
       "187857   2007-01-01\n",
       "187858   2007-01-01\n",
       "Name: Date, Length: 187859, dtype: datetime64[ns]"
      ]
     },
     "metadata": {},
     "output_type": "display_data"
    }
   ],
   "source": [
    "#A: \n",
    "\n",
    "border_time = pd.to_datetime(border[\"Date\"])\n",
    "display(border_time)"
   ]
  },
  {
   "cell_type": "markdown",
   "metadata": {},
   "source": [
    "**Q17- Can you find the frequency for each date**"
   ]
  },
  {
   "cell_type": "code",
   "execution_count": 22,
   "metadata": {},
   "outputs": [
    {
     "data": {
      "text/plain": [
       "10/01/2010    1356\n",
       "05/01/2010    1356\n",
       "07/01/2010    1356\n",
       "08/01/2010    1356\n",
       "06/01/2010    1356\n",
       "              ... \n",
       "03/01/2018     777\n",
       "01/01/2018     776\n",
       "12/01/2019     773\n",
       "01/01/2020     771\n",
       "12/01/2018     768\n",
       "Name: Date, Length: 158, dtype: int64"
      ]
     },
     "metadata": {},
     "output_type": "display_data"
    }
   ],
   "source": [
    "count_by_date = border[\"Date\"].value_counts()\n",
    "display(count_by_date)"
   ]
  },
  {
   "cell_type": "markdown",
   "metadata": {},
   "source": [
    "**Q18- Find top 5 years in the dataframe**"
   ]
  },
  {
   "cell_type": "code",
   "execution_count": 23,
   "metadata": {},
   "outputs": [
    {
     "data": {
      "text/plain": [
       "2010    16200\n",
       "2007    16056\n",
       "2008    16056\n",
       "2009    16056\n",
       "2015    15984\n",
       "Name: year, dtype: int64"
      ]
     },
     "execution_count": 23,
     "metadata": {},
     "output_type": "execute_result"
    }
   ],
   "source": [
    "#A: # Unsure if this means top years by frequency detailed above? If so, have included below:\n",
    "border['Date'] = pd.to_datetime(border[\"Date\"])\n",
    "border['year'] = border['Date'].dt.year\n",
    "border\n",
    "\n",
    "count_by_date = border[\"year\"].value_counts()\n",
    "count_by_date.head(5)"
   ]
  },
  {
   "cell_type": "code",
   "execution_count": 24,
   "metadata": {},
   "outputs": [],
   "source": [
    "# If you simply mean top year by Year value - see below: \n",
    "border['Date'] = pd.to_datetime(border[\"Date\"])\n",
    "border['year'] = border['Date'].dt.year\n",
    "\n"
   ]
  },
  {
   "cell_type": "markdown",
   "metadata": {},
   "source": [
    "---\n",
    "\n",
    "### Q19: Craft two problem statements about this data that interests you, and then answer it!. You will be graded on quality of questions and answers \n"
   ]
  },
  {
   "cell_type": "markdown",
   "metadata": {},
   "source": [
    "Q1) Whats was our peak month and value for Train Passengers? "
   ]
  },
  {
   "cell_type": "code",
   "execution_count": 25,
   "metadata": {
    "scrolled": true
   },
   "outputs": [
    {
     "data": {
      "text/html": [
       "<div>\n",
       "<style scoped>\n",
       "    .dataframe tbody tr th:only-of-type {\n",
       "        vertical-align: middle;\n",
       "    }\n",
       "\n",
       "    .dataframe tbody tr th {\n",
       "        vertical-align: top;\n",
       "    }\n",
       "\n",
       "    .dataframe thead th {\n",
       "        text-align: right;\n",
       "    }\n",
       "</style>\n",
       "<table border=\"1\" class=\"dataframe\">\n",
       "  <thead>\n",
       "    <tr style=\"text-align: right;\">\n",
       "      <th></th>\n",
       "      <th>Date</th>\n",
       "      <th>Value</th>\n",
       "    </tr>\n",
       "  </thead>\n",
       "  <tbody>\n",
       "    <tr>\n",
       "      <th>44</th>\n",
       "      <td>2020-02-01</td>\n",
       "      <td>3283</td>\n",
       "    </tr>\n",
       "  </tbody>\n",
       "</table>\n",
       "</div>"
      ],
      "text/plain": [
       "         Date  Value\n",
       "44 2020-02-01   3283"
      ]
     },
     "execution_count": 25,
     "metadata": {},
     "output_type": "execute_result"
    }
   ],
   "source": [
    "border_train_top = border[border[\"Measure\"]==\"Train Passengers\"]\n",
    "border_train_top[[\"Date\",\"Value\"]].head(1)"
   ]
  },
  {
   "cell_type": "markdown",
   "metadata": {},
   "source": [
    "Just for fun - any correlation between variables...."
   ]
  },
  {
   "cell_type": "code",
   "execution_count": 26,
   "metadata": {},
   "outputs": [
    {
     "data": {
      "text/plain": [
       "Text(0.5, 1.0, 'Heatmap for Correlations')"
      ]
     },
     "execution_count": 26,
     "metadata": {},
     "output_type": "execute_result"
    },
    {
     "data": {
      "image/png": "[encoded data removed]",
      "text/plain": [
       "<Figure size 432x288 with 2 Axes>"
      ]
     },
     "metadata": {
      "needs_background": "light"
     },
     "output_type": "display_data"
    }
   ],
   "source": [
    "sns.heatmap(border.corr(), annot = True)\n",
    "plt.title(\"Heatmap for Correlations\")"
   ]
  },
  {
   "cell_type": "markdown",
   "metadata": {},
   "source": [
    "... doesnt look like particularly associative. "
   ]
  },
  {
   "cell_type": "markdown",
   "metadata": {},
   "source": [
    "Q2) Average Value for Trucks"
   ]
  },
  {
   "cell_type": "code",
   "execution_count": 30,
   "metadata": {},
   "outputs": [
    {
     "data": {
      "text/plain": [
       "8610.380452104113"
      ]
     },
     "metadata": {},
     "output_type": "display_data"
    }
   ],
   "source": [
    "border_truck = border[border[\"Measure\"]==\"Trucks\"]\n",
    "avg_trucks = border_truck[\"Value\"].mean()\n",
    "display(avg_trucks)"
   ]
  }
 ],
 "metadata": {
  "kernelspec": {
   "display_name": "Python 3",
   "language": "python",
   "name": "python3"
  },
  "language_info": {
   "codemirror_mode": {
    "name": "ipython",
    "version": 3
   },
   "file_extension": ".py",
   "mimetype": "text/x-python",
   "name": "python",
   "nbconvert_exporter": "python",
   "pygments_lexer": "ipython3",
   "version": "3.8.8"
  }
 },
 "nbformat": 4,
 "nbformat_minor": 4
}
